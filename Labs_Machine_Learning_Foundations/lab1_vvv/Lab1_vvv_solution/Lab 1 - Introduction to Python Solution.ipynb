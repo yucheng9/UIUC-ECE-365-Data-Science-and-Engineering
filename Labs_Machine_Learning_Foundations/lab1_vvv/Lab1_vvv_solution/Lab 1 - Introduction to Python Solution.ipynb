{
 "cells": [
  {
   "cell_type": "markdown",
   "metadata": {},
   "source": [
    "# Lab 1: Introduction to Python"
   ]
  },
  {
   "cell_type": "markdown",
   "metadata": {},
   "source": [
    "Welcome to the Fall 2019 offering of ECE365: Data Science and Engineering.\n",
    "\n",
    "In this course, we will be using Python 3 as our programming environment for our labs. \n",
    "\n",
    "The labs will be distributed as <a href=\"https://jupyter.org/\">Jupyter (IPython) Notebooks</a>, which are a nice way to organize Python code, outputs and notes. In fact, this lab was made as a Jupyter Notebook! "
   ]
  },
  {
   "cell_type": "markdown",
   "metadata": {},
   "source": [
    "For this course, we expect mathematical maturity at the level of Junior ECE students: familiarity with basic probability (at the level of ECE 313) and basic linear algebra (i.e. you know how to multiply matrices, transposes, determinants, equations in matrix form, etc.). \n",
    "\n",
    "For the programming assignments, we do not expect you to be familiar with Python before the course. However, we expect you to have some knowledge of programming (i.e. you know what a function is, if statements, loops, etc.). "
   ]
  },
  {
   "cell_type": "markdown",
   "metadata": {},
   "source": [
    "**This lab will not be graded -- it serves to introduce you to Python. Do not turn in this lab.**"
   ]
  },
  {
   "cell_type": "markdown",
   "metadata": {},
   "source": [
    "## Using Jupyter Notebooks"
   ]
  },
  {
   "cell_type": "markdown",
   "metadata": {},
   "source": [
    "An Jupyter notebook consists of a collection of *cells*. Cells are blocks of code, Markdown (text with formatting, can use HTML) or headings.  Generally, problem statements and directions will be written in cells made of Markdown and headings.\n",
    "\n",
    "To insert a cell, use the Insert menu, and you can insert a cell above or below the current cell. To change the type of cell (code or Markdown), use the dropdown on the toolbar or go to Cell->Cell Type->(Desired Type of cell). A cell can be deleted by using the Edit menu.\n",
    "\n",
    "To run a code cell, click on it and press the Play button (or hit Shift+Enter). You can also run all cells or run a cell from the cell menu. You can run the cells in different orders than they appear in the notebook (though for readability, you want your notebook to usually be executed from the top down). Note that code cells do support tab completion.\n"
   ]
  },
  {
   "cell_type": "code",
   "execution_count": 1,
   "metadata": {},
   "outputs": [
    {
     "name": "stdout",
     "output_type": "stream",
     "text": [
      "Hello World!\n"
     ]
    }
   ],
   "source": [
    "# This is an example of a code cell. You can put Python code here, and run it. # denotes the start of a comment in Python.\n",
    "# The order in which you ran the cells will be put in bracket next to In [], such as In[2]\n",
    "# and the corresponding output will appear below. \n",
    "\n",
    "# Example (run this):\n",
    "print(\"Hello World!\")\n",
    "\n",
    "# Note that in Python 3, \"print\" is used as a function.\n",
    "# In Python 2, you need to write\n",
    "# print \"Hello World!\""
   ]
  },
  {
   "cell_type": "markdown",
   "metadata": {},
   "source": [
    "To edit a Markdown cell or Heading cell, double click on it. When you're done, press the Play button (or hit Shift+Enter) to display it with appropriate formatting."
   ]
  },
  {
   "cell_type": "markdown",
   "metadata": {},
   "source": [
    "Jupyter Notebooks have checkpoints built in (i.e. they save every few minutes automatically), but you can also save them using the save icon. \n",
    "\n",
    "\n",
    "You can find many examples of Jupyter Notebooks <a href=\"https://github.com/jupyter/jupyter/wiki/A-gallery-of-interesting-Jupyter-Notebooks\">here</a>. "
   ]
  },
  {
   "cell_type": "markdown",
   "metadata": {},
   "source": [
    "## Introduction to Python"
   ]
  },
  {
   "cell_type": "markdown",
   "metadata": {},
   "source": [
    "For this course, we will only be using a small subset of Python. A good tutorial for the parts of the Python language you will need is available at <a href=\"http://swcarpentry.github.io/python-novice-inflammation/\">Software Carpentry</a> (primarily sections 1,2,5,6). I encourage you to complete the Software Carpentry tutorial. \n",
    "\n",
    "Another good resource is the <a href=\"https://github.com/illinois-cse/python-sp17\">UIUC CSE Workshops</a> (particularly Introduction to Python, Numerical & Scientific Programming with Python and Plotting in Python).\n",
    "\n",
    "If you want the whole nine yards, you can look at the <a href=\"https://docs.python.org/3.6/tutorial/index.html\">official Python documentation</a> or <a href=\"https://learncodethehardway.org/python/\">Learn Python the Hard Way</a>. \n",
    "\n",
    "Python is a common choice for big data work because it is easy to learn, has reasonable performance and there is a wide variety of packages available to do <a href=\"https://xkcd.com/353/\">pretty much anything you want</a>:\n",
    "<img src=\"xkcd.png\">"
   ]
  },
  {
   "cell_type": "markdown",
   "metadata": {},
   "source": [
    "In the first part of the course, we will be using the following packages (libraries, modules):\n",
    "* <a href=\"http://www.numpy.org/\">NumPy</a> - For matrices, vectors, mathematical operations on them, etc.\n",
    "* <a href=\"http://www.scipy.org/scipylib/index.html\">SciPy</a> - More math functions (e.g. calculate distances between data points)\n",
    "* <a href=\"http://scikit-learn.org/stable/\">Scikit-Learn</a> - Smorgasboard of machine learning tools (SVMs, K-Means, K-NN, PCA etc.)\n",
    "* <a href=\"http://matplotlib.org/\">Matplotlib</a> - Easy way to make plots."
   ]
  },
  {
   "cell_type": "markdown",
   "metadata": {},
   "source": [
    "### Basic Language Features"
   ]
  },
  {
   "cell_type": "markdown",
   "metadata": {},
   "source": [
    "To load a library \"numpy\", you can use \"import numpy\". Then, functions in numpy can be accessed as numpy.function().\n",
    "\n",
    "However, typing out the whole library name every time is annoying. So, we can use \"as\" to give it our own name. "
   ]
  },
  {
   "cell_type": "code",
   "execution_count": 2,
   "metadata": {},
   "outputs": [],
   "source": [
    "import numpy as np"
   ]
  },
  {
   "cell_type": "markdown",
   "metadata": {},
   "source": [
    "This loads numpy with the name np. If we want to calculate $\\sqrt{10}$ using numpy's square root function, we can now do"
   ]
  },
  {
   "cell_type": "code",
   "execution_count": 3,
   "metadata": {},
   "outputs": [
    {
     "data": {
      "text/plain": [
       "3.1622776601683795"
      ]
     },
     "execution_count": 3,
     "metadata": {},
     "output_type": "execute_result"
    }
   ],
   "source": [
    "np.sqrt(10)"
   ]
  },
  {
   "cell_type": "markdown",
   "metadata": {},
   "source": [
    "Unlike C, Python does not require you to declare variables. To make a variable x with value $5^2$, we can simply do"
   ]
  },
  {
   "cell_type": "code",
   "execution_count": 4,
   "metadata": {},
   "outputs": [
    {
     "name": "stdout",
     "output_type": "stream",
     "text": [
      "25\n"
     ]
    }
   ],
   "source": [
    "x=5**2\n",
    "print(x)"
   ]
  },
  {
   "cell_type": "markdown",
   "metadata": {},
   "source": [
    "Scopes of code are also determined by indentation. For example, the following C code, which uses a loop to print the numbers from 1 to 10:\n",
    "```\n",
    "int i;\n",
    "printf(\"Let's print the numbers 1 to 10!\\n\");\n",
    "for (i=1;i<=10;i++)\n",
    "{\n",
    "    printf(\"%i\\n\",i);\n",
    "}\n",
    "printf(\"Done!\\n\");\n",
    "```\n",
    "becomes"
   ]
  },
  {
   "cell_type": "code",
   "execution_count": 5,
   "metadata": {},
   "outputs": [
    {
     "name": "stdout",
     "output_type": "stream",
     "text": [
      "Let's print the numbers 1 to 10!\n",
      "1\n",
      "2\n",
      "3\n",
      "4\n",
      "5\n",
      "6\n",
      "7\n",
      "8\n",
      "9\n",
      "10\n",
      "Done!\n"
     ]
    }
   ],
   "source": [
    "print(\"Let's print the numbers 1 to 10!\")\n",
    "for i in range(1,11):\n",
    "    print (i)\n",
    "print (\"Done!\")"
   ]
  },
  {
   "cell_type": "markdown",
   "metadata": {},
   "source": [
    "Note that we did not need semicolons, and tab(=4 spaces) was used rather than braces to denote the body of the loop. `range(n)` gives a class which contains a list of numbers $0,1,\\ldots,n-1$ and `range(n,m)` gives a class which contains a list of numbers $n,n+1,\\ldots,m-2,m-1$. The keyword `in` makes `i` take on all the values in `range(1,11)`.\n",
    "\n",
    "We can also do if-else statements. Consider the following C code:\n",
    "```\n",
    "x=2;\n",
    "if (x==0)\n",
    "{\n",
    "    printf(\"zero\\n\");\n",
    "} else if (x==1)\n",
    "{\n",
    "    printf(\"one\");\n",
    "} else \n",
    "{\n",
    "    printf(\"not zero or one\");\n",
    "}\n",
    "```\n",
    "\n",
    "In Python, we use indentation rather than braces. Else if is also shortened to elif:"
   ]
  },
  {
   "cell_type": "code",
   "execution_count": 6,
   "metadata": {},
   "outputs": [
    {
     "name": "stdout",
     "output_type": "stream",
     "text": [
      "one\n"
     ]
    }
   ],
   "source": [
    "x=1\n",
    "if x==0:\n",
    "    print (\"zero\")\n",
    "elif x==1:\n",
    "    print (\"one\")\n",
    "else:\n",
    "    print (\"not zero or one\")"
   ]
  },
  {
   "cell_type": "markdown",
   "metadata": {},
   "source": [
    "Here's a little exercise for you to try using a for loop and if statement. Note that logical and, or and not are given by ``and``, ``or``, ``not`` respectively in Python (rather than ``&&,||,!`` in C). The ``break`` and ``continue`` keywords work as in C. Modulus is ``%``. \n",
    "\n",
    "Exercise 1 (<a href=\"http://c2.com/cgi/wiki?FizzBuzzTest\">FizzBuzz</a>): Prints the numbers from 1 to 100. For multiples of three, print “Fizz” instead of the number and for the multiples of five print “Buzz” instead. For numbers which are multiples of both three and five, print “FizzBuzz”."
   ]
  },
  {
   "cell_type": "code",
   "execution_count": 7,
   "metadata": {},
   "outputs": [
    {
     "name": "stdout",
     "output_type": "stream",
     "text": [
      "1\n",
      "2\n",
      "Fizz\n",
      "4\n",
      "Buzz\n",
      "Fizz\n",
      "7\n",
      "8\n",
      "Fizz\n",
      "Buzz\n",
      "11\n",
      "Fizz\n",
      "13\n",
      "14\n",
      "FizzBuzz\n",
      "16\n",
      "17\n",
      "Fizz\n",
      "19\n",
      "Buzz\n",
      "Fizz\n",
      "22\n",
      "23\n",
      "Fizz\n",
      "Buzz\n",
      "26\n",
      "Fizz\n",
      "28\n",
      "29\n",
      "FizzBuzz\n",
      "31\n",
      "32\n",
      "Fizz\n",
      "34\n",
      "Buzz\n",
      "Fizz\n",
      "37\n",
      "38\n",
      "Fizz\n",
      "Buzz\n",
      "41\n",
      "Fizz\n",
      "43\n",
      "44\n",
      "FizzBuzz\n",
      "46\n",
      "47\n",
      "Fizz\n",
      "49\n",
      "Buzz\n",
      "Fizz\n",
      "52\n",
      "53\n",
      "Fizz\n",
      "Buzz\n",
      "56\n",
      "Fizz\n",
      "58\n",
      "59\n",
      "FizzBuzz\n",
      "61\n",
      "62\n",
      "Fizz\n",
      "64\n",
      "Buzz\n",
      "Fizz\n",
      "67\n",
      "68\n",
      "Fizz\n",
      "Buzz\n",
      "71\n",
      "Fizz\n",
      "73\n",
      "74\n",
      "FizzBuzz\n",
      "76\n",
      "77\n",
      "Fizz\n",
      "79\n",
      "Buzz\n",
      "Fizz\n",
      "82\n",
      "83\n",
      "Fizz\n",
      "Buzz\n",
      "86\n",
      "Fizz\n",
      "88\n",
      "89\n",
      "FizzBuzz\n",
      "91\n",
      "92\n",
      "Fizz\n",
      "94\n",
      "Buzz\n",
      "Fizz\n",
      "97\n",
      "98\n",
      "Fizz\n",
      "Buzz\n"
     ]
    }
   ],
   "source": [
    "#Put your code here\n",
    "for x in range(1,101):\n",
    "    if (x%3==0) and (x%5==0):\n",
    "        print (\"FizzBuzz\")\n",
    "    elif (x%3==0):\n",
    "        print (\"Fizz\")\n",
    "    elif (x%5==0):\n",
    "        print (\"Buzz\")\n",
    "    else:\n",
    "        print (x)"
   ]
  },
  {
   "cell_type": "markdown",
   "metadata": {},
   "source": [
    "Nesting loops works the same way that it does in C:"
   ]
  },
  {
   "cell_type": "code",
   "execution_count": 8,
   "metadata": {},
   "outputs": [
    {
     "name": "stdout",
     "output_type": "stream",
     "text": [
      "( 1 , 1 ) \n",
      "( 1 , 2 ) \n",
      "( 1 , 3 ) \n",
      "( 1 , 4 ) \n",
      "\n",
      "\n",
      "( 2 , 1 ) \n",
      "( 2 , 2 ) \n",
      "( 2 , 3 ) \n",
      "( 2 , 4 ) \n",
      "\n",
      "\n",
      "( 3 , 1 ) \n",
      "( 3 , 2 ) \n",
      "( 3 , 3 ) \n",
      "( 3 , 4 ) \n",
      "\n",
      "\n",
      "( 4 , 1 ) \n",
      "( 4 , 2 ) \n",
      "( 4 , 3 ) \n",
      "( 4 , 4 ) \n",
      "\n",
      "\n"
     ]
    }
   ],
   "source": [
    "for row in range(1,5):\n",
    "    for col in range(1,5):\n",
    "        print (\"(\",row,\",\",col,\") \",)\n",
    "    print (\"\\n\")"
   ]
  },
  {
   "cell_type": "markdown",
   "metadata": {},
   "source": [
    "Most arithmetic works the same way as it does in C. \n",
    "\n",
    "For Python 2, one thing \"quirk\" is in division: if both numbers are integers, the result will be an integer. While this is consistent with int/int or long/long in C, it can be confusing since we don't declare things to have a type in Python.\n",
    "\n",
    "5/9 will result in 0 in Python 2.\n",
    "\n",
    "5.0/9 will be 0.5555555555555556 in Python 2.\n",
    "\n",
    "You can \"fix\" this using Python 3.0. Try this example in Python 3:"
   ]
  },
  {
   "cell_type": "code",
   "execution_count": 9,
   "metadata": {},
   "outputs": [
    {
     "data": {
      "text/plain": [
       "0.5555555555555556"
      ]
     },
     "execution_count": 9,
     "metadata": {},
     "output_type": "execute_result"
    }
   ],
   "source": [
    "5/9"
   ]
  },
  {
   "cell_type": "code",
   "execution_count": 10,
   "metadata": {},
   "outputs": [
    {
     "data": {
      "text/plain": [
       "0.5555555555555556"
      ]
     },
     "execution_count": 10,
     "metadata": {},
     "output_type": "execute_result"
    }
   ],
   "source": [
    "5.0/9"
   ]
  },
  {
   "cell_type": "markdown",
   "metadata": {},
   "source": [
    "Most useful code consists of functions. These are declared with the ``def`` keyword. For example, lets say we didn't know that $x^2$ could be calculated in Python as ``x**2`` and we wanted to write a function ``square`` to do this:"
   ]
  },
  {
   "cell_type": "code",
   "execution_count": 11,
   "metadata": {},
   "outputs": [],
   "source": [
    "def square(x):\n",
    "    s=x*x\n",
    "    return s"
   ]
  },
  {
   "cell_type": "markdown",
   "metadata": {},
   "source": [
    "And we can call this function to calculate $4^2$ as"
   ]
  },
  {
   "cell_type": "code",
   "execution_count": 12,
   "metadata": {},
   "outputs": [
    {
     "data": {
      "text/plain": [
       "16"
      ]
     },
     "execution_count": 12,
     "metadata": {},
     "output_type": "execute_result"
    }
   ],
   "source": [
    "square(4)"
   ]
  },
  {
   "cell_type": "markdown",
   "metadata": {},
   "source": [
    "While not necessary for the first part of the course, it may be useful to learn how <a href=\"https://www.jeffknupp.com/blog/2012/11/13/is-python-callbyvalue-or-callbyreference-neither/\">functions treat their parameters in Python</a>. \n",
    "\n"
   ]
  },
  {
   "cell_type": "markdown",
   "metadata": {},
   "source": [
    "Now, we need to talk about lists. For example, we can have a list of numbers $0,\\ldots,5$, $a$:"
   ]
  },
  {
   "cell_type": "code",
   "execution_count": 13,
   "metadata": {},
   "outputs": [],
   "source": [
    "a=[0,1,2,3,4,5]"
   ]
  },
  {
   "cell_type": "markdown",
   "metadata": {},
   "source": [
    "or more succinctly"
   ]
  },
  {
   "cell_type": "code",
   "execution_count": 14,
   "metadata": {},
   "outputs": [],
   "source": [
    "a=list(range(6))"
   ]
  },
  {
   "cell_type": "code",
   "execution_count": 15,
   "metadata": {},
   "outputs": [
    {
     "name": "stdout",
     "output_type": "stream",
     "text": [
      "[0, 1, 2, 3, 4, 5]\n"
     ]
    }
   ],
   "source": [
    "print (a)"
   ]
  },
  {
   "cell_type": "markdown",
   "metadata": {},
   "source": [
    "Lists have indices starting from 0."
   ]
  },
  {
   "cell_type": "code",
   "execution_count": 16,
   "metadata": {},
   "outputs": [
    {
     "name": "stdout",
     "output_type": "stream",
     "text": [
      "0 1 4\n"
     ]
    }
   ],
   "source": [
    "print (a[0],a[1],a[4])"
   ]
  },
  {
   "cell_type": "markdown",
   "metadata": {},
   "source": [
    "But you can also access them backwards with negative numbers"
   ]
  },
  {
   "cell_type": "code",
   "execution_count": 17,
   "metadata": {},
   "outputs": [
    {
     "name": "stdout",
     "output_type": "stream",
     "text": [
      "0 5 4\n"
     ]
    }
   ],
   "source": [
    "print (a[0],a[-1],a[-2])"
   ]
  },
  {
   "cell_type": "markdown",
   "metadata": {},
   "source": [
    "Like MATLAB, you can *slice* a list with start:end:step (in MATLAB it is start:step:end). This gives you a list consisting of the elements start, start+step, start + 2 step, ..., up to end. Omitting step will give step=1. Omitting start and end will give the beginning and end of the array respectively. For example, to print the even indexed elements:"
   ]
  },
  {
   "cell_type": "code",
   "execution_count": 18,
   "metadata": {},
   "outputs": [
    {
     "name": "stdout",
     "output_type": "stream",
     "text": [
      "[0, 2, 4]\n"
     ]
    }
   ],
   "source": [
    "print (a[::2])"
   ]
  },
  {
   "cell_type": "markdown",
   "metadata": {},
   "source": [
    "and to access a[1],a[2]"
   ]
  },
  {
   "cell_type": "code",
   "execution_count": 19,
   "metadata": {},
   "outputs": [
    {
     "name": "stdout",
     "output_type": "stream",
     "text": [
      "[1, 2]\n"
     ]
    }
   ],
   "source": [
    "print (a[1:3])"
   ]
  },
  {
   "cell_type": "markdown",
   "metadata": {},
   "source": [
    "And you can modify the list through a slice"
   ]
  },
  {
   "cell_type": "code",
   "execution_count": 20,
   "metadata": {},
   "outputs": [
    {
     "name": "stdout",
     "output_type": "stream",
     "text": [
      "[0, 6, 7, 3, 4, 5]\n"
     ]
    }
   ],
   "source": [
    "a[1:3]=[6,7]\n",
    "print (a)"
   ]
  },
  {
   "cell_type": "markdown",
   "metadata": {},
   "source": [
    "Exercise 2: Write a function `rev(x)` which reverses an input list `x` (use a slice)."
   ]
  },
  {
   "cell_type": "code",
   "execution_count": 21,
   "metadata": {},
   "outputs": [],
   "source": [
    "def rev(x):\n",
    "    return x[::-1]"
   ]
  },
  {
   "cell_type": "code",
   "execution_count": 22,
   "metadata": {},
   "outputs": [
    {
     "name": "stdout",
     "output_type": "stream",
     "text": [
      "!dlrow olleh\n",
      "hello world!\n"
     ]
    }
   ],
   "source": [
    "x=\"hello world!\" #strings aren't lists, but you can slice them. \n",
    "print (rev(x))\n",
    "print (x)"
   ]
  },
  {
   "cell_type": "markdown",
   "metadata": {},
   "source": [
    "**Be careful with \"copying\" items in Python.** Python uses something called <a href=\"https://docs.python.org/3.6/library/copy.html\">deep and shallow copies</a>. Roughly speaking, when you do\n",
    "```\n",
    "y=x\n",
    "```\n",
    "`y` points to the same thing as `x`. If `x` is a compound object (e.g. a list), then changing y can change x.\n",
    "\n",
    "To avoid this, use \n",
    "```\n",
    "import copy\n",
    "y=copy.copy(x) # shallow copy\n",
    "y=copy.deepcopy(x) # deep copy\n",
    "```\n",
    "\n",
    "which makes a deep copy (or an appropriate copy constructor). \n",
    "\n",
    "Note that `is` will return True if two variables point to the same object, `==` if the objects referred to by the variables are equal."
   ]
  },
  {
   "cell_type": "code",
   "execution_count": 38,
   "metadata": {},
   "outputs": [
    {
     "name": "stdout",
     "output_type": "stream",
     "text": [
      "x is y: True\n",
      "x= 5\n",
      "y= 2\n",
      "x is y: True\n",
      "x= [4, 2, 6]\n",
      "y= [4, 2, 6]\n",
      "x is y: True\n",
      "x= [[4, 5, 6], 0]\n",
      "y= [[4, 5, 6], 2]\n",
      "x is y: True\n",
      "x= [[4, 5, 6], 0]\n",
      "y= [[4, 5, 6], 2]\n"
     ]
    }
   ],
   "source": [
    "# Simple \n",
    "x=5\n",
    "y=x\n",
    "print (\"x is y:\", x is y)\n",
    "y=2\n",
    "print (\"x=\",x)\n",
    "print (\"y=\",y)\n",
    "\n",
    "# A list\n",
    "x=[4,5,6]\n",
    "y=x\n",
    "print (\"x is y:\", x is y)\n",
    "y[1]=2\n",
    "print (\"x=\",x)\n",
    "print (\"y=\",y)\n",
    "\n",
    "# Copying a list with copy.copy\n",
    "import copy\n",
    "x=[[4,5,6],0]\n",
    "y=copy.copy(x)\n",
    "print (\"x is y:\", x[1] is y[1])\n",
    "y[1]=2\n",
    "print (\"x=\",x)\n",
    "print (\"y=\",y)\n",
    "\n",
    "# Copying a list with an appropriate constructor\n",
    "x=[[4,5,6],0]\n",
    "y=copy.deepcopy(x)\n",
    "print (\"x is y:\", x[1] is y[1])\n",
    "y[1]=2\n",
    "print (\"x=\",x)\n",
    "print (\"y=\",y)"
   ]
  },
  {
   "cell_type": "markdown",
   "metadata": {},
   "source": [
    "### The NumPy Library"
   ]
  },
  {
   "cell_type": "markdown",
   "metadata": {},
   "source": [
    "NumPy is the library which gives us the numpy array, and along with its partner in crime, SciPy, gives us a bunch of linear algebra tools. A quick tutorial is available <a href=\"https://docs.scipy.org/doc/numpy/user/quickstart.html\">here</a>. For those who are used to MATLAB, some common paradigms are translated from MATLAB to numpy <a href=\"https://docs.scipy.org/doc/numpy/user/numpy-for-matlab-users.html\">here</a>. I recommend you read this documentation. This is by no means an exhaustive list of functions you will be using from numpy in the course.\n",
    "\n",
    "You can load the `numpy` library with the name `np` with\n",
    "```\n",
    "import numpy as np\n",
    "```\n",
    "which we did earlier."
   ]
  },
  {
   "cell_type": "markdown",
   "metadata": {},
   "source": [
    "The fundamental data type we will be using is the numpy array, which can represent vectors, matrices, tensors, etc. You can make a numpy array in several ways:\n",
    "```\n",
    "np.zeros( k ), np.ones(k) : make a vector of k zeros\n",
    "np.zeros ( (k,l) ) , np.ones( (k,l) ): make a matrix with k rows and l columns\n",
    "np.array( list ) : make a numpy array from list or matrix\n",
    "np.arange (stop) : make a vector of numbers 0,1,...,stop-1 \n",
    "np.copy(m) : make a copy of numpy array m\n",
    "```\n",
    "\n",
    "You can enter a matrix in as [[a,b],[c,d]] to get $\\begin{bmatrix} a & b \\\\ c & d \\end{bmatrix}$. A vector can be entered as [a,b,c]. Some examples are given below. "
   ]
  },
  {
   "cell_type": "code",
   "execution_count": 24,
   "metadata": {},
   "outputs": [
    {
     "name": "stdout",
     "output_type": "stream",
     "text": [
      "a= [0. 0. 0. 0. 0.]\n",
      "m= [[1. 1.]\n",
      " [1. 1.]\n",
      " [1. 1.]]\n",
      "v= [1 2]\n",
      "n= [[1 2]\n",
      " [3 4]]\n"
     ]
    }
   ],
   "source": [
    "a=np.zeros(5)\n",
    "print (\"a=\",a)\n",
    "m = np.ones( (3,2))\n",
    "print (\"m=\",m)\n",
    "v=np.array([1,2])\n",
    "print (\"v=\",v)\n",
    "n= np.array([[1,2],[3,4]])\n",
    "print (\"n=\",n)"
   ]
  },
  {
   "cell_type": "markdown",
   "metadata": {},
   "source": [
    "You can get the shape and size of an array using .shape and .size"
   ]
  },
  {
   "cell_type": "code",
   "execution_count": 25,
   "metadata": {},
   "outputs": [
    {
     "name": "stdout",
     "output_type": "stream",
     "text": [
      "v= [1 2]\n",
      "v.shape= (2,) v.size= 2\n",
      "n= [[1 2]\n",
      " [3 4]]\n",
      "n.shape= (2, 2) n.size= 4\n"
     ]
    }
   ],
   "source": [
    "print (\"v=\",v)\n",
    "print (\"v.shape=\",v.shape,\"v.size=\",v.size)\n",
    "print (\"n=\",n)\n",
    "print (\"n.shape=\",n.shape,\"n.size=\",n.size)"
   ]
  },
  {
   "cell_type": "markdown",
   "metadata": {},
   "source": [
    "Note that the vector is specified as (length,). This is a useful (though counterintuitive) feature of numpy: it does not distinguish between row and column vectors, but automatically interprets the math by the way it makes sense. \n",
    "\n",
    "You can also reshape an array using ```np.reshape```."
   ]
  },
  {
   "cell_type": "code",
   "execution_count": 26,
   "metadata": {},
   "outputs": [
    {
     "name": "stdout",
     "output_type": "stream",
     "text": [
      "The Numbers 1-6 as a Vector: [1 2 3 4 5 6]\n",
      "The Numbers 1-6 as a matrix: [[1 2 3]\n",
      " [4 5 6]]\n",
      "The Numbers 1-6 as another matrix: [[1 2]\n",
      " [3 4]\n",
      " [5 6]]\n"
     ]
    }
   ],
   "source": [
    "onethrough6=np.arange(6)+1\n",
    "print (\"The Numbers 1-6 as a Vector:\", onethrough6)\n",
    "print (\"The Numbers 1-6 as a matrix:\", np.reshape(onethrough6,(2,3)))\n",
    "print (\"The Numbers 1-6 as another matrix:\", np.reshape(onethrough6,(3,-1))) # -1 will determine the last dim. automatically"
   ]
  },
  {
   "cell_type": "markdown",
   "metadata": {},
   "source": [
    "We can transpose a matrix by using .transpose(). But it doesn't do anything for vectors."
   ]
  },
  {
   "cell_type": "code",
   "execution_count": 27,
   "metadata": {},
   "outputs": [
    {
     "name": "stdout",
     "output_type": "stream",
     "text": [
      "v= [1 2]\n",
      "v.transpose()= [1 2]\n",
      "n= [[1 2]\n",
      " [3 4]]\n",
      "n.transpose()= [[1 3]\n",
      " [2 4]]\n"
     ]
    }
   ],
   "source": [
    "print (\"v=\",v)\n",
    "print (\"v.transpose()=\",v.transpose()) # this is just v, because numpy doesnt distinguish between row and column vectors\n",
    "print (\"n=\",n )\n",
    "print (\"n.transpose()=\",n.transpose()) # this is n^T"
   ]
  },
  {
   "cell_type": "markdown",
   "metadata": {},
   "source": [
    "Array math is by default elementwise. "
   ]
  },
  {
   "cell_type": "code",
   "execution_count": 28,
   "metadata": {},
   "outputs": [
    {
     "name": "stdout",
     "output_type": "stream",
     "text": [
      "m1= [[1 2]\n",
      " [3 4]]\n",
      "m2= [[5 6]\n",
      " [7 8]]\n",
      "m1+m2 [[ 6  8]\n",
      " [10 12]]\n",
      "m1-m2 [[-4 -4]\n",
      " [-4 -4]]\n",
      "m1/m2 elementwise [[0.2        0.33333333]\n",
      " [0.42857143 0.5       ]]\n",
      "m1*m2 elementwise [[ 5 12]\n",
      " [21 32]]\n"
     ]
    }
   ],
   "source": [
    "m1= np.array([[1,2],[3,4]])\n",
    "m2= np.array([[5,6],[7,8]])\n",
    "print (\"m1=\",m1)\n",
    "print (\"m2=\",m2)\n",
    "print (\"m1+m2\",m1+m2)\n",
    "print (\"m1-m2\",m1-m2)\n",
    "print (\"m1/m2 elementwise\",m1/m2)\n",
    "print (\"m1*m2 elementwise\",m1*m2)"
   ]
  },
  {
   "cell_type": "markdown",
   "metadata": {},
   "source": [
    "To do proper matrix multiplication, use dot. If $A,B$ are matrices, A.dot(B) calculates $AB$. For a vector v (which mathematically we always assume is a column vector), and matrix A, $v^T A$ is calculated as v.dot(A) and $A v$ is calculated as A.dot(v). \n",
    "\n",
    "For two vectors v,w, the dot product is v.dot(w). For the outer product between them $v w^T$, one must do np.outer(v,w). This is a bit cumbersome.\n",
    "\n",
    "You can invert a matrix using np.linalg.inv(matrix)."
   ]
  },
  {
   "cell_type": "code",
   "execution_count": 29,
   "metadata": {},
   "outputs": [
    {
     "name": "stdout",
     "output_type": "stream",
     "text": [
      "m1*m2 [[19 22]\n",
      " [43 50]]\n",
      "m2*m1 [[23 34]\n",
      " [31 46]]\n",
      "v^T*m1 [ 7 10]\n",
      "m1*v [ 5 11]\n",
      "v w^T [[ 4  7]\n",
      " [ 8 14]]\n",
      "inverse(m1)= [[-2.   1. ]\n",
      " [ 1.5 -0.5]]\n"
     ]
    }
   ],
   "source": [
    "print (\"m1*m2\", m1.dot(m2))\n",
    "print (\"m2*m1\", m2.dot(m1))\n",
    "print (\"v^T*m1\", v.dot(m1))\n",
    "print (\"m1*v\", m1.dot(v))\n",
    "\n",
    "v=np.array([1,2])\n",
    "w=np.array([4,7])\n",
    "print (\"v w^T\", np.outer(v,w))\n",
    "print (\"inverse(m1)=\",np.linalg.inv(m1))"
   ]
  },
  {
   "cell_type": "markdown",
   "metadata": {},
   "source": [
    "You can also slice and index numpy arrays. "
   ]
  },
  {
   "cell_type": "code",
   "execution_count": 30,
   "metadata": {},
   "outputs": [
    {
     "name": "stdout",
     "output_type": "stream",
     "text": [
      "m1= [[1 2]\n",
      " [3 4]]\n",
      "m1[1,1]= 4\n",
      "m1[:,1]= [2 4]\n"
     ]
    }
   ],
   "source": [
    "print (\"m1=\",m1)\n",
    "print (\"m1[1,1]=\",m1[1,1])\n",
    "print (\"m1[:,1]=\",m1[:,1])"
   ]
  },
  {
   "cell_type": "markdown",
   "metadata": {},
   "source": [
    "You can also index numpy arrays with boolean arrays or other arrays representing indices. Examples are given <a href=\"https://docs.scipy.org/doc/numpy/user/quickstart.html#fancy-indexing-and-index-tricks\">here</a>. You can use this to write your k-Nearest Neighbors code compactly in Lab 2.\n",
    "\n",
    "This list is not extensive -- if you think a function should exist in numpy, chances are it does. Check the documentation. For example, ``numpy.fliplr`` and ```numpy.flipud``` will flip an array left to right and up and down respectively. "
   ]
  },
  {
   "cell_type": "markdown",
   "metadata": {},
   "source": [
    "Here are some exercises for you to get familiar with numpy array math (and plotting)."
   ]
  },
  {
   "cell_type": "code",
   "execution_count": 31,
   "metadata": {},
   "outputs": [
    {
     "name": "stdout",
     "output_type": "stream",
     "text": [
      "Populating the interactive namespace from numpy and matplotlib\n"
     ]
    },
    {
     "name": "stderr",
     "output_type": "stream",
     "text": [
      "C:\\Users\\bu3\\AppData\\Local\\Continuum\\anaconda3\\lib\\site-packages\\IPython\\core\\magics\\pylab.py:160: UserWarning: pylab import has clobbered these variables: ['square', 'copy']\n",
      "`%matplotlib` prevents importing * from pylab and numpy\n",
      "  \"\\n`%matplotlib` prevents importing * from pylab and numpy\"\n"
     ]
    }
   ],
   "source": [
    "#This is a line magic -- a script which Jupyter uses to do nice things.  Line magics start with %\n",
    "# This one will give us inline plotting in the notebook. Don't worry about the warnings in this case. \n",
    "%pylab inline"
   ]
  },
  {
   "cell_type": "markdown",
   "metadata": {},
   "source": [
    "Exercise 3: Solve $A x = b$ for $x$ where $A=\\begin{bmatrix} 1 & 2 \\\\ 3 & 4 \\end{bmatrix}, b=\\begin{bmatrix} 8 \\\\ 9 \\end{bmatrix}$ using matrix inversion. Verify your solution by calculating $Ax$."
   ]
  },
  {
   "cell_type": "code",
   "execution_count": 32,
   "metadata": {},
   "outputs": [
    {
     "name": "stdout",
     "output_type": "stream",
     "text": [
      "A^-1= [[-2.   1. ]\n",
      " [ 1.5 -0.5]]\n",
      "x= [-7.   7.5]\n",
      "Ax= [8. 9.]\n"
     ]
    }
   ],
   "source": [
    "A=np.array([[1,2],[3,4]])\n",
    "b=np.array([8,9])\n",
    "print (\"A^-1=\",np.linalg.inv(A))\n",
    "x=np.dot(np.linalg.inv(A),b)\n",
    "print (\"x=\",x)\n",
    "print (\"Ax=\",A.dot(x))"
   ]
  },
  {
   "cell_type": "markdown",
   "metadata": {},
   "source": [
    "Exercise 4 (Curve fitting): We are given a set of points $\\{(x_i,y_i)\\}_{i=1}^N$, and want to find a straight line which fits these points well. \n",
    "\n",
    "If the line is $y=a x + b$, we can write a system of equations\n",
    "\n",
    "$y_1 = a x_1 + b$\n",
    "\n",
    "$y_2 = a x_2 + b$\n",
    "\n",
    "$\\vdots$\n",
    "\n",
    "$y_n = a x_n + b$\n",
    "\n",
    "which we can write using matrices: $\\begin{bmatrix}\n",
    "x_1 & 1\\\\\n",
    "x_2 & 1\\\\\n",
    "\\vdots & \\vdots \\\\\n",
    "x_n & 1\n",
    "\\end{bmatrix} \\begin{bmatrix}a \\\\ b \\end{bmatrix} = \\begin{bmatrix} y_1 \\\\ y_2 \\\\ \\vdots \\\\ y_n\\end{bmatrix}$ (verify that this is correct on your own!)."
   ]
  },
  {
   "cell_type": "code",
   "execution_count": 33,
   "metadata": {},
   "outputs": [],
   "source": [
    "# I'll give you a set of points\n",
    "\n",
    "x=np.linspace(-5,5,100) # get a list of 100 evenly spaced points in (-5,5)\n",
    "y=2*x+1+np.random.randn(100) # the true line is y=2x+1, but the data points are corrupted by some noise."
   ]
  },
  {
   "cell_type": "code",
   "execution_count": 34,
   "metadata": {},
   "outputs": [
    {
     "data": {
      "text/plain": [
       "(-9.68995360290065, 11.313845650310137)"
      ]
     },
     "execution_count": 34,
     "metadata": {},
     "output_type": "execute_result"
    },
    {
     "data": {
      "image/png": "[encoded data removed]",
      "text/plain": [
       "<Figure size 432x288 with 1 Axes>"
      ]
     },
     "metadata": {},
     "output_type": "display_data"
    }
   ],
   "source": [
    "# Now we'll plot these\n",
    "plot(x,y) # plot the data\n",
    "xlim(-5,5) # set the horizontal limits\n",
    "ylim(y.min(),y.max()) # set the vertical limits to the smallest and largest data points"
   ]
  },
  {
   "cell_type": "markdown",
   "metadata": {},
   "source": [
    "Now, if the matrix $\\begin{bmatrix}\n",
    "x_1 & 1\\\\\n",
    "x_2 & 1\\\\\n",
    "\\vdots & \\vdots \\\\\n",
    "x_n & 1\n",
    "\\end{bmatrix}$ was invertible, we'd just write $\\begin{bmatrix} a \\\\ b \\end{bmatrix} = \\begin{bmatrix}\n",
    "x_1 & 1\\\\\n",
    "x_2 & 1\\\\\n",
    "\\vdots & \\vdots \\\\\n",
    "x_n & 1\n",
    "\\end{bmatrix}^{-1}  \\begin{bmatrix} y_1 \\\\ y_2 \\\\ \\vdots \\\\ y_n\\end{bmatrix}$. \n",
    "\n",
    "But this doesn't make sense, since the matrix $\\begin{bmatrix}\n",
    "x_1 & 1\\\\\n",
    "x_2 & 1\\\\\n",
    "\\vdots & \\vdots \\\\\n",
    "x_n & 1\n",
    "\\end{bmatrix}$ won't even be square normally. \n",
    "\n",
    "As we will see in the linear regression section, a good solution is to use \n",
    "\n",
    "$\\begin{bmatrix} a \\\\ b \\end{bmatrix} \\approx \\begin{bmatrix}\n",
    "x_1 & 1\\\\\n",
    "x_2 & 1\\\\\n",
    "\\vdots & \\vdots \\\\\n",
    "x_n & 1\n",
    "\\end{bmatrix}^{\\dagger}  \\begin{bmatrix} y_1 \\\\ y_2 \\\\ \\vdots \\\\ y_n\\end{bmatrix}$ where $\\dagger$ denotes the <a href=\"https://en.wikipedia.org/wiki/Moore%E2%80%93Penrose_pseudoinverse\">pseudoinverse</a>, which acts like an inverse (in some sense) when you cannot invert a matrix. The pseudoinverse can be calculated using `numpy.linalg.pinv` with the same syntax as matrix inversion. `numpy.column_stack` may also be useful.\n",
    "\n",
    "Use the pseudoinverse to calculate $\\begin{bmatrix} a \\\\ b \\end{bmatrix}$. Put your coefficients in a numpy array called coeff."
   ]
  },
  {
   "cell_type": "code",
   "execution_count": 35,
   "metadata": {},
   "outputs": [],
   "source": [
    "#Put your code here\n",
    "xmatr=np.column_stack((x, np.ones(x.shape)))\n",
    "coeff=np.dot(numpy.linalg.pinv(xmatr),y)"
   ]
  },
  {
   "cell_type": "markdown",
   "metadata": {},
   "source": [
    "Now, lets see how the line fits up. \n"
   ]
  },
  {
   "cell_type": "code",
   "execution_count": 36,
   "metadata": {},
   "outputs": [
    {
     "data": {
      "text/plain": [
       "[<matplotlib.lines.Line2D at 0x8363c18>]"
      ]
     },
     "execution_count": 36,
     "metadata": {},
     "output_type": "execute_result"
    },
    {
     "data": {
      "image/png": "[encoded data removed]",
      "text/plain": [
       "<Figure size 432x288 with 1 Axes>"
      ]
     },
     "metadata": {},
     "output_type": "display_data"
    }
   ],
   "source": [
    "scatter(x,y) # scatter plot the data\n",
    "xlim(-5,5) # set the horizontal limits\n",
    "ylim(y.min(),y.max()) # set the vertical limits to the smallest and largest data points\n",
    "plot(x,coeff[0]*x+coeff[1], '-r') # plot the best fit line"
   ]
  },
  {
   "cell_type": "markdown",
   "metadata": {},
   "source": [
    "Now, we will talk a bit on code vectorization. The exercises will have (a) parts and (b) parts. You should be able to complete the (a) parts easily. The (b) parts are harder, but it is good (but not necessary) to know how to complete them).  "
   ]
  },
  {
   "cell_type": "markdown",
   "metadata": {},
   "source": [
    "In many cases, we recieve our feature vectors in the form of a matrix $X$ where each row of $X$ is a feature vector, i.e.\n",
    "$$ X = \\begin{bmatrix} x_{11} & x_{12} & \\ldots & x_{1d} \\\\\n",
    "\\vdots & \\vdots & \\vdots & \\vdots \\\\\n",
    "x_{N1} & x_{N2} & \\ldots & x_{Nd}\\end{bmatrix} $$\n",
    "or more compactly, \n",
    "$$ X = \\begin{bmatrix} \\mathbf{x}_1^\\top \\\\ \\vdots \\\\  \\mathbf{x}_N^\\top \\end{bmatrix}$$\n",
    "where $\\mathbf{x}_i = \\begin{bmatrix} x_{i1} \\\\ \\vdots \\\\ x_{id} \\end{bmatrix}$.\n"
   ]
  },
  {
   "cell_type": "markdown",
   "metadata": {},
   "source": [
    "We often want to calculate quantities like $S \\mathbf{x}$ where $S$ is some matrix of appropriate size. \n",
    "\n"
   ]
  },
  {
   "cell_type": "code",
   "execution_count": 37,
   "metadata": {},
   "outputs": [
    {
     "name": "stdout",
     "output_type": "stream",
     "text": [
      "S=\n",
      "[[2 1 3]\n",
      " [1 2 1]]\n",
      "X=\n",
      "[[ 0  1  2]\n",
      " [ 3  4  5]\n",
      " [ 6  7  8]\n",
      " [ 9 10 11]\n",
      " [12 13 14]]\n"
     ]
    }
   ],
   "source": [
    "# Lets first make a matrix S and some data\n",
    "S=np.asarray([[2,1,3],[1,2,1]])\n",
    "X=(np.arange(15)).reshape((5,3))\n",
    "print (\"S=\")\n",
    "print (S)\n",
    "print (\"X=\")\n",
    "print (X)"
   ]
  },
  {
   "cell_type": "code",
   "execution_count": 38,
   "metadata": {},
   "outputs": [
    {
     "name": "stdout",
     "output_type": "stream",
     "text": [
      "[[ 7.  4.]\n",
      " [25. 16.]\n",
      " [43. 28.]\n",
      " [61. 40.]\n",
      " [79. 52.]]\n"
     ]
    }
   ],
   "source": [
    "# Now, lets calculate S x_i for each feature vector x_i and store this as a row in the matrix Sx\n",
    "# in the naive way\n",
    "def naiveSx(S,X):\n",
    "    Sx = np.zeros((X.shape[0],S.shape[0]))\n",
    "\n",
    "    for i in range(X.shape[0]):\n",
    "        Sx[i]=np.dot(S,X[i])\n",
    "    return Sx\n",
    "\n",
    "print (naiveSx(S,X))"
   ]
  },
  {
   "cell_type": "markdown",
   "metadata": {},
   "source": [
    "So, your loop will end up having $N$ iterations, and doing a matrix * vector multiply in each one. \n",
    "\n",
    "However, some simple linear algebra gives us a nice way to calculate them all in one shot with one matrix\\*matrix multiply. \n",
    "\n",
    "You can easily check the following matrix multiplication is true: \n",
    "$$X S^\\top  =  \\begin{bmatrix} \\mathbf{x}_1^\\top \\\\ \\vdots \\\\  \\mathbf{x}_N^\\top \\end{bmatrix} S^\\top =  \\begin{bmatrix} \\mathbf{x}_1^\\top S^\\top \\\\ \\vdots \\\\  \\mathbf{x}_N^\\top S^\\top \\end{bmatrix} = \\begin{bmatrix} (S \\mathbf{x}_1)^\\top \\\\ \\vdots \\\\  (S \\mathbf{x}_N)\\top \\end{bmatrix}$$"
   ]
  },
  {
   "cell_type": "code",
   "execution_count": 39,
   "metadata": {},
   "outputs": [
    {
     "name": "stdout",
     "output_type": "stream",
     "text": [
      "[[ 7  4]\n",
      " [25 16]\n",
      " [43 28]\n",
      " [61 40]\n",
      " [79 52]]\n"
     ]
    }
   ],
   "source": [
    "# Lets try calculating S x using this.\n",
    "def matrixSx(S,x):\n",
    "    return np.dot(X,S.T)\n",
    "print (matrixSx(S,X))"
   ]
  },
  {
   "cell_type": "markdown",
   "metadata": {},
   "source": [
    "Now, one may say, \"Is there an advantage of doing one over the other?\"\n",
    "\n",
    "Well, lets see how they perform. "
   ]
  },
  {
   "cell_type": "code",
   "execution_count": 40,
   "metadata": {},
   "outputs": [
    {
     "name": "stdout",
     "output_type": "stream",
     "text": [
      "1.08 ms ± 15.2 µs per loop (mean ± std. dev. of 7 runs, 1000 loops each)\n",
      "14 µs ± 269 ns per loop (mean ± std. dev. of 7 runs, 100000 loops each)\n"
     ]
    }
   ],
   "source": [
    "d=10\n",
    "N=1000\n",
    "S=np.random.randn(d,d) # We'll generate some random S (d x d) and data X (N x d)\n",
    "X=np.random.randn(N,d)\n",
    "%timeit naiveSx(S,X)\n",
    "%timeit matrixSx(S,X)"
   ]
  },
  {
   "cell_type": "markdown",
   "metadata": {},
   "source": [
    "You should see that the naive version (1.08 ms on my computer) is much slower with d=10, N=1000 than the matrix version (13.9 $\\mu$s; a factor of 75x). And, with a bit of experience, the matrix multiply version will yield much more readable code.\n",
    "\n",
    "In many cases, for fast, readable code, you'll want to use built-in operations which can operate on the data array (or large portions of it at one time), rather than iterating over each feature vector. Of course, you need to do some thinking and experimentation to determine what is faster at the end of the day (but don't caught up with premature optimization!)."
   ]
  },
  {
   "cell_type": "markdown",
   "metadata": {},
   "source": [
    "Another quantity one may often want to calculate is $\\mathbf{x}^\\top A \\mathbf{y}$ (which is a number) for some matrix $A$. The most important special case is that of a quadratic form <a href=\"https://en.wikipedia.org/wiki/Quadratic_form\">Quadratic form</a>, where $A$ is some symmetric matrix and you want to calculate $\\mathbf{x}^\\top A \\mathbf{x}$. \n",
    "\n",
    "Exercise 5: You will compute $\\mathbf{x}^\\top A \\mathbf{y}$ for a collection of of vectors $\\{\\mathbf{x}_i\\}$ and $\\{\\mathbf{y}_j\\}$, where $A$ is of appropriate size such that the product is defined. You will receive the vectors in the form of two matrices:\n",
    "$$ X = \\begin{bmatrix} \\mathbf{x}_1^\\top \\\\ \\mathbf{x}_2^\\top \\\\ \\vdots \\\\ \\end{bmatrix}$$\n",
    "\n",
    "$$ Y = \\begin{bmatrix} \\mathbf{y}_1^\\top \\\\ \\mathbf{y}_2^\\top \\\\ \\vdots \\\\ \\end{bmatrix}$$\n",
    "\n",
    "Your code will return a matrix such that the $(i,j)$-th entry will be $\\mathbf{x}_i^\\top A \\mathbf{y}_j$. "
   ]
  },
  {
   "cell_type": "markdown",
   "metadata": {},
   "source": [
    "Part (a): Calculate the matrix with $(i,j$)-th entry as  $\\mathbf{x}_i^\\top A \\mathbf{y}_j$ by looping over the rows of $X,Y$."
   ]
  },
  {
   "cell_type": "code",
   "execution_count": 41,
   "metadata": {},
   "outputs": [],
   "source": [
    "def naive5(X,A,Y):\n",
    "    # Put your code here\n",
    "    qf=np.zeros((X.shape[0],Y.shape[0]))\n",
    "    for i in range(X.shape[0]):\n",
    "        for j in range(Y.shape[0]):\n",
    "            qf[i,j]=np.dot(np.dot(X[i],A),Y[j])\n",
    "    return qf"
   ]
  },
  {
   "cell_type": "markdown",
   "metadata": {},
   "source": [
    "Part (b): Repeat part (a), but using only matrix operations (no loops!). \n",
    "\n",
    "Hint: You can do this with just numpy.dot and the transpose operations. Try writing out an appropriate matrix multiplication as above, and noting $\\mathbf{x}^\\top A \\mathbf{y} = (\\mathbf{x}^\\top A) \\mathbf{y}=(A^T \\mathbf{x})^\\top \\mathbf{y}$. "
   ]
  },
  {
   "cell_type": "code",
   "execution_count": 42,
   "metadata": {},
   "outputs": [],
   "source": [
    "def matrix5(X,A,Y):\n",
    "    # Put your code here\n",
    "    return np.dot(np.dot(X,A),Y.T)"
   ]
  },
  {
   "cell_type": "code",
   "execution_count": 43,
   "metadata": {},
   "outputs": [
    {
     "name": "stdout",
     "output_type": "stream",
     "text": [
      "[[  320.  1220.  2120.  3020.  3920.  4820.  5720.  6620.  7520.  8420.]\n",
      " [  895.  3370.  5845.  8320. 10795. 13270. 15745. 18220. 20695. 23170.]]\n",
      "[[  320  1220  2120  3020  3920  4820  5720  6620  7520  8420]\n",
      " [  895  3370  5845  8320 10795 13270 15745 18220 20695 23170]]\n",
      "This should be small (about zero):  0.0\n"
     ]
    }
   ],
   "source": [
    "#Generate some random data\n",
    "A=np.reshape(np.arange(15),(5,3))\n",
    "Y=np.reshape(np.arange(30),(10,3))\n",
    "X=np.reshape(np.arange(10),(2,5))\n",
    "print (naive5(X,A,Y))\n",
    "print (matrix5(X,A,Y))\n",
    "print (\"This should be small (about zero): \", np.sum((naive5(X,A,Y)-matrix5(X,A,Y))**2))"
   ]
  },
  {
   "cell_type": "markdown",
   "metadata": {},
   "source": [
    "Your result should be \n",
    "\n",
    "`[[  320  1220  2120  3020  3920  4820  5720  6620  7520  8420]\n",
    " [  895  3370  5845  8320 10795 13270 15745 18220 20695 23170]]`"
   ]
  },
  {
   "cell_type": "markdown",
   "metadata": {},
   "source": [
    "A related problem is to evaluate $f(\\mathbf{x}) = \\mathbf{x}^\\top A \\mathbf{x}$ where $A$ is a square matrix for a collection of vectors $\\{\\mathbf{x}_i\\}$. You could take the result of Exercise 5 and extract the diagonal (e.g. using `numpy.diag`) and returning that. But, that is wasteful if you don't care about $\\mathbf{x}_i^\\top A \\mathbf{x}_j$ when $i \\neq j$."
   ]
  },
  {
   "cell_type": "markdown",
   "metadata": {},
   "source": [
    "Exercise 6: You will compute $\\mathbf{x}^\\top A \\mathbf{x}$ for a collection of $N$ vectors $\\{\\mathbf{x}_i\\}$ which are provided as a matrix $X$ (as in Exercise 5). You should return a vector length $N$ where the $i$-th entry is $\\mathbf{x}_i^\\top A \\mathbf{x}_i$. "
   ]
  },
  {
   "cell_type": "markdown",
   "metadata": {},
   "source": [
    "Part (a): Calculate a vector with $i$-th component $\\mathbf{x}_i^\\top A \\mathbf{x}_i$ by looping over the rows of $X$."
   ]
  },
  {
   "cell_type": "code",
   "execution_count": 44,
   "metadata": {},
   "outputs": [],
   "source": [
    "def naive6(X,A):\n",
    "    # Put your code here\n",
    "    qf = np.zeros(X.shape[0])\n",
    "    for i in range(X.shape[0]):\n",
    "        qf[i]=np.dot(np.dot(X[i],A),X[i])\n",
    "    return qf"
   ]
  },
  {
   "cell_type": "markdown",
   "metadata": {},
   "source": [
    "Part (b): Repeat part (a) using matrix operations (no loops!). \n",
    "\n",
    "Hint: You can do this with the np.dot, elementwise multiplication and np.sum (along an axis) operations. The solution is <a href=\"http://stackoverflow.com/questions/8457110/how-to-vectorize-the-evaluation-of-bilinear-quadratic-forms\">easily found online</a>, but try it first on your own."
   ]
  },
  {
   "cell_type": "code",
   "execution_count": 45,
   "metadata": {},
   "outputs": [],
   "source": [
    "def matrix6(X,A):\n",
    "    # Put your code here\n",
    "    return np.sum(np.dot(X,A)*X,axis=1)"
   ]
  },
  {
   "cell_type": "code",
   "execution_count": 46,
   "metadata": {},
   "outputs": [
    {
     "name": "stdout",
     "output_type": "stream",
     "text": [
      "[   60.   672.  1932.  3840.  6396.  9600. 13452. 17952. 23100. 28896.]\n",
      "[   60   672  1932  3840  6396  9600 13452 17952 23100 28896]\n",
      "This should be small: 0.0\n"
     ]
    }
   ],
   "source": [
    "A=np.reshape(np.arange(9),(3,3))\n",
    "X=np.reshape(np.arange(30),(10,3))\n",
    "print (naive6(X,A))\n",
    "print (matrix6(X,A))\n",
    "print (\"This should be small:\", np.sum((naive6(X,A)-matrix6(X,A))**2))\n",
    "\n",
    "# Your result should be: [   60   672  1932  3840  6396  9600 13452 17952 23100 28896]"
   ]
  },
  {
   "cell_type": "markdown",
   "metadata": {},
   "source": [
    "## And this concludes Lab 1! "
   ]
  },
  {
   "cell_type": "code",
   "execution_count": null,
   "metadata": {},
   "outputs": [],
   "source": []
  }
 ],
 "metadata": {
  "kernelspec": {
   "display_name": "Python 3",
   "language": "python",
   "name": "python3"
  },
  "language_info": {
   "codemirror_mode": {
    "name": "ipython",
    "version": 3
   },
   "file_extension": ".py",
   "mimetype": "text/x-python",
   "name": "python",
   "nbconvert_exporter": "python",
   "pygments_lexer": "ipython3",
   "version": "3.7.3"
  }
 },
 "nbformat": 4,
 "nbformat_minor": 1
}
