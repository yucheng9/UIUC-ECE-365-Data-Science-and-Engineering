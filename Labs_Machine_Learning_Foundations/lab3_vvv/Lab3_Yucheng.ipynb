{
 "cells": [
  {
   "cell_type": "markdown",
   "metadata": {},
   "source": [
    "# Lab 3: Classification (Part 2) and Model Selection"
   ]
  },
  {
   "cell_type": "markdown",
   "metadata": {},
   "source": [
    "## Yucheng Jin (yucheng9)\n",
    "\n",
    "### Due September 18, 2019 11:59 PM\n",
    "\n",
    "**Logistics and Lab Submission**\n",
    "\n",
    "See the [course website](https://courses.engr.illinois.edu/ece365/fa2019/logisticsvvv.html). Remember that all labs count equally, despite the labs being graded from a different number of total points)."
   ]
  },
  {
   "cell_type": "markdown",
   "metadata": {},
   "source": [
    "**What You Will Need To Know For This Lab**\n",
    "\n",
    "This lab covers a few more basic classifiers which can be used for M-ary classification:\n",
    "- Naive Bayes\n",
    "- Logistic Regression\n",
    "- Support Vector Machines\n",
    "\n",
    "as well as cross-validation, a tool for model selection and assessment.\n",
    " \n",
    "There are some problems which have short answer questions. <b>Do not write an essay -- a few (1-2) complete sentences will suffice.</b>\n",
    "\n",
    "<b>Also, be clear about your answers</b>. For example, if a question asks you \"Which classifier would you choose?\", be unequivocal about which classifier you would choose (and why); as engineers, part of your job is to make design decisions and justify them in the context of the alternatives and in the application. \n",
    "\n",
    "Remember in many applications, the end goal is not always \"run a classifier\", like in a homework problem, but is to use the output of the classifier in the context of the problem at hand (e.g. detecting spam, identifying cancer, etc.). Because of this, some of our Engineering Design-type questions are designed to get you to think about the entire design problem at a high level.\n",
    "\n",
    "\n",
    "**Warning: Do not train on your test sets. You will automatically have your score halved for a problem if you train on your test data.**"
   ]
  },
  {
   "cell_type": "markdown",
   "metadata": {},
   "source": [
    "**Preamble (don't change this)**"
   ]
  },
  {
   "cell_type": "code",
   "execution_count": 1,
   "metadata": {},
   "outputs": [
    {
     "name": "stdout",
     "output_type": "stream",
     "text": [
      "Populating the interactive namespace from numpy and matplotlib\n"
     ]
    }
   ],
   "source": [
    "%pylab inline\n",
    "import numpy as np\n",
    "from sklearn import neighbors\n",
    "from sklearn import svm\n",
    "from sklearn import model_selection\n",
    "from numpy import genfromtxt\n",
    "from sklearn.preprocessing import MinMaxScaler\n",
    "import glob"
   ]
  },
  {
   "cell_type": "markdown",
   "metadata": {},
   "source": [
    "### Problem 1: Spam Detection (90 points)\n",
    "\n",
    "In this problem, you will be constructing a crude spam detector. As you all know, when you receive an e-mail, it can be divided into one of two types: ham (useful mail, label $-1$) and spam (junk mail, label $+1$). In the [olden days](http://www.paulgraham.com/spam.html), people tried writing a bunch of rules to detect spam. However, it was quickly seen that machine learning approaches work fairly well for a little bit of work. \n",
    "\n",
    "You will be designing a spam detector by applying some of the classification techniques you learned in class to a batch of emails used to train and test [SpamAssassin](http://spamassassin.apache.org/), a leading anti-spam software package. \n",
    "\n",
    "Let the *vocabulary* of a dataset be a list of all terms occuring in a data set. So, for example, a vocabulary could be [\"cat\",\"dog\",\"chupacabra\", \"aerospace\", ...]. \n",
    "\n",
    "Our features will be based only the frequencies of terms in our vocabulary occuring in the e-mails (such an approach is called a *bag of words* approach, since we ignore the positions of the terms in the emails). The $j$-th feature is the number of times term $j$ in the vocabulary occurs in the email. If you are interested in further details on this model, you can see Chapters 6 and 13 in [Manning's Book](http://nlp.stanford.edu/IR-book/).\n",
    "\n",
    "You will use the following classifiers in this problem:\n",
    "- sklearn.naive_bayes.BernoulliNB (Naive Bayes Classifier with Bernoulli Model)\n",
    "- sklearn.naive_bayes.MultinomialNB (Naive Bayes Classifier with Multinomial Model)\n",
    "- sklearn.svm.LinearSVC (Linear Support Vector Machine)\n",
    "- sklearn.linear_model.LogisticRegression (Logistic Regression)\n",
    "- sklearn.neighbors.KNeighborsClassifier (1-Nearest Neighbor Classifier)\n",
    "\n",
    "In the context of the Bernoulli Model for Naive Bayes, scikit-learn will binarize the features by interpretting the $j$-th feature to be $1$ if the $j$-th term in the vocabulary occurs in the email and $0$ otherwise. This is a categorical Naive Bayes model, with binary features. While we did not discuss the multinomial model in class, it operates directly on the frequencies of terms in the vocabulary, and is discussed in Section 13.2 in [Manning's Book](http://nlp.stanford.edu/IR-book/) (though you do not need to read this reference). Both the Bernoulli and Multinomial models are commonly used for Naive Bayes in text classification. "
   ]
  },
  {
   "cell_type": "markdown",
   "metadata": {},
   "source": [
    "A sample Ham email is:\n",
    "\n",
    "    From nic@starflung.com  Mon Jun 24 17:06:54 2002\n",
    "    Return-Path: 7910726.0.27May2002215326@mp.opensrs.net\n",
    "    Delivery-Date: Tue May 28 02:53:28 2002\n",
    "    Received: from mp.opensrs.net (mp.opensrs.net [216.40.33.45]) by\n",
    "        dogma.slashnull.org (8.11.6/8.11.6) with ESMTP id g4S1rSe14718 for\n",
    "        <zzz@spamassassin.taint.org>; Tue, 28 May 2002 02:53:28 +0100\n",
    "    Received: (from popensrs@localhost) by mp.opensrs.net (8.9.3/8.9.3) id\n",
    "        VAA04361; Mon, 27 May 2002 21:53:26 -0400\n",
    "    Message-Id: <7910726.0.27May2002215326@mp.opensrs.net>\n",
    "    Date: Mon, 27 May 2002 21:53:26 -0500 (EST)\n",
    "    From: \"Starflung NIC\" <nic@starflung.com>\n",
    "    To: <zzz@spamassassin.taint.org>\n",
    "    Subject: Automated 30 day renewal reminder 2002-05-27\n",
    "    X-Keywords: \n",
    "\n",
    "    The following domains that are registered as belonging\n",
    "    to you are due to expire within the next 60 days. If\n",
    "    you would like to renew them, please contact\n",
    "    nic@starflung.com; otherwise they will be deactivated\n",
    "    and may be registered by another.\n",
    "\n",
    "\n",
    "    Domain Name, Expiry Date\n",
    "    nutmegclothing.com, 2002-06-26\n",
    "    \n",
    "    \n",
    "A sample Spam email is: \n",
    "\n",
    "    From jjj@mymail.dk  Fri Aug 23 11:03:31 2002\n",
    "    Return-Path: <jjj@mymail.dk>\n",
    "    Delivered-To: zzzz@localhost.example.com\n",
    "    Received: from localhost (localhost [127.0.0.1])\n",
    "        by phobos.labs.example.com (Postfix) with ESMTP id 478B54415C\n",
    "        for <zzzz@localhost>; Fri, 23 Aug 2002 06:02:57 -0400 (EDT)\n",
    "    Received: from mail.webnote.net [193.120.211.219]\n",
    "        by localhost with POP3 (fetchmail-5.9.0)\n",
    "        for zzzz@localhost (single-drop); Fri, 23 Aug 2002 11:02:57 +0100 (IST)\n",
    "    Received: from smtp.easydns.com (smtp.easydns.com [205.210.42.30])\n",
    "        by webnote.net (8.9.3/8.9.3) with ESMTP id IAA08912;\n",
    "        Fri, 23 Aug 2002 08:13:36 +0100\n",
    "    From: jjj@mymail.dk\n",
    "    Received: from mymail.dk (unknown [61.97.34.233])\n",
    "        by smtp.easydns.com (Postfix) with SMTP\n",
    "        id 7484A2F85C; Fri, 23 Aug 2002 03:13:31 -0400 (EDT)\n",
    "    Reply-To: <jjj@mymail.dk>\n",
    "    Message-ID: <008c61d64eed$6184e5d5$4bc22de3@udnugg>\n",
    "    To: bbr_hooten@yahoo.com\n",
    "    Subject: HELP WANTED.  WORK FROM HOME REPS.\n",
    "    MiME-Version: 1.0\n",
    "    Content-Type: text/plain;\n",
    "        charset=\"iso-8859-1\"\n",
    "    X-Priority: 3 (Normal)\n",
    "    X-MSMail-Priority: Normal\n",
    "    X-Mailer: Microsoft Outlook, Build 10.0.2616\n",
    "    Importance: Normal\n",
    "    Date: Fri, 23 Aug 2002 03:13:31 -0400 (EDT)\n",
    "    Content-Transfer-Encoding: 8bit\n",
    "\n",
    "    Help wanted.  We are a 14 year old fortune 500 company, that is\n",
    "    growing at a tremendous rate.  We are looking for individuals who\n",
    "    want to work from home.\n",
    "\n",
    "    This is an opportunity to make an excellent income.  No experience\n",
    "    is required.  We will train you.\n",
    "\n",
    "    So if you are looking to be employed from home with a career that has\n",
    "    vast opportunities, then go:\n",
    "\n",
    "    http://www.basetel.com/wealthnow\n",
    "\n",
    "    We are looking for energetic and self motivated people.  If that is you\n",
    "    than click on the link and fill out the form, and one of our\n",
    "    employement specialist will contact you.\n",
    "\n",
    "    To be removed from our link simple go to:\n",
    "\n",
    "    http://www.basetel.com/remove.html\n",
    "\n",
    "\n",
    "    1349lmrd5-948HyhJ3622xXiM0-290VZdq6044fFvN0-799hUsU07l50\n",
    "\n"
   ]
  },
  {
   "cell_type": "markdown",
   "metadata": {},
   "source": [
    "First, we will load the data. Our dataset has a bit over 9000 emails, with about 25% of them being spam. We will use 50% of them as a training set, 25% of them as a validation set and 25% of them as a test set. "
   ]
  },
  {
   "cell_type": "code",
   "execution_count": 2,
   "metadata": {},
   "outputs": [],
   "source": [
    "# Get list of emails\n",
    "spamfiles=glob.glob('./Data/Spam/*')\n",
    "hamfiles=glob.glob('./Data/Ham/*')"
   ]
  },
  {
   "cell_type": "code",
   "execution_count": 3,
   "metadata": {},
   "outputs": [],
   "source": [
    "# First, we will split the files into the training, validation and test sets.\n",
    "\n",
    "np.random.seed(seed=222017) # seed the RNG for repeatability\n",
    "\n",
    "fnames=np.asarray(spamfiles+hamfiles)\n",
    "nfiles=fnames.size\n",
    "labels=np.ones(nfiles)\n",
    "labels[len(spamfiles):]=-1\n",
    "\n",
    "# Randomly permute the files we have\n",
    "idx=np.random.permutation(nfiles)\n",
    "fnames=fnames[idx]\n",
    "labels=labels[idx]\n",
    "\n",
    "#Split the file names into which set they belong to\n",
    "tname=fnames[:int(nfiles/2)]\n",
    "trainlabels=labels[:int(nfiles/2)]\n",
    "vname=fnames[int(nfiles/2):int(nfiles*3/4)]\n",
    "vallabels=labels[int(nfiles/2):int(nfiles*3/4)]\n",
    "tename=fnames[int(3/4*nfiles):]\n",
    "testlabels=labels[int(3/4*nfiles):]"
   ]
  },
  {
   "cell_type": "code",
   "execution_count": 4,
   "metadata": {},
   "outputs": [],
   "source": [
    "from sklearn.feature_extraction.text import CountVectorizer\n",
    "\n",
    "# Get our Bag of Words Features from the data\n",
    "bow = CountVectorizer(input='filename',encoding='iso-8859-1',binary=False)\n",
    "traindata=bow.fit_transform(tname)\n",
    "valdata=bow.transform(vname)\n",
    "testdata=bow.transform(tename)"
   ]
  },
  {
   "cell_type": "markdown",
   "metadata": {},
   "source": [
    "The $100$ most and least common terms in the vocabulary are:"
   ]
  },
  {
   "cell_type": "code",
   "execution_count": 5,
   "metadata": {},
   "outputs": [
    {
     "name": "stdout",
     "output_type": "stream",
     "text": [
      "100 most common terms:  slashnull,dogma,click,not,request,ist,exmh,as,thu,wed,jmason,have,cnet,lists,or,are,mon,html,freshrpms,date,mailman,align,message,00,12,users,postfix,text,arial,type,bgcolor,rpm,ie,22,linux,version,be,taint,your,mailto,20,admin,table,sourceforge,content,color,jm,face,on,border,example,127,aug,gif,this,href,10,img,subject,src,09,nbsp,sep,it,that,0100,height,spamassassin,esmtp,is,size,xent,you,fork,tr,in,list,11,www,br,width,received,localhost,id,of,and,org,by,with,for,net,td,font,2002,from,3d,http,to,the,com \n",
      "\n",
      "100 least common terms:  ÿÿÿÿÿÿÿÿÿÿÿÿÿÿÿÿÿÿÿÿÿÿÿÿÿÿÿÿÿÿÿÿÿÿÿÿÿÿÿÿÿó,snd_index,crittenden,vghhbmsgww91iezvcibzb3vyifrpbwusiefu,snd_major,criuqccibiqnijvkpqkraocgwoeadz9qikwzkkxzo94ow8jaq7kza2xlzdpk9fw07swhmk6zfx4k,crjowqpf7aywdqg8cke9fwakiatnugirizcja5ougeakmggdbyyditzrgcracagvtgzb05k6j8,vgh9,crlsbd,crlsca,vgggkvaadjknu,vgfliejvpgjypldvcmtvdxqgncbqywnrpc9ipjxicj4gidxm,cro19c3zkymlwxiwrclxwvnkbo,vgfby5giuasgpjnj9rtm42jaariaaabm77x,croatian,croatians,sndqbqy,crocodile,li4xiedyzwf0ifbyawnliq0kqsakmzawkybdb21iaw5lzcbszxrhawwgvmfs,li4uli4uli4umtegbw9udghzihbhc3nlzcb0agvuigl0igx1y2tpbhkgy2ft,li4uli4gjduwmcardqozli4uli4gjdusmdawicsgnc4uli4uicq1mcwwmdag,li4gjduwmcardqogicagicagicagicagicagicazli4uli4gjdusmdawicsn,sneakers,croininsimon,croissant,vgeo6v6s0zgo3luaiczcnu6krbnq,cronenberg,cronies,croninsimon,cronjobs,critiqued,vghhdcdzihjpz2h0isbjzib5b3ugagf2zsbjyxigcgf5bwvudhmsihjlbnqspgjypg0kicagicag,vghhdcdzptewmcbwzw9wbgugcmvzcg9uzgvkigfuzcbvcmrlcmvkifjlcg9y,criticize,libadm,criminologia,sncmulpw40hx1jbxrzu2fvmkcmq,cringe,lib_dp_tfcv,cripple,sncqcnkttecctgn5bvtz7vvkpqqrqc6zzxogcy7uv2qkdtio8kmkdrxvgcvw2pchmrvntc,cripples,vgkrcoy7cw8w9xdvzq4wnxiaebf5b3p5,cripssake,cription,vgkpyjuhocexvfofdf0x2butactlaascz19xa9tqovhex,vgk1b3zevjrnvte0izbf82iws9yunh3yk5vpxgbpcbuhjuc8n5fppfm4z87lg,vgjscoci,lhxni1x1kp8wpyeavftigutqlgjou,liars,liapoz,snd_cards_limit,cristine,snd_device_mode,vghlihjlyxnvbibmb3igdghlicjjyxnoiibpcybub3qgymvjyxvzzsb0aglz,vghlidaumiugcmvzcg9uc2ugdg8gdghhdcbpcyaxmdawig9yzgvycybmb3in,criterious,liam_mac_r,critically,criticalpath,criticise,criticisim,snd_id,liagvmlzaxq6igh0dha6ly93d3cuywzmb3jkywjszs1kb21haw5zlmnvbsb0,snd_amp_gpio,vgem05sx1zigu7,vgegbepycobcieacp8dabraqqlqsxgk7qs4gpkc1kpyajg7ghfgeeplsnwvlquljprycfqsqx1eb,vgd2xuaeribtqvopwbga5x,lhjrjtjznanygo9w4bbc6gy30qqlb2acfxdeaqogayslupkqkakg,lhjrfspwvo,vfz6ns9a5vreuanz6tizri9lq1fpmzgnwerse6ay,sneakier,lhhjy7cysohyngev7alcegggbvixwrbxfdo0fquldavryqs7hsqmtqylpatjvwlzou42krg8alzl,lhhgc8c93twndybyz87mljkwyefouktdiwbvstexwl62nhhiiglf4zz1xpwibtjykkug,crqwbmwcjgclmc6czzqmdgoamkyjpcocgazcw4azmsbiytvwiqzgbw7gaoabg0zqwfslciagauyb,crrlnrbxvkknrtigrmowkajbsgpwgb1axrqayy4tikaifdfmqjggbhoenbpqbgayh,lhgubu5p5bx,vfyy6x,crs4s4ulhldawv5gafss0r0r0ontigzc7,vfyxeuedwacdjxriumtvrkybkfketsuq,lhg,vfxmobf8xedxwcyr,lhnpm5q,crts,crua,vfxd1nktpwakkaa2qougeb08zabg4kk1kgumo3bsqi0xcjybhibogmsjgkcaz17nncogwlenelbt,crucially,lhfymtlomst3,vfwsmnpxx9lgc2lonue,crudely,lhc5a7swao1rvec8fzbwts8a75tfdkvcegdnwaqowj8ddeabcburni1mykhs0kieouosb2jhaijq,lhbxvzinmgtulpbgw,lhbxvzinmgq3jvc,lhapayggarbgmx88mijp8pe,crui,lhamo,lhaigood,lh6riid,crtyler1,snatches\n"
     ]
    }
   ],
   "source": [
    "counts=np.reshape(np.asarray(np.argsort(traindata.sum(axis=0))),-1)\n",
    "vocab=np.reshape(np.asarray(bow.get_feature_names()),-1)\n",
    "print (\"100 most common terms: \" , ','.join(str(s) for s in vocab[counts[-100:]]), \"\\n\")\n",
    "print (\"100 least common terms: \" , ','.join(str(s) for s in vocab[counts[:100]]))"
   ]
  },
  {
   "cell_type": "markdown",
   "metadata": {},
   "source": [
    "We will have our training data in `traindata` (with labels in `trainlabels`), validation data in `valdata` (with labels in `vallabels`) and test data in `testdata` (with labels in `testlabels`). The data is stored as a sparse scipy matrix (scipy.sparse.csr.csr_matrix), since we have a decent number of features (~100k), most of which are zero (~0.2% are non-zero), this allows storing the data in a few megabytes. Directly storing it as a numpy array (as we did in lab 1) would take around 8 gigabytes. Working with sparse data can make many algorithms run faster and use less storage. "
   ]
  },
  {
   "cell_type": "markdown",
   "metadata": {},
   "source": [
    "Train each of the following classifiers **( 3 Points Each )**:\n",
    "- sklearn.naive_bayes.BernoulliNB (Naive Bayes Classifier with Bernoulli Model)\n",
    "- sklearn.naive_bayes.MultinomialNB (Naive Bayes Classifier with Multinomial Model)\n",
    "- sklearn.svm.LinearSVC (Linear Support Vector Machine)\n",
    "- sklearn.linear_model.LogisticRegression (Logistic Regression)\n",
    "- sklearn.neighbors.KNeighborsClassifier (as a 1-Nearest Neighbor Classifier)\n",
    "on the training data in `traindata` with corresponding labels `trainlabels`. Use the default parameters, unless otherwise noted.\n",
    "\n",
    "For each classifier, report:\n",
    "- Time it took to fit the classifier (i.e. call the .fit method) **(1 Point Each)**\n",
    "- Training Error **( 1 Point Each)**\n",
    "\n",
    "This part of the problem has a total of **25 points**."
   ]
  },
  {
   "cell_type": "code",
   "execution_count": 6,
   "metadata": {},
   "outputs": [],
   "source": [
    "from sklearn.naive_bayes import BernoulliNB \n",
    "from sklearn.naive_bayes import MultinomialNB \n",
    "from sklearn.svm import LinearSVC \n",
    "from sklearn.linear_model import LogisticRegression \n",
    "from sklearn.neighbors import KNeighborsClassifier \n",
    "from sklearn.svm import SVC"
   ]
  },
  {
   "cell_type": "code",
   "execution_count": 7,
   "metadata": {},
   "outputs": [
    {
     "name": "stdout",
     "output_type": "stream",
     "text": [
      "BernoulliNB time =  0.043704986572265625\n",
      "BernoulliNB training error =  0.05541292255027819\n",
      "\n",
      "\n",
      "MultinomialNB time =  0.013094902038574219\n",
      "MultinomialNB training error =  0.016474112109542194\n",
      "\n",
      "\n",
      "LinearSVM time =  5.806169033050537\n",
      "LinearSVC training error =  0.0\n",
      "\n",
      "\n",
      "LogisticRegression time =  5.626107215881348\n",
      "LogisticRegression training error =  0.0\n",
      "\n",
      "\n",
      "KNeighborsClassifier time =  0.0020940303802490234\n",
      "KNeighbors training error =  0.02717158750534876\n",
      "\n",
      "\n"
     ]
    }
   ],
   "source": [
    "import time\n",
    "# score(self, X, y, sample_weight=None)\n",
    "# Returns the mean accuracy on the given test data and labels.\n",
    "\n",
    "# BernoulliNB\n",
    "BernoulliNB_classifier = BernoulliNB()\n",
    "start = time.time()\n",
    "BernoulliNB_classifier.fit(traindata, trainlabels)\n",
    "end = time.time()\n",
    "print(\"BernoulliNB time = \", end - start)\n",
    "BernoulliNBtraining_error = 1 - BernoulliNB_classifier.score(traindata, trainlabels)\n",
    "print(\"BernoulliNB training error = \", BernoulliNBtraining_error)\n",
    "print(\"\\n\")\n",
    "\n",
    "# MultinomialNB\n",
    "MultinomialNB_classifier = MultinomialNB()\n",
    "start = time.time()\n",
    "MultinomialNB_classifier.fit(traindata, trainlabels)\n",
    "end = time.time()\n",
    "print(\"MultinomialNB time = \", end - start)\n",
    "MultinomialNBtraining_error = 1 - MultinomialNB_classifier.score(traindata, trainlabels)\n",
    "print(\"MultinomialNB training error = \", MultinomialNBtraining_error)\n",
    "print(\"\\n\")\n",
    "\n",
    "# LinearSVC \n",
    "LinearSVC_classifier = LinearSVC(max_iter = 100000)\n",
    "start = time.time()\n",
    "LinearSVC_classifier.fit(traindata, trainlabels)\n",
    "end = time.time()\n",
    "print(\"LinearSVM time = \", end - start)\n",
    "LinearSVCtraining_error = 1 - LinearSVC_classifier.score(traindata, trainlabels)\n",
    "print(\"LinearSVC training error = \", LinearSVCtraining_error)\n",
    "print(\"\\n\")\n",
    "\n",
    "# LogisticRegression\n",
    "LogisticRegression_classifier = LogisticRegression(solver = 'lbfgs', max_iter = 100000)\n",
    "start = time.time()\n",
    "LogisticRegression_classifier.fit(traindata, trainlabels)\n",
    "end = time.time()\n",
    "print(\"LogisticRegression time = \", end - start)\n",
    "LogisticRegressiontraining_error = 1 - LogisticRegression_classifier.score(traindata, trainlabels)\n",
    "print(\"LogisticRegression training error = \", LogisticRegressiontraining_error)\n",
    "print(\"\\n\")\n",
    "\n",
    "# KNeighborsClassifier \n",
    "KNN_classifier = KNeighborsClassifier ()\n",
    "start = time.time()\n",
    "KNN_classifier.fit(traindata, trainlabels)\n",
    "end = time.time()\n",
    "print(\"KNeighborsClassifier time = \", end - start)\n",
    "KNeighborstraining_error = 1 - KNN_classifier.score(traindata, trainlabels)\n",
    "print(\"KNeighbors training error = \", KNeighborstraining_error)\n",
    "print(\"\\n\")"
   ]
  },
  {
   "cell_type": "markdown",
   "metadata": {},
   "source": [
    "Give a justification as to why the Linear SVM and Logistic regression have their particular value of training error. **(5 points)**"
   ]
  },
  {
   "cell_type": "markdown",
   "metadata": {},
   "source": [
    "[Insert Your Answer Here]  \n",
    "Their error is 0, which indicates that the data are linearly separable."
   ]
  },
  {
   "cell_type": "markdown",
   "metadata": {},
   "source": [
    "Run each of the classifiers on the validation data **(2 Points Each)**:\n",
    "- sklearn.naive_bayes.BernoulliNB (Naive Bayes Classifier with Bernoulli Model)\n",
    "- sklearn.naive_bayes.BernoulliNB (Naive Bayes Classifier with Multiomial Model)\n",
    "- sklearn.svm.LinearSVC (Linear Support Vector Machine)\n",
    "- sklearn.linear_model.LogisticRegression (Logistic Regression)\n",
    "- sklearn.neighbors.KNeighborsClassifier (as a 1-Nearest Neighbor Classifier)\n",
    "on the training data in `traindata` with corresponding labels `trainlabels`. Use the default parameters, unless otherwise noted.\n",
    "\n",
    "For each classifier:\n",
    "- Store the labels it predicted as \\_\\_vallabels, where \\_\\_ is NB,MB,SVM,LR,NN respectively. **( 1 Point Each)**\n",
    "- Time it took to run the classifier on the data **(1 Point Each)**\n",
    "- Validation Error **(1 Point Each)**\n",
    "\n",
    "This part of the problem has a total of **25 points**."
   ]
  },
  {
   "cell_type": "code",
   "execution_count": 8,
   "metadata": {},
   "outputs": [
    {
     "name": "stdout",
     "output_type": "stream",
     "text": [
      "BernoulliNB time =  0.01877617835998535\n",
      "BernoulliNB validation accuracy =  0.904150620453573\n",
      "BernoulliNB validation error =  0.09584937954642703\n",
      "\n",
      "\n",
      "MultinomialNB time =  0.0045490264892578125\n",
      "MultinomialNB validation accuracy =  0.9687633718442448\n",
      "MultinomialNB validation error =  0.03123662815575523\n",
      "\n",
      "\n",
      "LinearSVM time =  0.002315998077392578\n",
      "LinearSVM validation accuracy =  0.991869918699187\n",
      "LinearSVM validation error =  0.008130081300813052\n",
      "\n",
      "\n",
      "LogisticRegression time =  0.001851797103881836\n",
      "LogisticRegression validation accuracy =  0.991869918699187\n",
      "LogisticRegression validation error =  0.008130081300813052\n",
      "\n",
      "\n",
      "KNeighborsClassifier time =  1.5047171115875244\n",
      "KNeighborsClassifier validation accuracy =  0.9653401797175867\n",
      "KNeighborsClassifier validation error =  0.03465982028241332\n"
     ]
    }
   ],
   "source": [
    "# BernoulliNB\n",
    "start = time.time()\n",
    "NBvallabels = BernoulliNB_classifier.predict(valdata)\n",
    "end = time.time()\n",
    "BernoulliNB_mean_accuracy = BernoulliNB_classifier.score(valdata, vallabels)\n",
    "print(\"BernoulliNB time = \", end - start)\n",
    "print(\"BernoulliNB validation accuracy = \", BernoulliNB_mean_accuracy)\n",
    "print(\"BernoulliNB validation error = \", 1 - BernoulliNB_mean_accuracy)\n",
    "print(\"\\n\")\n",
    "\n",
    "# MultinomialNB\n",
    "start = time.time()\n",
    "MBvallabels = MultinomialNB_classifier.predict(valdata)\n",
    "end = time.time()\n",
    "MultinomialNB_mean_accuracy = MultinomialNB_classifier.score(valdata, vallabels)\n",
    "print(\"MultinomialNB time = \", end - start)\n",
    "print(\"MultinomialNB validation accuracy = \", MultinomialNB_mean_accuracy)\n",
    "print(\"MultinomialNB validation error = \", 1 - MultinomialNB_mean_accuracy)\n",
    "print(\"\\n\")\n",
    "\n",
    "# LinearSVC \n",
    "start = time.time()\n",
    "SVMvallabels = LinearSVC_classifier.predict(valdata)\n",
    "end = time.time()\n",
    "LinearSVC_mean_accuracy = LinearSVC_classifier.score(valdata, vallabels)\n",
    "print(\"LinearSVM time = \", end - start)\n",
    "print(\"LinearSVM validation accuracy = \", LinearSVC_mean_accuracy)\n",
    "print(\"LinearSVM validation error = \", 1 - LinearSVC_mean_accuracy)\n",
    "print(\"\\n\")\n",
    "\n",
    "# LogisticRegression\n",
    "start = time.time()\n",
    "LRvallabels = LogisticRegression_classifier.predict(valdata)\n",
    "end = time.time()\n",
    "LogisticRegression_mean_accuracy = LogisticRegression_classifier.score(valdata, vallabels)\n",
    "print(\"LogisticRegression time = \", end - start)\n",
    "print(\"LogisticRegression validation accuracy = \", LogisticRegression_mean_accuracy)\n",
    "print(\"LogisticRegression validation error = \", 1 - LogisticRegression_mean_accuracy)\n",
    "print(\"\\n\")\n",
    "\n",
    "# KNeighborsClassifier \n",
    "start = time.time()\n",
    "NNvallabels = KNN_classifier.predict(valdata)\n",
    "end = time.time()\n",
    "KNN_mean_accuracy = KNN_classifier.score(valdata, vallabels)\n",
    "print(\"KNeighborsClassifier time = \", end - start)\n",
    "print(\"KNeighborsClassifier validation accuracy = \", KNN_mean_accuracy)\n",
    "print(\"KNeighborsClassifier validation error = \", 1 - KNN_mean_accuracy)"
   ]
  },
  {
   "cell_type": "markdown",
   "metadata": {},
   "source": [
    "Let us take a more nuanced look at the type of errors made on a data set. The following function calculates a confusion matrix (Fig. 2.1 in the notes) and some statistics. You may wish to read Section 2.1.1 in the notes -- it may be helpful, but is not necessary to complete this problem."
   ]
  },
  {
   "cell_type": "code",
   "execution_count": 9,
   "metadata": {},
   "outputs": [],
   "source": [
    "def ConfMatr(truelabels,estimatedlabels,classifiername):\n",
    "    # classifiername is a string, such as 'Naive Bayes (Bernoulli)'\n",
    "    cm=np.zeros((2,2))\n",
    "    cm[0,0]=np.sum(np.logical_and(truelabels==1,estimatedlabels==1)) # True Positives\n",
    "    cm[0,1]=np.sum(np.logical_and(truelabels==-1,estimatedlabels==1)) # False Positive\n",
    "    cm[1,0]=np.sum(np.logical_and(truelabels==1,estimatedlabels==-1)) # False Negative\n",
    "    cm[1,1]=np.sum(np.logical_and(truelabels==-1,estimatedlabels==-1)) # True Negatives\n",
    "    print (\"Classifier Name: %s\"% classifiername )\n",
    "    print (\"True Positives:\", cm[0,0], \"False Positive:\", cm[0,1])\n",
    "    print (\"False Negative:\", cm[1,0], \"True Negatives:\", cm[1,1])\n",
    "    print (\"True Positive Rate : \", cm[0,0]/np.sum(truelabels==1))\n",
    "    print (\"False Positive Rate: \", cm[0,1]/np.sum(truelabels==-1))\n",
    "    print (\"---\")"
   ]
  },
  {
   "cell_type": "markdown",
   "metadata": {},
   "source": [
    "Run ConfMatr using the validation labels and their estimates for all the classifiers we've used in this problem. **(5 points)**"
   ]
  },
  {
   "cell_type": "code",
   "execution_count": 10,
   "metadata": {},
   "outputs": [
    {
     "name": "stdout",
     "output_type": "stream",
     "text": [
      "Classifier Name: <class 'sklearn.naive_bayes.BernoulliNB'>\n",
      "True Positives: 389.0 False Positive: 11.0\n",
      "False Negative: 213.0 True Negatives: 1724.0\n",
      "True Positive Rate :  0.6461794019933554\n",
      "False Positive Rate:  0.006340057636887608\n",
      "---\n",
      "Classifier Name: <class 'sklearn.naive_bayes.MultinomialNB'>\n",
      "True Positives: 538.0 False Positive: 9.0\n",
      "False Negative: 64.0 True Negatives: 1726.0\n",
      "True Positive Rate :  0.893687707641196\n",
      "False Positive Rate:  0.005187319884726225\n",
      "---\n",
      "Classifier Name: <class 'sklearn.svm.classes.LinearSVC'>\n",
      "True Positives: 593.0 False Positive: 10.0\n",
      "False Negative: 9.0 True Negatives: 1725.0\n",
      "True Positive Rate :  0.9850498338870431\n",
      "False Positive Rate:  0.005763688760806916\n",
      "---\n",
      "Classifier Name: <class 'sklearn.linear_model.logistic.LogisticRegression'>\n",
      "True Positives: 593.0 False Positive: 10.0\n",
      "False Negative: 9.0 True Negatives: 1725.0\n",
      "True Positive Rate :  0.9850498338870431\n",
      "False Positive Rate:  0.005763688760806916\n",
      "---\n",
      "Classifier Name: <class 'sklearn.neighbors.classification.KNeighborsClassifier'>\n",
      "True Positives: 547.0 False Positive: 26.0\n",
      "False Negative: 55.0 True Negatives: 1709.0\n",
      "True Positive Rate :  0.9086378737541528\n",
      "False Positive Rate:  0.014985590778097982\n",
      "---\n"
     ]
    }
   ],
   "source": [
    "ConfMatr(vallabels, NBvallabels, BernoulliNB)\n",
    "ConfMatr(vallabels, MBvallabels, MultinomialNB)\n",
    "ConfMatr(vallabels, SVMvallabels, LinearSVC)\n",
    "ConfMatr(vallabels, LRvallabels, LogisticRegression)\n",
    "ConfMatr(vallabels, NNvallabels, KNeighborsClassifier)"
   ]
  },
  {
   "cell_type": "markdown",
   "metadata": {},
   "source": [
    "What does the True Positive Rate mean for this problem? What does the False Positive Rate mean for this problem? Do we want these quantites to be high, low or don't care? Explain using words (no equations!). **(10 point)**"
   ]
  },
  {
   "cell_type": "markdown",
   "metadata": {},
   "source": [
    "[Insert Answer Here]   \n",
    "True Positive Rate: measures the rate that the e-mail is a spam and the algorithm recognizes it correctly.    \n",
    "False Positive Rate: measures the rate that the e-mail is not a spam but the algorithm incorrectly recognizes it as a spam.  \n",
    "We want to maximize the true positive rate since we want the spam e-mails to be recognized correctly, we want to minimize the false positive rate since we do not want to have ham e-mails to be recognized as spams."
   ]
  },
  {
   "cell_type": "markdown",
   "metadata": {},
   "source": [
    "Based on the results of this problem and knowledge of the application at hand (spam filtering), pick one of the classifiers in this problem and describe how you would use it as part of a spam filter for the University of Illinois email system. \n",
    "\n",
    "Be sure to justify your choice. **(10 points)**\n",
    "\n",
    "For this problem, just sketch out a system design at a very high level -- how you would train the spam filter to deal with new threats, would you filter everyone's email jointly, etc. We're just looking for around a paragraph on how you would come up with a (very rough) engineering design using the results of this problem. You may get some inspiration from the [girls and boys](https://gmail.googleblog.com/2007/10/how-our-spam-filter-works.html) at [Gmail](https://gmail.googleblog.com/2015/07/the-mail-you-want-not-spam-you-dont.html), the [chimps at MailChimp](http://kb.mailchimp.com/delivery/spam-filters/about-spam-filters) or other places. Your answer should also include techniques you could use to improve the performance of the classifier over the baseline provided in this problem (e.g. new features, or whatever)."
   ]
  },
  {
   "cell_type": "markdown",
   "metadata": {},
   "source": [
    "[Insert Answer Here]  \n",
    "I will use the SVM or logistic regression models to design a spam filter.  \n",
    "First, as we can see in the data above, these two models have the highest true positive rate and a relatively low false positive rate, which means they have a good performance on both recognizing spam e-mails and preserving ham e-mails from being wrongly recognized, such that spam e-mails can be filtered as many as possible and important messages can be conveyed as much as possible.  \n",
    "Second, both SVM and logistic regression model are generative models that measure the joint distribution p(x,y) and then uses it to determine p(y|x). Because there are many e-mail samples avaliable everyday, and the joint distribution of these e-mails is also avaliable, so a generative model can be trained with adequate data, and the performance of a generative model will be improved if we train it with a large amount of training data.  \n",
    "To further improve the performance of the spam filter, I will conduct feature selection to give different features different weights, I will also impliment some rules to avoid recognizing an useful e-mail as a spam such as the rule that e-mails with \"@illinois.edu\" will not be filtered."
   ]
  },
  {
   "cell_type": "markdown",
   "metadata": {},
   "source": [
    "Run the classifier you selected in the previous part of the problem on the test data, and display test error and output of ConfMatr. Comment on the true/false positive rate and error as compared to that on the validation set. **(10 points)**"
   ]
  },
  {
   "cell_type": "code",
   "execution_count": 11,
   "metadata": {},
   "outputs": [
    {
     "name": "stdout",
     "output_type": "stream",
     "text": [
      "Classifier Name: <class 'sklearn.svm.classes.LinearSVC'>\n",
      "True Positives: 613.0 False Positive: 8.0\n",
      "False Negative: 7.0 True Negatives: 1710.0\n",
      "True Positive Rate :  0.9887096774193549\n",
      "False Positive Rate:  0.004656577415599534\n",
      "---\n",
      "Classifier Name: <class 'sklearn.linear_model.logistic.LogisticRegression'>\n",
      "True Positives: 611.0 False Positive: 10.0\n",
      "False Negative: 9.0 True Negatives: 1708.0\n",
      "True Positive Rate :  0.9854838709677419\n",
      "False Positive Rate:  0.005820721769499418\n",
      "---\n"
     ]
    }
   ],
   "source": [
    "SVMtestlabels = LinearSVC_classifier.predict(testdata)\n",
    "ConfMatr(testlabels, SVMtestlabels, LinearSVC)\n",
    "\n",
    "\n",
    "LGtestlabels = LogisticRegression_classifier.predict(testdata)\n",
    "ConfMatr(testlabels, LGtestlabels, LogisticRegression)"
   ]
  },
  {
   "cell_type": "markdown",
   "metadata": {},
   "source": [
    "[Insert Answer Here]  \n",
    "The SVM model performs marginally better with higher true positive rate and lower false positive rate, while the logistic regression model performs slightly worse with lower true positive rate and higher false positive rate. But overall their performances are good and stable in both validation set and test set."
   ]
  },
  {
   "cell_type": "markdown",
   "metadata": {
    "collapsed": true
   },
   "source": [
    "### Problem 2: Cross-Validation (50 Points)"
   ]
  },
  {
   "cell_type": "markdown",
   "metadata": {},
   "source": [
    "Write a function which implements $5$-fold cross-validation to estimate the error of a classifier with cross-validation with the 0,1-loss for k-Nearest Neighbors (kNN). \n",
    "\n",
    "You will be given as input:\n",
    "* A (N,d) numpy.ndarray of training data, trainData (with N divisible by 5)\n",
    "* A length $N$ numpy.ndarray of training labels, trainLabels\n",
    "* A number $k$, for which cross-validated error estimates will be outputted for $1,\\ldots,k$\n",
    "\n",
    "Your output will be a vector (represented as a numpy.ndarray) err, such that err[i] is the cross-validated estimate of using i neighbors (err will be of length $k+1$; the zero-th component of the vector will be meaningless). \n",
    "\n",
    "So that this problem is easier to grade, take your folds to be 0:N/5, N/5:2N/5, ..., 4N/5:N for cross-validation (In general, the folds should be randomly divided).\n",
    "\n",
    "Use scikit-learn's sklearn.neighbors.KNeighborsClassifier to perform the training and classification for the kNN models involved. Do not use any other features of scikit-learn, such as things from sklearn.model_selection. <b>(20 points)</b>"
   ]
  },
  {
   "cell_type": "code",
   "execution_count": 12,
   "metadata": {},
   "outputs": [],
   "source": [
    "def crossValidationkNN(trainData,trainLabels,k):\n",
    "    N = trainLabels.size\n",
    "    error = np.zeros(k+1)\n",
    "    for i in range(1, k+1):\n",
    "        KNN = KNeighborsClassifier(n_neighbors = i)\n",
    "        for j in range(5):\n",
    "            KNN.fit(np.delete(trainData, np.s_[int(j*N/5):int((j+1)*N/5)], 0),\n",
    "                    np.delete(trainLabels, np.s_[int(j*N/5):int((j+1)*N/5)], 0))\n",
    "            error[i] += (1 - KNN.score(trainData[int(j*N/5):int((j+1)*N/5)],\n",
    "                                      trainLabels[int(j*N/5):int((j+1)*N/5)])) / 5\n",
    "    return error"
   ]
  },
  {
   "cell_type": "markdown",
   "metadata": {},
   "source": [
    "Now, we will load some data (acquired from <a href=\"http://www.cs.ubc.ca/~murphyk/\">K.P. Murphy</a>'s <a href=\"https://github.com/probml/pmtk3\"> PMTK tookit</a>)."
   ]
  },
  {
   "cell_type": "code",
   "execution_count": 13,
   "metadata": {},
   "outputs": [],
   "source": [
    "problem2_tmp= genfromtxt('Data/p2.csv', delimiter=',')\n",
    "\n",
    "# Randomly reorder the data\n",
    "np.random.seed(seed=2217) # seed the RNG for repeatability\n",
    "idx=np.random.permutation(problem2_tmp.shape[0])\n",
    "problem2_tmp=problem2_tmp[idx]\n",
    "\n",
    "#The training data which you will use is called \"traindata\"\n",
    "traindata=problem2_tmp[:200,:2]\n",
    "#The training labels are in \"labels\"\n",
    "trainlabels=problem2_tmp[:200,2]\n",
    "\n",
    "#The test data which you will use is called \"testdata\" with labels \"testlabels\"\n",
    "testdata=problem2_tmp[200:,:2]\n",
    "testlabels=problem2_tmp[200:,2]"
   ]
  },
  {
   "cell_type": "markdown",
   "metadata": {},
   "source": [
    "Plot the cross-validation error versus number of neighbors for $1,\\ldots,30$ neighbors. <b>(10 points)</b>"
   ]
  },
  {
   "cell_type": "code",
   "execution_count": 14,
   "metadata": {},
   "outputs": [
    {
     "name": "stdout",
     "output_type": "stream",
     "text": [
      "[0.    0.26  0.245 0.24  0.225 0.215 0.2   0.19  0.2   0.185 0.19  0.185\n",
      " 0.19  0.18  0.175 0.18  0.19  0.195 0.19  0.19  0.195 0.19  0.195 0.21\n",
      " 0.2   0.205 0.2   0.21  0.205 0.2   0.195]\n"
     ]
    },
    {
     "data": {
      "image/png": "[encoded data removed]",
      "text/plain": [
       "<Figure size 432x288 with 1 Axes>"
      ]
     },
     "metadata": {
      "needs_background": "light"
     },
     "output_type": "display_data"
    }
   ],
   "source": [
    "CV_error = crossValidationkNN(traindata, trainlabels, 30)\n",
    "print(CV_error)\n",
    "plot(CV_error);"
   ]
  },
  {
   "cell_type": "code",
   "execution_count": 15,
   "metadata": {},
   "outputs": [
    {
     "data": {
      "image/png": "[encoded data removed]",
      "text/plain": [
       "<Figure size 432x288 with 1 Axes>"
      ]
     },
     "metadata": {
      "needs_background": "light"
     },
     "output_type": "display_data"
    }
   ],
   "source": [
    "CV_error_near = crossValidationkNN(traindata, trainlabels, 30)\n",
    "plot(CV_error_near)\n",
    "plt.ylim(0.16, 0.3);\n",
    "plt.xlim(1, 30);"
   ]
  },
  {
   "cell_type": "markdown",
   "metadata": {},
   "source": [
    "Select the number of neighbors which minimizes the cross-validation error. What is the cross-validation error for this number of neighbors? <b>(10 points)</b>"
   ]
  },
  {
   "cell_type": "code",
   "execution_count": 16,
   "metadata": {},
   "outputs": [
    {
     "name": "stdout",
     "output_type": "stream",
     "text": [
      "Smallest error =  0.175\n",
      "Number of neighbors =  14\n"
     ]
    }
   ],
   "source": [
    "min_err = 10\n",
    "for i in range(1, 31):\n",
    "    if CV_error[i] < min_err:\n",
    "        min_err = CV_error[i]\n",
    "        num_neighbors = i\n",
    "print(\"Smallest error = \", min_err)\n",
    "print(\"Number of neighbors = \", num_neighbors)"
   ]
  },
  {
   "cell_type": "markdown",
   "metadata": {},
   "source": [
    "[Insert Answer Here]  \n",
    "The number of neighbors which minimizes the cross-validation error is 14.  \n",
    "The corresponding cross-validation error is 0.175."
   ]
  },
  {
   "cell_type": "markdown",
   "metadata": {},
   "source": [
    "Train a kNN model on the whole training data using the number of neighbors you found in the previous part of the question, and apply it to the test data. Is it higher or lower than the cross-validation error you found in the last part of the problem? **(10 points)**"
   ]
  },
  {
   "cell_type": "code",
   "execution_count": 17,
   "metadata": {},
   "outputs": [
    {
     "name": "stdout",
     "output_type": "stream",
     "text": [
      "The cross-validation error of the kNN model on the whole training set =  0.21399999999999997\n"
     ]
    }
   ],
   "source": [
    "kNN = KNeighborsClassifier(14)\n",
    "kNN.fit(traindata, trainlabels)\n",
    "kNN_err = 1 - kNN.score(testdata, testlabels)\n",
    "print(\"The cross-validation error of the kNN model on the whole training set = \", kNN_err)"
   ]
  },
  {
   "cell_type": "markdown",
   "metadata": {},
   "source": [
    "[Insert Answer Here]  \n",
    "Compared to 0.175, 0.21399999999999997 is marginally higher than the cross-validation error that I found in the last part of the problem."
   ]
  },
  {
   "cell_type": "markdown",
   "metadata": {},
   "source": [
    "### Problem 3: Detecting Cancer with SVMs and Logistic Regression (45 points)"
   ]
  },
  {
   "cell_type": "markdown",
   "metadata": {},
   "source": [
    "We consider the [Breast Cancer Wisconsin Data Set](https://archive.ics.uci.edu/ml/datasets/Breast+Cancer+Wisconsin+%28Diagnostic%29) from \n",
    "W.N. Street, W.H. Wolberg and O.L. Mangasarian. Nuclear feature extraction for breast tumor diagnosis. IS&T/SPIE 1993 International Symposium on Electronic Imaging: Science and Technology, volume 1905, pages 861-870, San Jose, CA, 1993. \n",
    "\n",
    "The authors diagnosed people by characterizing 3 cell nuclei per person extracted from the breast (pictures [here](http://web.archive.org/web/19970225174429/http://www.cs.wisc.edu/~street/images/)), each with 10 features (for a 30-dimensional feature space):\n",
    "\n",
    "1. radius (mean of distances from center to points on the perimeter) \n",
    "\n",
    "2. texture (standard deviation of gray-scale values) \n",
    "\n",
    "3. perimeter \n",
    "\n",
    "4. area \n",
    "\n",
    "5. smoothness (local variation in radius lengths) \n",
    "\n",
    "6. compactness (perimeter^2 / area - 1.0) \n",
    "\n",
    "7. concavity (severity of concave portions of the contour) \n",
    "\n",
    "8. concave points (number of concave portions of the contour) \n",
    "\n",
    "9. symmetry \n",
    "\n",
    "10. fractal dimension (\"coastline approximation\" - 1)\n",
    "\n",
    "and classified the sample into one of two classes: Malignant ($+1$) or Benign ($-1$). You can read the original paper for more on what these features mean.\n",
    "\n",
    "You will be attempting to classify if a sample is Malignant or Benign using Support Vector Machines, as well as Logistic Regression. Since we don't have all that much data, we will use 10-fold cross-validation to tune our parameters for our SVMs and Logistic Regression. We use 90% of the data for training, and 10% for testing.\n",
    "\n",
    "You will be experimenting with SVMs using Gaussian RBF kernels through sklearn.svm.SVC, linear SVMs through sklearn.svm.LinearSVC, and sklearn.linear_model.LogisticRegression for Logistic Regression. \n",
    "\n",
    "Your model selection will be done with cross-validation via sklearn.model_selection's cross_val_score. This returns the accuracy for each fold, i.e. the fraction of samples classified correctly. Thus, the cross-validation error is simply 1-mean(cross_val_score)."
   ]
  },
  {
   "cell_type": "markdown",
   "metadata": {},
   "source": [
    "First, we load the data. We will use scikit-learn's train test split function to split the data. The data is scaled for reasons outlined <a href=\"http://www.csie.ntu.edu.tw/~cjlin/papers/guide/guide.pdf\">here</a>. In short, it helps avoid some numerical issues and avoids some problems with certain features which are typically large affecting the SVM optimization problem unfairly compared to features which are typically small. "
   ]
  },
  {
   "cell_type": "code",
   "execution_count": 18,
   "metadata": {},
   "outputs": [],
   "source": [
    "from sklearn.model_selection import train_test_split\n",
    "\n",
    "cancer = genfromtxt('Data/wdbc.csv', delimiter=',')\n",
    "\n",
    "np.random.seed(seed=282017) # seed the RNG for repeatability\n",
    "idx=np.random.permutation(cancer.shape[0])\n",
    "cancer=cancer[idx]\n",
    "\n",
    "cancer_features=cancer[:,1:]\n",
    "cancer_labels=cancer[:,0]\n",
    "\n",
    "#The training data is in data_train with labels label_train. \n",
    "# The test data is in data_test with labels label_test.\n",
    "data_train, data_test, label_train, label_test = train_test_split(cancer_features,cancer_labels,test_size=0.1,random_state=292017)\n",
    "\n",
    "# Rescale the training data and scale the test data correspondingly\n",
    "scaler=MinMaxScaler(feature_range=(-1,1))\n",
    "data_train=scaler.fit_transform(data_train) #Note that the scaling is determined solely via the training data!\n",
    "data_test=scaler.transform(data_test)"
   ]
  },
  {
   "cell_type": "markdown",
   "metadata": {},
   "source": [
    "The soft margin linear SVM is tuned based on a parameter $C$, which controls how much points can be violating the margin (this isn't the same $C$ as in the notes, though it serves the same function; see the [scikit-learn documentation](http://scikit-learn.org/stable/modules/svm.html#svc) for details). \n",
    "\n",
    "Use cross-validation to select a value of $C$ for a linear SVM (sklearn.svm.LinearSVC) by varying $C$ from $2^{-5},2^{-4},\\ldots,2^{15}$. \n",
    "\n",
    "Which value of $C$ would you choose, and why? What is the corresponding cross-validation error? <b>(10 points)</b>"
   ]
  },
  {
   "cell_type": "code",
   "execution_count": 19,
   "metadata": {},
   "outputs": [
    {
     "name": "stdout",
     "output_type": "stream",
     "text": [
      "-5\n",
      "-4\n",
      "-3\n",
      "-2\n",
      "-1\n",
      "0\n",
      "1\n",
      "2\n",
      "3\n",
      "4\n",
      "5\n",
      "6\n",
      "7\n",
      "8\n",
      "9\n",
      "10\n",
      "11\n",
      "12\n",
      "13\n",
      "14\n",
      "15\n",
      "The value of C = 2^ -3\n",
      "The corresponding error =  0.02714932126696823\n"
     ]
    }
   ],
   "source": [
    "# cross_val_score(estimator, X, y=None, groups=None, scoring=None, cv=’warn’, n_jobs=None, verbose=0, \n",
    "#                fit_params=None, pre_dispatch=‘2*n_jobs’, error_score=’raise-deprecating’)\n",
    "# Returns array of scores of the estimator for each run of the cross validation.\n",
    "from sklearn.model_selection import cross_val_score\n",
    "C_index = 0\n",
    "final_accuracy = 0\n",
    "for i in range(-5, 16):\n",
    "    print(i)\n",
    "    SVM = LinearSVC(max_iter = 100000000, C = 2**i)\n",
    "    score = cross_val_score(SVM, data_train, label_train, cv = 10)\n",
    "    current_accuracy = score.mean()\n",
    "    if (current_accuracy > final_accuracy):\n",
    "        final_accuracy = current_accuracy\n",
    "        C_index = i\n",
    "print(\"The value of C = 2^\", C_index)\n",
    "print(\"The corresponding error = \", 1 - final_accuracy)"
   ]
  },
  {
   "cell_type": "markdown",
   "metadata": {},
   "source": [
    "[Insert Answer Here]    \n",
    "I will choose 2^-3 as the value of C because it minimizes its corresponding cross-validation error to only 0.02714932126696823. "
   ]
  },
  {
   "cell_type": "markdown",
   "metadata": {},
   "source": [
    "You will now experiment with using kernels in an SVM, particularly the Gaussian RBF kernel (in sklearn.svm.SVC). The SVM has two parameters to tune in this case: $C$ (as before), and $\\gamma$, which is a parameter in the RBF. \n",
    "\n",
    "Use cross-validation to select parameters $(C,\\gamma)$ by searching varying $(C,\\gamma)$ over $C=2^{-5},2^{-4},\\ldots,2^{15}$ and $\\gamma=2^{-15},\\ldots,2^{3}$ [So, you will try about 400 parameter choices]. Out of these, which $(C,\\gamma)$ parameters would you choose? What is the corresponding cross-validation error? \n",
    "\n",
    "This procedure is known as a *grid search*.We are using a fairly coarse grid for this problem, but one could use a finer grid once the rough range of good parameters is known (rather than starting with a fine grid, which would waste a lot of time). <b>(10 points)</b>"
   ]
  },
  {
   "cell_type": "code",
   "execution_count": 20,
   "metadata": {},
   "outputs": [
    {
     "name": "stdout",
     "output_type": "stream",
     "text": [
      "The value of C = 2^ 3\n",
      "The value of 𝛾 = 2^ -3\n",
      "Cross-validation error =  0.019457013574660564\n"
     ]
    }
   ],
   "source": [
    "final_accuracy = 0\n",
    "C_index = 0\n",
    "y_index = 0\n",
    "for i in range(-5, 16):\n",
    "    for j in range(-15, 4):\n",
    "        SVM_GRBF = SVC(C = 2**i, gamma = 2**j)\n",
    "        score = cross_val_score(SVM_GRBF, data_train, label_train, cv = 10)\n",
    "        current_accuracy = score.mean()\n",
    "        if (current_accuracy > final_accuracy):\n",
    "            final_accuracy = current_accuracy\n",
    "            C_index = i\n",
    "            y_index = j\n",
    "print(\"The value of C = 2^\", C_index)\n",
    "print(\"The value of 𝛾 = 2^\", y_index)\n",
    "print(\"Cross-validation error = \", 1 - final_accuracy)"
   ]
  },
  {
   "cell_type": "markdown",
   "metadata": {},
   "source": [
    "[Insert Answer Here]  \n",
    "I will choose 2^3 as the value of C and 2^-3 as the value of 𝛾, because they minimize the cross-validation error to only 0.019457013574660564."
   ]
  },
  {
   "cell_type": "markdown",
   "metadata": {},
   "source": [
    "As stated in a footnote in the notes, Logistic Regression normally has a regularizer parameter to promote stability. Scikit-learn calls this parameter $C$ (which is like $\\lambda^{-1}$ in the notes); see the [LibLinear](http://www.csie.ntu.edu.tw/~cjlin/papers/liblinear.pdf) documentation for the exact meaning of $C$. \n",
    "\n",
    "Use cross-validation to select a value of $C$ for logistic regression (sklearn.linear_model.LogisticRegression) by varying $C$ from $2^{-14},2^{-4},\\ldots,2^{14}$. You may optionally make use of sklearn.model_selection.GridSearchCV, or write the search by hand (as before). \n",
    "\n",
    "Which value of $C$ would you choose? What is the corresponding cross-validation error? **(5 points)**"
   ]
  },
  {
   "cell_type": "code",
   "execution_count": 21,
   "metadata": {},
   "outputs": [
    {
     "name": "stdout",
     "output_type": "stream",
     "text": [
      "The value of C = 2^ 0\n",
      "The corresponding error =  0.021342383107088914\n"
     ]
    }
   ],
   "source": [
    "C_index = 0\n",
    "final_accuracy = 0\n",
    "for i in range(-14, 15):\n",
    "    LR = LogisticRegression(solver = \"lbfgs\", max_iter = 100000, C = 2**i)\n",
    "    score = cross_val_score(LR, data_train, label_train, cv = 10)\n",
    "    current_accuracy = score.mean()\n",
    "    if (current_accuracy > final_accuracy):\n",
    "        final_accuracy = current_accuracy\n",
    "        C_index = i\n",
    "print(\"The value of C = 2^\", C_index)\n",
    "print(\"The corresponding error = \", 1 - final_accuracy)"
   ]
  },
  {
   "cell_type": "markdown",
   "metadata": {},
   "source": [
    "[Insert Answer Here]  \n",
    "I will choose 2^0 as the value of C because it minimizes its corresponding cross-validation error to only 0.021342383107088914."
   ]
  },
  {
   "cell_type": "markdown",
   "metadata": {},
   "source": [
    "Based on the classifiers you selected thusfar for Linear SVM, SVM + Gaussian RBF and Logistic Regression, which classifier would you pick? Make sure to take into account error, the application and computational considerations. **(5 points)**"
   ]
  },
  {
   "cell_type": "markdown",
   "metadata": {},
   "source": [
    "[Insert Answer Here]  \n",
    "I will pick the second classifier, SVM + Gaussian RBF, because in terms of time and error, it has the minimal error among the three classifiers and its computational time is also relatively small. Also, the idea of grid search is widely used in real-world practice to find the optimal hyperparameters of a model which result in the most accurate predictions."
   ]
  },
  {
   "cell_type": "markdown",
   "metadata": {},
   "source": [
    "Train the classifier selected above on the whole training set. Then, estimate the prediction error using the test set. What is your estimate of the prediction error? How does it compare to the cross-validation error?  <b>(10 points)</b>"
   ]
  },
  {
   "cell_type": "code",
   "execution_count": 22,
   "metadata": {},
   "outputs": [
    {
     "name": "stdout",
     "output_type": "stream",
     "text": [
      "Prediction error =  0.017543859649122806\n"
     ]
    }
   ],
   "source": [
    "SVM_GRBF = SVC(C = 2**3, gamma = 2**(-3))\n",
    "SVM_GRBF.fit(data_train, label_train)\n",
    "SVM_GRBFlabels = SVM_GRBF.predict(data_test)\n",
    "\n",
    "# 0,1-loss\n",
    "loss = 0\n",
    "for i in range(0, SVM_GRBFlabels.size):\n",
    "    if (SVM_GRBFlabels[i] != label_test[i]):\n",
    "        loss += 1\n",
    "\n",
    "error = loss / SVM_GRBFlabels.size\n",
    "print(\"Prediction error = \", error)"
   ]
  },
  {
   "cell_type": "markdown",
   "metadata": {},
   "source": [
    "[Insert Answer Here]  \n",
    "My estimate of the prediction error is 0.017543859649122806, compared to the cross-validation error, 0.019457013574660564, prediction error is marginally smaller."
   ]
  },
  {
   "cell_type": "markdown",
   "metadata": {},
   "source": [
    "Do you think the 0,1-loss is appropriate performance measure to report, in this case? If so, why? If not, how would you measure performance? **(5 points)**"
   ]
  },
  {
   "cell_type": "markdown",
   "metadata": {},
   "source": [
    "[Insert Answer Here]  \n",
    "0,1-loss is appropriate since the labels are drawn from a binary set, {+1，-1}, so a prediction is either right or wrong without any intermediate state."
   ]
  },
  {
   "cell_type": "markdown",
   "metadata": {
    "collapsed": true
   },
   "source": [
    "## And this concludes Lab 3! "
   ]
  }
 ],
 "metadata": {
  "anaconda-cloud": {},
  "kernelspec": {
   "display_name": "Python 3",
   "language": "python",
   "name": "python3"
  },
  "language_info": {
   "codemirror_mode": {
    "name": "ipython",
    "version": 3
   },
   "file_extension": ".py",
   "mimetype": "text/x-python",
   "name": "python",
   "nbconvert_exporter": "python",
   "pygments_lexer": "ipython3",
   "version": "3.7.3"
  }
 },
 "nbformat": 4,
 "nbformat_minor": 1
}
