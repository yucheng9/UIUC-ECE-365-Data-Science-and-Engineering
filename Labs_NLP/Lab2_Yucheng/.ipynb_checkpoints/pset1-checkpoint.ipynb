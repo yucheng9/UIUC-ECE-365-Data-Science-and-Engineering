{
 "cells": [
  {
   "cell_type": "markdown",
   "metadata": {},
   "source": [
    "Lab 2: Text Classification\n",
    "=============\n",
    "Yucheng Jin (yucheng9)\n",
    "=====================\n",
    "\n",
    "In this problem set, you will build a system for automatically classifying song lyrics comments by era. You will:\n",
    "\n",
    "- Do some basic text processing, tokenizing your input and converting it into a bag-of-words representation\n",
    "- Build a machine learning classifier based on the generative model, using Naive Bayes\n",
    "- Evaluate your classifiers and examine what they have learned\n",
    "- Build a logistic regression classifier (discriminative model) using PyTorch\n",
    "\n",
    "Total Points: 100 points + 20 bonus points"
   ]
  },
  {
   "cell_type": "markdown",
   "metadata": {},
   "source": [
    "# 0. Setup\n",
    "\n",
    "In order to develop this assignment, you will need [python 3.6](https://www.python.org/downloads/) and the following libraries. Most if not all of these are part of [anaconda](https://www.continuum.io/downloads), so a good starting point would be to install that.\n",
    "\n",
    "- [jupyter](http://jupyter.readthedocs.org/en/latest/install.html)\n",
    "- numpy (This will come if you install scipy like above, but if not install separately)\n",
    "- [matplotlib](http://matplotlib.org/users/installing.html)\n",
    "- [nosetests](https://nose.readthedocs.org/en/latest/)\n",
    "- [pandas](http://pandas.pydata.org/) Dataframes\n",
    "\n",
    "Here is some help on installing packages in python: https://packaging.python.org/installing/. You can use ```pip --user``` to install locally without sudo."
   ]
  },
  {
   "cell_type": "markdown",
   "metadata": {},
   "source": [
    "## About this assignment\n",
    "\n",
    "- This is a Jupyter notebook. You can execute cell blocks by pressing control-enter.\n",
    "- Most of your coding will be in the python source files in the directory ```gtnlplib```. Some functions in these source files will remain empty, and we will not touch them. Do not worry about that, and do not assume you are doing something wrong.\n",
    "- The directory ```tests``` contains unit tests that will be used to grade your assignment, using ```nosetests```. You should run them as you work on the assignment to see that you're on the right track. You are free to look at their source code, if that helps -- though most of the relevant code is also here in this notebook. Learn more about running unit tests at http://pythontesting.net/framework/nose/nose-introduction/\n",
    "- You may want to add more tests, but that is completely optional. \n",
    "- **To submit this assignment, compress the whole directory using tar, and submit the tarball ```lab2-submission.tgz``` on Compass.**"
   ]
  },
  {
   "cell_type": "code",
   "execution_count": 242,
   "metadata": {},
   "outputs": [],
   "source": [
    "import sys\n",
    "from importlib import reload"
   ]
  },
  {
   "cell_type": "code",
   "execution_count": 243,
   "metadata": {},
   "outputs": [
    {
     "name": "stdout",
     "output_type": "stream",
     "text": [
      "My Python version\n",
      "python: 3.7.3 (default, Mar 27 2019, 16:54:48) \n",
      "[Clang 4.0.1 (tags/RELEASE_401/final)]\n"
     ]
    }
   ],
   "source": [
    "print('My Python version')\n",
    "\n",
    "print('python: {}'.format(sys.version))"
   ]
  },
  {
   "cell_type": "code",
   "execution_count": 376,
   "metadata": {},
   "outputs": [],
   "source": [
    "import nose\n",
    "import pandas as pd\n",
    "import numpy as np\n",
    "import scipy as sp\n",
    "import matplotlib\n",
    "import matplotlib.pyplot as plt\n",
    "import torch\n",
    "from torch.autograd import Variable\n",
    "from torch import optim\n",
    "import warnings\n",
    "warnings.filterwarnings('ignore')\n",
    "\n",
    "%matplotlib inline"
   ]
  },
  {
   "cell_type": "code",
   "execution_count": 245,
   "metadata": {
    "scrolled": true
   },
   "outputs": [
    {
     "name": "stdout",
     "output_type": "stream",
     "text": [
      "My library versions\n",
      "pandas: 0.24.2\n",
      "numpy: 1.16.4\n",
      "scipy: 1.3.0\n",
      "matplotlib: 3.1.0\n",
      "nose: 1.3.7\n",
      "torch: 1.3.1\n"
     ]
    }
   ],
   "source": [
    "print('My library versions')\n",
    "print('pandas: {}'.format(pd.__version__))\n",
    "print('numpy: {}'.format(np.__version__))\n",
    "print('scipy: {}'.format(sp.__version__))\n",
    "print('matplotlib: {}'.format(matplotlib.__version__))\n",
    "print('nose: {}'.format(nose.__version__))\n",
    "print('torch: {}'.format(torch.__version__))"
   ]
  },
  {
   "cell_type": "markdown",
   "metadata": {},
   "source": [
    "To test whether your libraries are the right version, run:\n",
    "\n",
    "`nosetests tests/test_environment.py`"
   ]
  },
  {
   "cell_type": "code",
   "execution_count": 246,
   "metadata": {},
   "outputs": [
    {
     "name": "stdout",
     "output_type": "stream",
     "text": [
      ".\r\n",
      "----------------------------------------------------------------------\r\n",
      "Ran 1 test in 0.001s\r\n",
      "\r\n",
      "OK\r\n"
     ]
    }
   ],
   "source": [
    "# use ! to run shell commands in notebook\n",
    "! nosetests tests/test_environment.py"
   ]
  },
  {
   "cell_type": "markdown",
   "metadata": {},
   "source": [
    "# 1. Preprocessing\n",
    "\n",
    "Total: 10 points"
   ]
  },
  {
   "cell_type": "markdown",
   "metadata": {},
   "source": [
    "Read the data into a dataframe"
   ]
  },
  {
   "cell_type": "code",
   "execution_count": 247,
   "metadata": {},
   "outputs": [],
   "source": [
    "df_train = pd.read_csv('lyrics-train.csv')"
   ]
  },
  {
   "cell_type": "markdown",
   "metadata": {},
   "source": [
    "A dataframe is a structured representation of your data. You can preview a dataframe using `head()`"
   ]
  },
  {
   "cell_type": "code",
   "execution_count": 248,
   "metadata": {},
   "outputs": [
    {
     "data": {
      "text/html": [
       "<div>\n",
       "<style scoped>\n",
       "    .dataframe tbody tr th:only-of-type {\n",
       "        vertical-align: middle;\n",
       "    }\n",
       "\n",
       "    .dataframe tbody tr th {\n",
       "        vertical-align: top;\n",
       "    }\n",
       "\n",
       "    .dataframe thead th {\n",
       "        text-align: right;\n",
       "    }\n",
       "</style>\n",
       "<table border=\"1\" class=\"dataframe\">\n",
       "  <thead>\n",
       "    <tr style=\"text-align: right;\">\n",
       "      <th></th>\n",
       "      <th>Era</th>\n",
       "      <th>Lyrics</th>\n",
       "    </tr>\n",
       "  </thead>\n",
       "  <tbody>\n",
       "    <tr>\n",
       "      <th>0</th>\n",
       "      <td>pre-1980</td>\n",
       "      <td>come on come on let me show you where its at a...</td>\n",
       "    </tr>\n",
       "    <tr>\n",
       "      <th>1</th>\n",
       "      <td>1980s</td>\n",
       "      <td>welcome to the big time youre bound to be a s...</td>\n",
       "    </tr>\n",
       "    <tr>\n",
       "      <th>2</th>\n",
       "      <td>pre-1980</td>\n",
       "      <td>once i believed that when love came to me it ...</td>\n",
       "    </tr>\n",
       "    <tr>\n",
       "      <th>3</th>\n",
       "      <td>2000s</td>\n",
       "      <td>i took my love and i took it down climbed a m...</td>\n",
       "    </tr>\n",
       "    <tr>\n",
       "      <th>4</th>\n",
       "      <td>pre-1980</td>\n",
       "      <td>do do do do do do do do do do do do do do do ...</td>\n",
       "    </tr>\n",
       "  </tbody>\n",
       "</table>\n",
       "</div>"
      ],
      "text/plain": [
       "        Era                                             Lyrics\n",
       "0  pre-1980  come on come on let me show you where its at a...\n",
       "1     1980s   welcome to the big time youre bound to be a s...\n",
       "2  pre-1980   once i believed that when love came to me it ...\n",
       "3     2000s   i took my love and i took it down climbed a m...\n",
       "4  pre-1980   do do do do do do do do do do do do do do do ..."
      ]
     },
     "execution_count": 248,
     "metadata": {},
     "output_type": "execute_result"
    }
   ],
   "source": [
    "df_train.head()"
   ]
  },
  {
   "cell_type": "markdown",
   "metadata": {},
   "source": [
    "## Bags of words\n",
    "\n",
    "Your first task is to convert the text to a bag-of-words representation. For this data, a lot of the preprocessing is already done: the text is lower-cased, and punctuation is removed. You need only create a `counter` for each instance.\n",
    "\n",
    "- **Deliverable 1.1**: Complete the function `gtnlplib.preproc.bag_of_words`. (2.5 points)\n",
    "- **Test**: `nose tests/test_preproc.py:test_d1_1_bow`"
   ]
  },
  {
   "cell_type": "code",
   "execution_count": 249,
   "metadata": {},
   "outputs": [],
   "source": [
    "from gtnlplib import preproc"
   ]
  },
  {
   "cell_type": "code",
   "execution_count": 250,
   "metadata": {},
   "outputs": [],
   "source": [
    "# run this block to update the notebook as you change the preproc library\n",
    "reload(preproc);"
   ]
  },
  {
   "cell_type": "code",
   "execution_count": 251,
   "metadata": {},
   "outputs": [],
   "source": [
    "y_tr,x_tr = preproc.read_data('lyrics-train.csv',preprocessor=preproc.bag_of_words)\n",
    "y_dv,x_dv = preproc.read_data('lyrics-dev.csv',preprocessor=preproc.bag_of_words)"
   ]
  },
  {
   "cell_type": "code",
   "execution_count": 252,
   "metadata": {},
   "outputs": [],
   "source": [
    "y_te,x_te = preproc.read_data('lyrics-test-hidden.csv',preprocessor=preproc.bag_of_words)"
   ]
  },
  {
   "cell_type": "markdown",
   "metadata": {},
   "source": [
    "**Test Results**"
   ]
  },
  {
   "cell_type": "code",
   "execution_count": 253,
   "metadata": {},
   "outputs": [
    {
     "name": "stdout",
     "output_type": "stream",
     "text": [
      ".\r\n",
      "----------------------------------------------------------------------\r\n",
      "Ran 1 test in 29.856s\r\n",
      "\r\n",
      "OK\r\n"
     ]
    }
   ],
   "source": [
    "! nosetests tests/test_preproc.py:test_d1_1_bow"
   ]
  },
  {
   "cell_type": "markdown",
   "metadata": {},
   "source": [
    "## Unseen words\n",
    "\n",
    "One challenge for classification is that words will appear in the test data that do not appear in the training data. Compute the number of words that appear in `lyrics-dev.csv`, but not in `lyrics-train.csv`. To do this, implement the following deliverables:\n",
    "\n",
    "- **Deliverable 1.2**: implement `gtnlplib.preproc.aggregate_counts`, a counter of all words in a list of bags-of-words.  (2.5 points)\n",
    "- **Deliverable 1.3**: implement `gtnlplib.preproc.compute_oov`, returning a list of words that appear in one list of bags-of-words, but not another.  (2.5 points)\n",
    "- **Tests**: `tests/test_preproc.py:test_d1_2_agg`, `tests/test_preproc.py:test_d1_3a_oov`"
   ]
  },
  {
   "cell_type": "code",
   "execution_count": 254,
   "metadata": {},
   "outputs": [],
   "source": [
    "from collections import Counter"
   ]
  },
  {
   "cell_type": "code",
   "execution_count": 255,
   "metadata": {},
   "outputs": [],
   "source": [
    "reload(preproc);"
   ]
  },
  {
   "cell_type": "markdown",
   "metadata": {},
   "source": [
    "To write fast code, you can find bottlenecks using the %%timeit cell magic. "
   ]
  },
  {
   "cell_type": "code",
   "execution_count": 277,
   "metadata": {},
   "outputs": [
    {
     "name": "stdout",
     "output_type": "stream",
     "text": [
      "31.3 s ± 889 ms per loop (mean ± std. dev. of 7 runs, 1 loop each)\n"
     ]
    }
   ],
   "source": [
    "%%timeit\n",
    "preproc.aggregate_counts(x_tr)  "
   ]
  },
  {
   "cell_type": "code",
   "execution_count": 274,
   "metadata": {},
   "outputs": [],
   "source": [
    "counts_dv = preproc.aggregate_counts(x_dv)"
   ]
  },
  {
   "cell_type": "markdown",
   "metadata": {},
   "source": [
    "You can see the most common items in a counter by calling `counts.most_common()`:"
   ]
  },
  {
   "cell_type": "code",
   "execution_count": 275,
   "metadata": {},
   "outputs": [
    {
     "data": {
      "text/plain": [
       "[('you', 5542), ('i', 5535), ('the', 5061), ('to', 3203), ('and', 2953)]"
      ]
     },
     "execution_count": 275,
     "metadata": {},
     "output_type": "execute_result"
    }
   ],
   "source": [
    "counts_dv.most_common(5)"
   ]
  },
  {
   "cell_type": "code",
   "execution_count": 276,
   "metadata": {},
   "outputs": [],
   "source": [
    "counts_tr = preproc.aggregate_counts(x_tr)"
   ]
  },
  {
   "cell_type": "code",
   "execution_count": 176,
   "metadata": {},
   "outputs": [
    {
     "data": {
      "text/plain": [
       "2677"
      ]
     },
     "execution_count": 176,
     "metadata": {},
     "output_type": "execute_result"
    }
   ],
   "source": [
    "len(preproc.compute_oov(counts_dv,counts_tr))"
   ]
  },
  {
   "cell_type": "code",
   "execution_count": 177,
   "metadata": {},
   "outputs": [
    {
     "data": {
      "text/plain": [
       "30459"
      ]
     },
     "execution_count": 177,
     "metadata": {},
     "output_type": "execute_result"
    }
   ],
   "source": [
    "len(preproc.compute_oov(counts_tr,counts_dv))"
   ]
  },
  {
   "cell_type": "code",
   "execution_count": 178,
   "metadata": {},
   "outputs": [
    {
     "data": {
      "text/plain": [
       "0.297246280257606"
      ]
     },
     "execution_count": 178,
     "metadata": {},
     "output_type": "execute_result"
    }
   ],
   "source": [
    "preproc.oov_rate(counts_dv,counts_tr)"
   ]
  },
  {
   "cell_type": "markdown",
   "metadata": {},
   "source": [
    "**Test Results**"
   ]
  },
  {
   "cell_type": "code",
   "execution_count": 35,
   "metadata": {},
   "outputs": [
    {
     "name": "stdout",
     "output_type": "stream",
     "text": [
      ".\n",
      "----------------------------------------------------------------------\n",
      "Ran 1 test in 35.527s\n",
      "\n",
      "OK\n",
      ".\n",
      "----------------------------------------------------------------------\n",
      "Ran 1 test in 32.759s\n",
      "\n",
      "OK\n"
     ]
    }
   ],
   "source": [
    "! nosetests tests/test_preproc.py:test_d1_2_agg\n",
    "! nosetests tests/test_preproc.py:test_d1_3a_oov"
   ]
  },
  {
   "cell_type": "markdown",
   "metadata": {},
   "source": [
    "30% of the words in the dev set do not appear in the training set."
   ]
  },
  {
   "cell_type": "markdown",
   "metadata": {},
   "source": [
    "## Pruning the vocabulary\n",
    "\n",
    "Let's prune the vocabulary to include only words that appear at least ten times in the training data.\n",
    "\n",
    "- **Deliverable 1.4:** Implement `preproc.prune_vocabulary` (2.5 points)\n",
    "- **Test**: `tests/test_preproc.py:test_d1_4_prune`"
   ]
  },
  {
   "cell_type": "code",
   "execution_count": 179,
   "metadata": {},
   "outputs": [],
   "source": [
    "reload(preproc);"
   ]
  },
  {
   "cell_type": "code",
   "execution_count": 180,
   "metadata": {},
   "outputs": [],
   "source": [
    "x_tr_pruned, vocab = preproc.prune_vocabulary(counts_tr,x_tr,10)\n",
    "x_dv_pruned, _ = preproc.prune_vocabulary(counts_tr,x_dv,10)\n",
    "x_te_pruned, _ = preproc.prune_vocabulary(counts_tr,x_te,10)"
   ]
  },
  {
   "cell_type": "code",
   "execution_count": 181,
   "metadata": {},
   "outputs": [
    {
     "data": {
      "text/plain": [
       "4875"
      ]
     },
     "execution_count": 181,
     "metadata": {},
     "output_type": "execute_result"
    }
   ],
   "source": [
    "len(vocab)"
   ]
  },
  {
   "cell_type": "code",
   "execution_count": 182,
   "metadata": {},
   "outputs": [
    {
     "name": "stdout",
     "output_type": "stream",
     "text": [
      "88 79\n",
      "187 176\n"
     ]
    }
   ],
   "source": [
    "i = 94\n",
    "print(len(x_dv[i]),len(x_dv_pruned[i]))\n",
    "print(sum(x_dv[i].values()),sum(x_dv_pruned[i].values()))"
   ]
  },
  {
   "cell_type": "markdown",
   "metadata": {},
   "source": [
    "**Test Results**"
   ]
  },
  {
   "cell_type": "code",
   "execution_count": 40,
   "metadata": {},
   "outputs": [
    {
     "name": "stdout",
     "output_type": "stream",
     "text": [
      ".\r\n",
      "----------------------------------------------------------------------\r\n",
      "Ran 1 test in 34.378s\r\n",
      "\r\n",
      "OK\r\n"
     ]
    }
   ],
   "source": [
    "! nosetests tests/test_preproc.py:test_d1_4_prune"
   ]
  },
  {
   "cell_type": "markdown",
   "metadata": {},
   "source": [
    "# 2. Linear classification\n",
    "\n",
    "Now you'll implement the linear classification rule, $\\hat{y} = \\text{argmax}_y \\theta^{\\top} f(x,y)$.\n",
    "\n",
    "You will use these functions in all classifiers in this assignment.\n",
    "\n",
    "Total: 20 points."
   ]
  },
  {
   "cell_type": "code",
   "execution_count": 207,
   "metadata": {},
   "outputs": [],
   "source": [
    "from gtnlplib import clf_base\n",
    "reload(clf_base)\n",
    "\n",
    "from gtnlplib import constants\n",
    "reload(constants);"
   ]
  },
  {
   "cell_type": "markdown",
   "metadata": {},
   "source": [
    "The feature function vector $f(x,y)$ can be viewed as a dict, in which the values are counts, and the keys are tuples $(y,x_j)$, where $y$ is a label and $x_j$ is a base feature.\n",
    "\n",
    "- **Deliverable 2.1**: Implement the function ```make_feature_vector``` in ```clf_base.py```. (10 points)\n",
    "- **Test**: `tests/test_classifier.py:test_d2_1_featvec`\n",
    "\n",
    "Note that you must also include the offset feature, ```gtnlplib.constants.OFFSET```.\n",
    "\n",
    "Desired output is shown below:"
   ]
  },
  {
   "cell_type": "code",
   "execution_count": 208,
   "metadata": {},
   "outputs": [],
   "source": [
    "fv = clf_base.make_feature_vector({'test':1,'case':2},'1980s')"
   ]
  },
  {
   "cell_type": "code",
   "execution_count": 209,
   "metadata": {},
   "outputs": [
    {
     "name": "stdout",
     "output_type": "stream",
     "text": [
      "{('1980s', 'test'): 1, ('1980s', 'case'): 2, ('1980s', '**OFFSET**'): 1}\n"
     ]
    }
   ],
   "source": [
    "print(fv)"
   ]
  },
  {
   "cell_type": "markdown",
   "metadata": {},
   "source": [
    "Let's compute the entire set of labels."
   ]
  },
  {
   "cell_type": "code",
   "execution_count": 210,
   "metadata": {},
   "outputs": [
    {
     "name": "stdout",
     "output_type": "stream",
     "text": [
      "{'1980s', '2000s', 'pre-1980', '1990s'}\n"
     ]
    }
   ],
   "source": [
    "labels = set(y_tr) #figure out all possible labels\n",
    "print(labels)"
   ]
  },
  {
   "cell_type": "markdown",
   "metadata": {},
   "source": [
    "Now implement the prediction rule, $\\hat{y} = \\text{argmax}_y \\theta^{\\top} f(x,y)$.\n",
    "\n",
    "- **Deliverable 2.2**: Implement the function ```predict``` in ```clf_base.py```. (10 points)\n",
    "- **Test**: `tests/test_classifier.py:test_d2_2_predict`\n",
    "\n",
    "The output should be:\n",
    "\n",
    "- A predicted label\n",
    "- The scores of all labels\n",
    "\n",
    "This function will be called **a lot**, so try to make it fast. You don't need to do anything crazy, but avoid making your code do silly extra work. It's worth trying out a couple different versions using %%timeit.\n",
    "\n",
    "You can test this function using these simple hand-crafted weights."
   ]
  },
  {
   "cell_type": "code",
   "execution_count": 211,
   "metadata": {},
   "outputs": [],
   "source": [
    "from collections import defaultdict"
   ]
  },
  {
   "cell_type": "code",
   "execution_count": 212,
   "metadata": {},
   "outputs": [],
   "source": [
    "# weight vectors must be defaultdicts\n",
    "theta_hand = defaultdict(float,\n",
    "                         {('2000s','money'):0.1,\n",
    "                          ('2000s','name'):0.2,\n",
    "                          ('1980s','tonight'):0.1,\n",
    "                          ('2000s','man'):0.1,\n",
    "                          ('1990s','fly'):0.1,\n",
    "                          ('pre-1980',constants.OFFSET):0.1\n",
    "                         })"
   ]
  },
  {
   "cell_type": "code",
   "execution_count": 213,
   "metadata": {},
   "outputs": [
    {
     "data": {
      "text/plain": [
       "('2000s',\n",
       " {'1980s': 0.0, '2000s': 1.3000000000000003, 'pre-1980': 0.1, '1990s': 0.0})"
      ]
     },
     "execution_count": 213,
     "metadata": {},
     "output_type": "execute_result"
    }
   ],
   "source": [
    "clf_base.predict(x_tr_pruned[0],theta_hand,labels)"
   ]
  },
  {
   "cell_type": "markdown",
   "metadata": {},
   "source": [
    "Now let's see how good these weights are, by evaluating on the dev set."
   ]
  },
  {
   "cell_type": "code",
   "execution_count": 214,
   "metadata": {},
   "outputs": [],
   "source": [
    "from gtnlplib import evaluation\n",
    "reload(evaluation);"
   ]
  },
  {
   "cell_type": "code",
   "execution_count": 215,
   "metadata": {},
   "outputs": [
    {
     "name": "stdout",
     "output_type": "stream",
     "text": [
      "0.3422222222222222\n"
     ]
    }
   ],
   "source": [
    "# this applies your predict function to all the instances in ```x_dv```\n",
    "y_hat = clf_base.predict_all(x_dv_pruned,theta_hand,labels)\n",
    "print(evaluation.acc(y_hat,y_dv))"
   ]
  },
  {
   "cell_type": "markdown",
   "metadata": {},
   "source": [
    "**Test Results**"
   ]
  },
  {
   "cell_type": "code",
   "execution_count": 51,
   "metadata": {},
   "outputs": [
    {
     "name": "stdout",
     "output_type": "stream",
     "text": [
      ".\n",
      "----------------------------------------------------------------------\n",
      "Ran 1 test in 30.493s\n",
      "\n",
      "OK\n",
      ".\n",
      "----------------------------------------------------------------------\n",
      "Ran 1 test in 32.866s\n",
      "\n",
      "OK\n"
     ]
    }
   ],
   "source": [
    "! nosetests tests/test_classifier.py:test_d2_1_featvec\n",
    "! nosetests tests/test_classifier.py:test_d2_2_predict"
   ]
  },
  {
   "cell_type": "markdown",
   "metadata": {},
   "source": [
    "# 3. Naive Bayes\n",
    "\n",
    "You'll now implement a Naive Bayes classifier, as described in chapter 1 of the notes.\n",
    "\n",
    "Total: 30 points"
   ]
  },
  {
   "cell_type": "code",
   "execution_count": 293,
   "metadata": {},
   "outputs": [],
   "source": [
    "from gtnlplib import naive_bayes\n",
    "reload(naive_bayes);"
   ]
  },
  {
   "cell_type": "markdown",
   "metadata": {},
   "source": [
    "- **Deliverable 3.1**: (warmup) implement ```get_corpus_counts``` in ```naive_bayes.py```. (7.5 points)\n",
    "- **Test**: `tests/test_classifier.py:test_d3_1_corpus_counts`\n",
    "\n",
    "This function should compute the word counts for a given label."
   ]
  },
  {
   "cell_type": "code",
   "execution_count": 184,
   "metadata": {},
   "outputs": [
    {
     "name": "stdout",
     "output_type": "stream",
     "text": [
      "50\n",
      "14\n"
     ]
    }
   ],
   "source": [
    "eighties_counts = naive_bayes.get_corpus_counts(x_tr_pruned,y_tr,\"1980s\");\n",
    "print(eighties_counts['today'])\n",
    "print(eighties_counts['yesterday'])"
   ]
  },
  {
   "cell_type": "markdown",
   "metadata": {},
   "source": [
    "- **Deliverable 3.2**: Implement ```estimate_pxy``` in ```naive_bayes.py```. (7.5 points)\n",
    "- **Test**: `tests/test_classifier.py:test_d3_2_pxy`\n",
    "\n",
    "This function should compute the *smoothed* multinomial distribution $\\log P(x \\mid y)$ for a given label $y$.\n",
    "\n",
    "Hint: note that this function takes the vocabulary as an argument. You have to assign a probability even for words that do not appear in documents with label $y$, if they are in the vocabulary.\n",
    "\n",
    "You can use ```get_corpus_counts``` in this function if you want to, but you don't have to."
   ]
  },
  {
   "cell_type": "code",
   "execution_count": 185,
   "metadata": {},
   "outputs": [],
   "source": [
    "log_pxy = naive_bayes.estimate_pxy(x_tr_pruned,y_tr,\"1980s\",0.1,vocab)"
   ]
  },
  {
   "cell_type": "markdown",
   "metadata": {},
   "source": [
    "Probabilities must sum to one! (or very close)"
   ]
  },
  {
   "cell_type": "code",
   "execution_count": 187,
   "metadata": {},
   "outputs": [
    {
     "data": {
      "text/plain": [
       "0.9999999999999506"
      ]
     },
     "execution_count": 187,
     "metadata": {},
     "output_type": "execute_result"
    }
   ],
   "source": [
    "sum(np.exp(list(log_pxy.values())))"
   ]
  },
  {
   "cell_type": "markdown",
   "metadata": {},
   "source": [
    "Let's look at the log-probabilities of the words from the hand-tuned weights"
   ]
  },
  {
   "cell_type": "code",
   "execution_count": 188,
   "metadata": {},
   "outputs": [
    {
     "name": "stdout",
     "output_type": "stream",
     "text": [
      "{'money': -7.689562807416732, 'name': -7.568324713816848, 'tonight': -6.216637557007502, 'man': -6.63187694645784, 'fly': -8.636944126360918, '**OFFSET**': -8.491875383431948}\n"
     ]
    }
   ],
   "source": [
    "print({word:log_pxy[word] for (_,word),weight in theta_hand.items() if weight>0})"
   ]
  },
  {
   "cell_type": "code",
   "execution_count": 189,
   "metadata": {},
   "outputs": [],
   "source": [
    "log_pxy_more_smooth = naive_bayes.estimate_pxy(x_tr_pruned,y_tr,\"1980s\",10,vocab)"
   ]
  },
  {
   "cell_type": "code",
   "execution_count": 190,
   "metadata": {},
   "outputs": [
    {
     "name": "stdout",
     "output_type": "stream",
     "text": [
      "{'money': -7.80136351255418, 'name': -7.6911603724205655, 'tonight': -6.405407240522552, 'man': -6.808471387093179, 'fly': -8.607451104294721, '**OFFSET**': -8.491875383431948}\n"
     ]
    }
   ],
   "source": [
    "print({word:log_pxy_more_smooth[word] for (_,word),weight in theta_hand.items() if weight>0})"
   ]
  },
  {
   "cell_type": "markdown",
   "metadata": {},
   "source": [
    "- **Deliverable 3.3**: Now you are ready to implement ```estimate_nb``` in ```naive_bayes.py```. (7.5 points)\n",
    "- **Test**: `tests/test_classifier.py:test_d3_3a_nb`\n",
    "\n",
    "\n",
    "\n",
    "- The goal is that the score given by ```clf_base.predict``` is equal to the joint probability $P(x,y)$, as described in the notes.\n",
    "- Don't forget the offset feature, whose weights should be set to the prior $\\log P(y)$.\n",
    "- The log-probabilities for the offset feature should not be smoothed.\n",
    "- You can call the functions you have defined above, but you don't have to."
   ]
  },
  {
   "cell_type": "code",
   "execution_count": 235,
   "metadata": {},
   "outputs": [],
   "source": [
    "theta_nb = naive_bayes.estimate_nb(x_tr_pruned,y_tr,0.1)"
   ]
  },
  {
   "cell_type": "code",
   "execution_count": 236,
   "metadata": {},
   "outputs": [
    {
     "data": {
      "text/plain": [
       "('2000s',\n",
       " {'1980s': -2153.019927798136,\n",
       "  '2000s': -2099.247401056139,\n",
       "  'pre-1980': -2136.8348423968023,\n",
       "  '1990s': -2125.1966084804503})"
      ]
     },
     "execution_count": 236,
     "metadata": {},
     "output_type": "execute_result"
    }
   ],
   "source": [
    "clf_base.predict(x_tr_pruned[155],theta_nb,labels)"
   ]
  },
  {
   "cell_type": "code",
   "execution_count": 238,
   "metadata": {},
   "outputs": [
    {
     "name": "stdout",
     "output_type": "stream",
     "text": [
      "0.46444444444444444\n"
     ]
    }
   ],
   "source": [
    "y_hat = clf_base.predict_all(x_dv_pruned,theta_nb,labels)\n",
    "print(evaluation.acc(y_hat,y_dv))"
   ]
  },
  {
   "cell_type": "code",
   "execution_count": 239,
   "metadata": {},
   "outputs": [
    {
     "data": {
      "text/plain": [
       "0.46444444444444444"
      ]
     },
     "execution_count": 239,
     "metadata": {},
     "output_type": "execute_result"
    }
   ],
   "source": [
    "# this block shows how we write and read predictions for evaluation\n",
    "evaluation.write_predictions(y_hat,'nb-dev.preds')\n",
    "y_hat_dv = evaluation.read_predictions('nb-dev.preds')\n",
    "evaluation.acc(y_hat_dv,y_dv)"
   ]
  },
  {
   "cell_type": "code",
   "execution_count": 140,
   "metadata": {},
   "outputs": [],
   "source": [
    "# execute this block to write predictions for the test set\n",
    "y_hat = clf_base.predict_all(x_te_pruned,theta_nb,labels)\n",
    "evaluation.write_predictions(y_hat,'nb-test.preds')"
   ]
  },
  {
   "cell_type": "markdown",
   "metadata": {},
   "source": [
    "- **Deliverable 3.4**: Write a function in ```naive_bayes.py``` called ```find_best_smoother```, which finds the smoothing value that gives best performance on the dev data.  (7.5 points)\n",
    "- **Test**: `tests/test_classifier.py:test_d3_4a_nb_best`\n",
    "\n",
    "Your function should be trying at least the following values in `vals` below.\n",
    "\n",
    "Then, using this smoothing value, run your Naive Bayes classifier on the test set, and output the results."
   ]
  },
  {
   "cell_type": "code",
   "execution_count": 279,
   "metadata": {},
   "outputs": [
    {
     "name": "stdout",
     "output_type": "stream",
     "text": [
      "[1.00000000e-03 3.16227766e-03 1.00000000e-02 3.16227766e-02\n",
      " 1.00000000e-01 3.16227766e-01 1.00000000e+00 3.16227766e+00\n",
      " 1.00000000e+01 3.16227766e+01 1.00000000e+02]\n"
     ]
    }
   ],
   "source": [
    "vals = np.logspace(-3,2,11)\n",
    "print(vals)"
   ]
  },
  {
   "cell_type": "code",
   "execution_count": 294,
   "metadata": {},
   "outputs": [],
   "source": [
    "best_smoother, scores = naive_bayes.find_best_smoother(x_tr_pruned,y_tr,x_dv_pruned,y_dv,vals)"
   ]
  },
  {
   "cell_type": "code",
   "execution_count": 295,
   "metadata": {},
   "outputs": [
    {
     "data": {
      "image/png": "[encoded data removed]",
      "text/plain": [
       "<Figure size 432x288 with 1 Axes>"
      ]
     },
     "metadata": {
      "needs_background": "light"
     },
     "output_type": "display_data"
    }
   ],
   "source": [
    "plt.semilogx(list(scores.keys()),list(scores.values()),'o-');\n",
    "plt.xlabel('smoothing')\n",
    "plt.ylabel('dev set accuracy');"
   ]
  },
  {
   "cell_type": "markdown",
   "metadata": {},
   "source": [
    "**Reflect:**\n",
    "\n",
    "- what might explain the dramatic drop in accuracy when the smoothing is increased from $10$ to $30$?\n",
    "- before you check, predict whether the accuracy will continue to significantly drop if you further increase the smoothing to $10000$."
   ]
  },
  {
   "cell_type": "markdown",
   "metadata": {},
   "source": [
    "**My answer**\n",
    "\n",
    "* Because our corpora of song lyrics only have a very limited number of words, for a particular label, the total number of words in our corpora of song lyrics that labeled as this specific label is also limited, when add the product of the smoothing and number of words (V), the denominator will become very large. Therefore, the probability of a specific word given a particular label will decrease and this will lower the accuracy.\n",
    "\n",
    "\n",
    "* I predict that the accuracy will continue to significantly drop if I further increase the smoothing to  10000. Since 10000 is a very large number, and when it times the number of words (V), the denominator will become very large."
   ]
  },
  {
   "cell_type": "code",
   "execution_count": 296,
   "metadata": {},
   "outputs": [],
   "source": [
    "theta_nb = naive_bayes.estimate_nb(x_tr_pruned,y_tr,best_smoother)\n",
    "y_hat = clf_base.predict_all(x_te_pruned,theta_nb,labels)\n",
    "evaluation.write_predictions(y_hat,'nb-best-test.preds')"
   ]
  },
  {
   "cell_type": "code",
   "execution_count": 298,
   "metadata": {},
   "outputs": [
    {
     "data": {
      "image/png": "[encoded data removed]",
      "text/plain": [
       "<Figure size 432x288 with 1 Axes>"
      ]
     },
     "metadata": {
      "needs_background": "light"
     },
     "output_type": "display_data"
    }
   ],
   "source": [
    "vals = np.logspace(-3,5,11)\n",
    "best_smoother, scores = naive_bayes.find_best_smoother(x_tr_pruned,y_tr,x_dv_pruned,y_dv,vals)\n",
    "plt.semilogx(list(scores.keys()),list(scores.values()),'o-');\n",
    "plt.xlabel('smoothing')\n",
    "plt.ylabel('dev set accuracy');"
   ]
  },
  {
   "cell_type": "markdown",
   "metadata": {},
   "source": [
    "**Test Results**"
   ]
  },
  {
   "cell_type": "code",
   "execution_count": 297,
   "metadata": {},
   "outputs": [
    {
     "name": "stdout",
     "output_type": "stream",
     "text": [
      ".\n",
      "----------------------------------------------------------------------\n",
      "Ran 1 test in 29.303s\n",
      "\n",
      "OK\n",
      ".\n",
      "----------------------------------------------------------------------\n",
      "Ran 1 test in 36.405s\n",
      "\n",
      "OK\n",
      ".\n",
      "----------------------------------------------------------------------\n",
      "Ran 1 test in 38.529s\n",
      "\n",
      "OK\n",
      ".\n",
      "----------------------------------------------------------------------\n",
      "Ran 1 test in 45.738s\n",
      "\n",
      "OK\n"
     ]
    }
   ],
   "source": [
    "! nosetests tests/test_classifier.py:test_d3_1_corpus_counts\n",
    "! nosetests tests/test_classifier.py:test_d3_2_pxy    \n",
    "! nosetests tests/test_classifier.py:test_d3_3a_nb\n",
    "! nosetests tests/test_classifier.py:test_d3_4a_nb_best"
   ]
  },
  {
   "cell_type": "markdown",
   "metadata": {},
   "source": [
    "# 4. Logistic regression\n",
    "\n",
    "Total: 30 points\n",
    "\n",
    "You will implement logistic regression in PyTorch."
   ]
  },
  {
   "cell_type": "markdown",
   "metadata": {},
   "source": [
    "## 4.1 Converting data to numpy\n",
    "\n",
    "Numpy is a package for numerical computing in python.\n",
    "\n",
    "You will need to convert your bag-of-words list of counters to a numpy array. \n",
    "\n",
    "- **Deliverable 4.1**: Implement `preproc.py:make_numpy()` (6 points)\n",
    "- **Test**: `test_pytorch/test_d5_1_numpy`\n",
    "- **Hint**: one approach is to start with `numpy.zeros((height,width))`, and then fill in the cells by iterating through the bag-of-words list"
   ]
  },
  {
   "cell_type": "code",
   "execution_count": 121,
   "metadata": {},
   "outputs": [
    {
     "name": "stdout",
     "output_type": "stream",
     "text": [
      "[[0. 0.]\n",
      " [0. 0.]\n",
      " [0. 0.]\n",
      " [0. 0.]]\n"
     ]
    }
   ],
   "source": [
    "X = np.zeros((4,2))\n",
    "print(X)"
   ]
  },
  {
   "cell_type": "code",
   "execution_count": 299,
   "metadata": {},
   "outputs": [
    {
     "name": "stdout",
     "output_type": "stream",
     "text": [
      "[[ 0.   0. ]\n",
      " [ 0.  -1. ]\n",
      " [ 1.5  0. ]\n",
      " [ 0.   0. ]]\n"
     ]
    }
   ],
   "source": [
    "X[1,1] = -1\n",
    "X[2,0] = 1.5\n",
    "print(X)"
   ]
  },
  {
   "cell_type": "code",
   "execution_count": 312,
   "metadata": {},
   "outputs": [],
   "source": [
    "reload(preproc);"
   ]
  },
  {
   "cell_type": "code",
   "execution_count": 313,
   "metadata": {},
   "outputs": [],
   "source": [
    "X_tr = preproc.make_numpy(x_tr_pruned,vocab)\n",
    "X_dv = preproc.make_numpy(x_dv_pruned,vocab)\n",
    "X_te = preproc.make_numpy(x_te_pruned,vocab)"
   ]
  },
  {
   "cell_type": "code",
   "execution_count": 314,
   "metadata": {},
   "outputs": [
    {
     "name": "stdout",
     "output_type": "stream",
     "text": [
      "['1980s', '1990s', '2000s', 'pre-1980']\n"
     ]
    }
   ],
   "source": [
    "label_set = sorted(list(set(y_tr)))\n",
    "print(label_set)"
   ]
  },
  {
   "cell_type": "code",
   "execution_count": 315,
   "metadata": {},
   "outputs": [],
   "source": [
    "Y_tr = np.array([label_set.index(y_i) for y_i in y_tr])\n",
    "Y_dv = np.array([label_set.index(y_i) for y_i in y_dv])"
   ]
  },
  {
   "cell_type": "code",
   "execution_count": 316,
   "metadata": {},
   "outputs": [
    {
     "data": {
      "text/plain": [
       "4"
      ]
     },
     "execution_count": 316,
     "metadata": {},
     "output_type": "execute_result"
    }
   ],
   "source": [
    "len(set(Y_tr))"
   ]
  },
  {
   "cell_type": "markdown",
   "metadata": {},
   "source": [
    "## 4.2 Building a logistic regression model\n",
    "\n",
    "- **Deliverable 4.2**: Complete `logreg.build_linear` (6 points)\n",
    "- **Test**: `tests/test_pytorch.py:test_d5_2_logreg`"
   ]
  },
  {
   "cell_type": "code",
   "execution_count": 321,
   "metadata": {},
   "outputs": [],
   "source": [
    "from gtnlplib import logreg\n",
    "reload(logreg);"
   ]
  },
  {
   "cell_type": "code",
   "execution_count": 322,
   "metadata": {},
   "outputs": [],
   "source": [
    "torch.manual_seed(765);"
   ]
  },
  {
   "cell_type": "code",
   "execution_count": 323,
   "metadata": {},
   "outputs": [],
   "source": [
    "X_tr_var = Variable(torch.from_numpy(X_tr.astype(np.float32)))\n",
    "X_dv_var = Variable(torch.from_numpy(X_dv.astype(np.float32)))\n",
    "X_te_var = Variable(torch.from_numpy(X_te.astype(np.float32)))"
   ]
  },
  {
   "cell_type": "markdown",
   "metadata": {},
   "source": [
    "It's always a good idea to check the dimensions of your data first."
   ]
  },
  {
   "cell_type": "code",
   "execution_count": 324,
   "metadata": {},
   "outputs": [
    {
     "name": "stdout",
     "output_type": "stream",
     "text": [
      "torch.Size([4000, 4875])\n",
      "torch.Size([450, 4875])\n"
     ]
    }
   ],
   "source": [
    "print(X_tr_var.size())\n",
    "print(X_dv_var.size())"
   ]
  },
  {
   "cell_type": "code",
   "execution_count": 325,
   "metadata": {},
   "outputs": [],
   "source": [
    "model = logreg.build_linear(X_tr,Y_tr)"
   ]
  },
  {
   "cell_type": "code",
   "execution_count": 326,
   "metadata": {},
   "outputs": [
    {
     "name": "stdout",
     "output_type": "stream",
     "text": [
      "tensor([[-0.7673, -0.7583, -0.3767,  0.0325],\n",
      "        [ 0.1110, -0.3801, -0.3979,  0.1642],\n",
      "        [-1.8015, -0.5595, -3.5092,  0.9633],\n",
      "        ...,\n",
      "        [-0.3965,  0.0962, -0.4972, -0.1959],\n",
      "        [-0.1721, -0.5167, -0.2574,  0.1571],\n",
      "        [-0.3643,  0.0312, -0.4181,  0.4564]], grad_fn=<AddmmBackward>)\n"
     ]
    }
   ],
   "source": [
    "scores = model.forward(X_dv_var)\n",
    "print(scores)"
   ]
  },
  {
   "cell_type": "markdown",
   "metadata": {},
   "source": [
    "## 4.3 Adding a log-softmax layer\n",
    "\n",
    "We're done it for you in PyTorch. Write your own log-softmax function in numpy and verify the results.\n",
    "\n",
    "- **Deliverable 4.3**: Complete `logreg.log_softmax` (6 points)\n",
    "- **Test**: `tests/test_pytorch.py:test_d5_3_log_softmax`"
   ]
  },
  {
   "cell_type": "code",
   "execution_count": 328,
   "metadata": {},
   "outputs": [],
   "source": [
    "model.add_module('softmax',torch.nn.LogSoftmax(dim=1))"
   ]
  },
  {
   "cell_type": "code",
   "execution_count": 329,
   "metadata": {},
   "outputs": [
    {
     "data": {
      "text/plain": [
       "tensor([[-1.7426, -1.7336, -1.3520, -0.9427],\n",
       "        [-1.1841, -1.6752, -1.6930, -1.1309],\n",
       "        [-3.0214, -1.7793, -4.7291, -0.2566]], grad_fn=<SliceBackward>)"
      ]
     },
     "execution_count": 329,
     "metadata": {},
     "output_type": "execute_result"
    }
   ],
   "source": [
    "model.forward(X_dv_var)[:3]"
   ]
  },
  {
   "cell_type": "code",
   "execution_count": 330,
   "metadata": {},
   "outputs": [
    {
     "data": {
      "text/plain": [
       "tensor([[0.1751, 0.1767, 0.2587, 0.3896],\n",
       "        [0.3060, 0.1873, 0.1840, 0.3227],\n",
       "        [0.0487, 0.1688, 0.0088, 0.7737]], grad_fn=<ExpBackward>)"
      ]
     },
     "execution_count": 330,
     "metadata": {},
     "output_type": "execute_result"
    }
   ],
   "source": [
    "model.forward(X_dv_var)[:3].exp()"
   ]
  },
  {
   "cell_type": "markdown",
   "metadata": {},
   "source": [
    "Notice that each row sums up to one."
   ]
  },
  {
   "cell_type": "code",
   "execution_count": 331,
   "metadata": {},
   "outputs": [
    {
     "data": {
      "text/plain": [
       "tensor([1.0000, 1.0000, 1.0000], grad_fn=<SumBackward1>)"
      ]
     },
     "execution_count": 331,
     "metadata": {},
     "output_type": "execute_result"
    }
   ],
   "source": [
    "model.forward(X_dv_var)[:3].exp().sum(dim=1)"
   ]
  },
  {
   "cell_type": "code",
   "execution_count": 332,
   "metadata": {},
   "outputs": [],
   "source": [
    "reload(logreg);"
   ]
  },
  {
   "cell_type": "code",
   "execution_count": 333,
   "metadata": {},
   "outputs": [
    {
     "data": {
      "text/plain": [
       "array([[-1.7426362 , -1.7335784 , -1.3519608 , -0.9427422 ],\n",
       "       [-1.1840885 , -1.675237  , -1.692963  , -1.1309158 ],\n",
       "       [-3.0213726 , -1.7793286 , -4.7291145 , -0.25659704]],\n",
       "      dtype=float32)"
      ]
     },
     "execution_count": 333,
     "metadata": {},
     "output_type": "execute_result"
    }
   ],
   "source": [
    "logreg.log_softmax(scores[:3].data.numpy()) "
   ]
  },
  {
   "cell_type": "markdown",
   "metadata": {},
   "source": [
    "These should be very close to the PyTorch results."
   ]
  },
  {
   "cell_type": "markdown",
   "metadata": {},
   "source": [
    "## 4.4 Negative Log-Likelihood Loss\n",
    "\n",
    "A loss function tells you how well your model is doing. It produces gradients that allows the optimizer to tune the model weights. We've done the Pytorch call for you, try implementing this yourself in numpy!\n",
    "\n",
    "- **Deliverable 4.4**: Complete `logreg.nll_loss` (6 points)\n",
    "- **Test**: `tests/test_pytorch.py:test_d5_4_nll_loss`"
   ]
  },
  {
   "cell_type": "code",
   "execution_count": 335,
   "metadata": {},
   "outputs": [],
   "source": [
    "loss = torch.nn.NLLLoss()"
   ]
  },
  {
   "cell_type": "code",
   "execution_count": 336,
   "metadata": {},
   "outputs": [],
   "source": [
    "Y_tr_var = Variable(torch.from_numpy(Y_tr))\n",
    "Y_dv_var = Variable(torch.from_numpy(Y_dv))"
   ]
  },
  {
   "cell_type": "code",
   "execution_count": 337,
   "metadata": {},
   "outputs": [
    {
     "name": "stdout",
     "output_type": "stream",
     "text": [
      "tensor(1.5013, grad_fn=<NllLossBackward>)\n"
     ]
    }
   ],
   "source": [
    "logP = model.forward(X_tr_var)\n",
    "print(loss.forward(logP,Y_tr_var))"
   ]
  },
  {
   "cell_type": "code",
   "execution_count": 338,
   "metadata": {},
   "outputs": [],
   "source": [
    "reload(logreg);"
   ]
  },
  {
   "cell_type": "code",
   "execution_count": 339,
   "metadata": {},
   "outputs": [
    {
     "data": {
      "text/plain": [
       "1.5013313"
      ]
     },
     "execution_count": 339,
     "metadata": {},
     "output_type": "execute_result"
    }
   ],
   "source": [
    "logreg.nll_loss(logP.data.numpy(), Y_tr)"
   ]
  },
  {
   "cell_type": "markdown",
   "metadata": {},
   "source": [
    "Again, This should be very similar to the PyTorch result above."
   ]
  },
  {
   "cell_type": "markdown",
   "metadata": {},
   "source": [
    "## 4.5 Putting everything together\n",
    "\n",
    "An optimizer can be used to actually learn the weights. We provide the complete code below that you can train on in `logreg.train_model`."
   ]
  },
  {
   "cell_type": "code",
   "execution_count": 366,
   "metadata": {},
   "outputs": [],
   "source": [
    "reload(logreg);"
   ]
  },
  {
   "cell_type": "code",
   "execution_count": 357,
   "metadata": {},
   "outputs": [],
   "source": [
    "# build a new model with a fixed seed\n",
    "torch.manual_seed(765)\n",
    "model = logreg.build_linear(X_tr,Y_tr)\n",
    "model.add_module('softmax',torch.nn.LogSoftmax(dim=1))"
   ]
  },
  {
   "cell_type": "code",
   "execution_count": 358,
   "metadata": {},
   "outputs": [
    {
     "name": "stdout",
     "output_type": "stream",
     "text": [
      "Epoch 1: Dev Accuracy: 0.2822222222222222\n",
      "Epoch 11: Dev Accuracy: 0.29555555555555557\n",
      "Epoch 21: Dev Accuracy: 0.29555555555555557\n",
      "Epoch 31: Dev Accuracy: 0.31333333333333335\n",
      "Epoch 41: Dev Accuracy: 0.31777777777777777\n",
      "Epoch 51: Dev Accuracy: 0.35777777777777775\n",
      "Epoch 61: Dev Accuracy: 0.41333333333333333\n",
      "Epoch 71: Dev Accuracy: 0.3488888888888889\n",
      "Epoch 81: Dev Accuracy: 0.35333333333333333\n",
      "Epoch 91: Dev Accuracy: 0.34444444444444444\n"
     ]
    }
   ],
   "source": [
    "model_trained, losses, accuracies = logreg.train_model(loss,model,\n",
    "                                                       X_tr_var,\n",
    "                                                       Y_tr_var,\n",
    "                                                       X_dv_var=X_dv_var,\n",
    "                                                       Y_dv_var = Y_dv_var,\n",
    "                                                       num_its=100,\n",
    "                                                       optim_args={'lr':0.02})"
   ]
  },
  {
   "cell_type": "code",
   "execution_count": 359,
   "metadata": {},
   "outputs": [
    {
     "data": {
      "image/png": "[encoded data removed]",
      "text/plain": [
       "<Figure size 864x144 with 2 Axes>"
      ]
     },
     "metadata": {
      "needs_background": "light"
     },
     "output_type": "display_data"
    }
   ],
   "source": [
    "logreg.plot_results(losses,accuracies)"
   ]
  },
  {
   "cell_type": "markdown",
   "metadata": {},
   "source": [
    "**Deliverable 4.5**\n",
    "The noisy progress of the loss and dev set accuracy suggests that something is wrong with our hyperparameters. Tune the inputs to `train_model` until you can get to a dev set accuracy of at least 0.5. (6 points)"
   ]
  },
  {
   "cell_type": "code",
   "execution_count": 367,
   "metadata": {},
   "outputs": [],
   "source": [
    "# build a new model with a fixed seed\n",
    "torch.manual_seed(765)\n",
    "model = logreg.build_linear(X_tr,Y_tr)\n",
    "model.add_module('softmax',torch.nn.LogSoftmax(dim=1))"
   ]
  },
  {
   "cell_type": "code",
   "execution_count": 368,
   "metadata": {},
   "outputs": [
    {
     "name": "stdout",
     "output_type": "stream",
     "text": [
      "Epoch 1: Dev Accuracy: 0.2822222222222222\n",
      "Epoch 11: Dev Accuracy: 0.32666666666666666\n",
      "Epoch 21: Dev Accuracy: 0.35555555555555557\n",
      "Epoch 31: Dev Accuracy: 0.3688888888888889\n",
      "Epoch 41: Dev Accuracy: 0.4\n",
      "Epoch 51: Dev Accuracy: 0.41555555555555557\n",
      "Epoch 61: Dev Accuracy: 0.42444444444444446\n",
      "Epoch 71: Dev Accuracy: 0.4266666666666667\n",
      "Epoch 81: Dev Accuracy: 0.42444444444444446\n",
      "Epoch 91: Dev Accuracy: 0.4311111111111111\n",
      "Epoch 101: Dev Accuracy: 0.43777777777777777\n",
      "Epoch 111: Dev Accuracy: 0.4444444444444444\n",
      "Epoch 121: Dev Accuracy: 0.4444444444444444\n",
      "Epoch 131: Dev Accuracy: 0.45111111111111113\n",
      "Epoch 141: Dev Accuracy: 0.45111111111111113\n",
      "Epoch 151: Dev Accuracy: 0.45555555555555555\n",
      "Epoch 161: Dev Accuracy: 0.45555555555555555\n",
      "Epoch 171: Dev Accuracy: 0.4533333333333333\n",
      "Epoch 181: Dev Accuracy: 0.45555555555555555\n",
      "Epoch 191: Dev Accuracy: 0.4533333333333333\n",
      "Epoch 201: Dev Accuracy: 0.4533333333333333\n",
      "Epoch 211: Dev Accuracy: 0.4577777777777778\n",
      "Epoch 221: Dev Accuracy: 0.4622222222222222\n",
      "Epoch 231: Dev Accuracy: 0.46444444444444444\n",
      "Epoch 241: Dev Accuracy: 0.4666666666666667\n",
      "Epoch 251: Dev Accuracy: 0.4711111111111111\n",
      "Epoch 261: Dev Accuracy: 0.4711111111111111\n",
      "Epoch 271: Dev Accuracy: 0.4711111111111111\n",
      "Epoch 281: Dev Accuracy: 0.47555555555555556\n",
      "Epoch 291: Dev Accuracy: 0.47555555555555556\n",
      "Epoch 301: Dev Accuracy: 0.47555555555555556\n",
      "Epoch 311: Dev Accuracy: 0.48\n",
      "Epoch 321: Dev Accuracy: 0.4777777777777778\n",
      "Epoch 331: Dev Accuracy: 0.4822222222222222\n",
      "Epoch 341: Dev Accuracy: 0.4822222222222222\n",
      "Epoch 351: Dev Accuracy: 0.4866666666666667\n",
      "Epoch 361: Dev Accuracy: 0.4888888888888889\n",
      "Epoch 371: Dev Accuracy: 0.4955555555555556\n",
      "Epoch 381: Dev Accuracy: 0.4955555555555556\n",
      "Epoch 391: Dev Accuracy: 0.49777777777777776\n",
      "Epoch 401: Dev Accuracy: 0.5044444444444445\n",
      "Epoch 411: Dev Accuracy: 0.5022222222222222\n",
      "Epoch 421: Dev Accuracy: 0.5022222222222222\n",
      "Epoch 431: Dev Accuracy: 0.5022222222222222\n",
      "Epoch 441: Dev Accuracy: 0.5022222222222222\n",
      "Epoch 451: Dev Accuracy: 0.5044444444444445\n",
      "Epoch 461: Dev Accuracy: 0.5044444444444445\n",
      "Epoch 471: Dev Accuracy: 0.5022222222222222\n",
      "Epoch 481: Dev Accuracy: 0.5022222222222222\n",
      "Epoch 491: Dev Accuracy: 0.5022222222222222\n",
      "Epoch 501: Dev Accuracy: 0.5022222222222222\n",
      "Epoch 511: Dev Accuracy: 0.5022222222222222\n",
      "Epoch 521: Dev Accuracy: 0.5\n",
      "Epoch 531: Dev Accuracy: 0.4955555555555556\n",
      "Epoch 541: Dev Accuracy: 0.4955555555555556\n",
      "Epoch 551: Dev Accuracy: 0.4955555555555556\n",
      "Epoch 561: Dev Accuracy: 0.4955555555555556\n",
      "Epoch 571: Dev Accuracy: 0.49777777777777776\n",
      "Epoch 581: Dev Accuracy: 0.5022222222222222\n",
      "Epoch 591: Dev Accuracy: 0.5022222222222222\n",
      "Epoch 601: Dev Accuracy: 0.5\n",
      "Epoch 611: Dev Accuracy: 0.5\n",
      "Epoch 621: Dev Accuracy: 0.5\n",
      "Epoch 631: Dev Accuracy: 0.5\n",
      "Epoch 641: Dev Accuracy: 0.5\n",
      "Epoch 651: Dev Accuracy: 0.49777777777777776\n",
      "Epoch 661: Dev Accuracy: 0.49777777777777776\n",
      "Epoch 671: Dev Accuracy: 0.5044444444444445\n",
      "Epoch 681: Dev Accuracy: 0.5066666666666667\n",
      "Epoch 691: Dev Accuracy: 0.5066666666666667\n",
      "Epoch 701: Dev Accuracy: 0.5066666666666667\n",
      "Epoch 711: Dev Accuracy: 0.5066666666666667\n",
      "Epoch 721: Dev Accuracy: 0.5066666666666667\n",
      "Epoch 731: Dev Accuracy: 0.5044444444444445\n",
      "Epoch 741: Dev Accuracy: 0.5044444444444445\n",
      "Epoch 751: Dev Accuracy: 0.5066666666666667\n",
      "Epoch 761: Dev Accuracy: 0.5088888888888888\n",
      "Epoch 771: Dev Accuracy: 0.5088888888888888\n",
      "Epoch 781: Dev Accuracy: 0.5088888888888888\n",
      "Epoch 791: Dev Accuracy: 0.5088888888888888\n",
      "Epoch 801: Dev Accuracy: 0.5088888888888888\n",
      "Epoch 811: Dev Accuracy: 0.5066666666666667\n",
      "Epoch 821: Dev Accuracy: 0.5066666666666667\n",
      "Epoch 831: Dev Accuracy: 0.5088888888888888\n",
      "Epoch 841: Dev Accuracy: 0.5111111111111111\n",
      "Epoch 851: Dev Accuracy: 0.5111111111111111\n",
      "Epoch 861: Dev Accuracy: 0.5133333333333333\n",
      "Epoch 871: Dev Accuracy: 0.5155555555555555\n",
      "Epoch 881: Dev Accuracy: 0.5155555555555555\n",
      "Epoch 891: Dev Accuracy: 0.5155555555555555\n",
      "Epoch 901: Dev Accuracy: 0.5155555555555555\n",
      "Epoch 911: Dev Accuracy: 0.5133333333333333\n",
      "Epoch 921: Dev Accuracy: 0.5133333333333333\n",
      "Epoch 931: Dev Accuracy: 0.5133333333333333\n",
      "Epoch 941: Dev Accuracy: 0.5133333333333333\n",
      "Epoch 951: Dev Accuracy: 0.5133333333333333\n",
      "Epoch 961: Dev Accuracy: 0.5133333333333333\n",
      "Epoch 971: Dev Accuracy: 0.5133333333333333\n",
      "Epoch 981: Dev Accuracy: 0.5133333333333333\n",
      "Epoch 991: Dev Accuracy: 0.5155555555555555\n",
      "Epoch 1001: Dev Accuracy: 0.5155555555555555\n",
      "Epoch 1011: Dev Accuracy: 0.5155555555555555\n",
      "Epoch 1021: Dev Accuracy: 0.5155555555555555\n",
      "Epoch 1031: Dev Accuracy: 0.5133333333333333\n",
      "Epoch 1041: Dev Accuracy: 0.5133333333333333\n",
      "Epoch 1051: Dev Accuracy: 0.5133333333333333\n",
      "Epoch 1061: Dev Accuracy: 0.5133333333333333\n",
      "Epoch 1071: Dev Accuracy: 0.5133333333333333\n",
      "Epoch 1081: Dev Accuracy: 0.5133333333333333\n",
      "Epoch 1091: Dev Accuracy: 0.5133333333333333\n",
      "Epoch 1101: Dev Accuracy: 0.5133333333333333\n",
      "Epoch 1111: Dev Accuracy: 0.5133333333333333\n",
      "Epoch 1121: Dev Accuracy: 0.5133333333333333\n",
      "Epoch 1131: Dev Accuracy: 0.5133333333333333\n",
      "Epoch 1141: Dev Accuracy: 0.5155555555555555\n",
      "Epoch 1151: Dev Accuracy: 0.5155555555555555\n",
      "Epoch 1161: Dev Accuracy: 0.5155555555555555\n",
      "Epoch 1171: Dev Accuracy: 0.5177777777777778\n",
      "Epoch 1181: Dev Accuracy: 0.5177777777777778\n",
      "Epoch 1191: Dev Accuracy: 0.5177777777777778\n",
      "Epoch 1201: Dev Accuracy: 0.5177777777777778\n",
      "Epoch 1211: Dev Accuracy: 0.5177777777777778\n",
      "Epoch 1221: Dev Accuracy: 0.5155555555555555\n",
      "Epoch 1231: Dev Accuracy: 0.5155555555555555\n",
      "Epoch 1241: Dev Accuracy: 0.5155555555555555\n",
      "Epoch 1251: Dev Accuracy: 0.5155555555555555\n",
      "Epoch 1261: Dev Accuracy: 0.5155555555555555\n",
      "Epoch 1271: Dev Accuracy: 0.5155555555555555\n",
      "Epoch 1281: Dev Accuracy: 0.5155555555555555\n",
      "Epoch 1291: Dev Accuracy: 0.5155555555555555\n",
      "Epoch 1301: Dev Accuracy: 0.5155555555555555\n",
      "Epoch 1311: Dev Accuracy: 0.5155555555555555\n",
      "Epoch 1321: Dev Accuracy: 0.5155555555555555\n",
      "Epoch 1331: Dev Accuracy: 0.5155555555555555\n",
      "Epoch 1341: Dev Accuracy: 0.5155555555555555\n",
      "Epoch 1351: Dev Accuracy: 0.5155555555555555\n",
      "Epoch 1361: Dev Accuracy: 0.5155555555555555\n",
      "Epoch 1371: Dev Accuracy: 0.5133333333333333\n",
      "Epoch 1381: Dev Accuracy: 0.5133333333333333\n",
      "Epoch 1391: Dev Accuracy: 0.5133333333333333\n",
      "Epoch 1401: Dev Accuracy: 0.5133333333333333\n",
      "Epoch 1411: Dev Accuracy: 0.5133333333333333\n",
      "Epoch 1421: Dev Accuracy: 0.5111111111111111\n",
      "Epoch 1431: Dev Accuracy: 0.5111111111111111\n",
      "Epoch 1441: Dev Accuracy: 0.5133333333333333\n",
      "Epoch 1451: Dev Accuracy: 0.5133333333333333\n",
      "Epoch 1461: Dev Accuracy: 0.5133333333333333\n",
      "Epoch 1471: Dev Accuracy: 0.5133333333333333\n",
      "Epoch 1481: Dev Accuracy: 0.5133333333333333\n",
      "Epoch 1491: Dev Accuracy: 0.5133333333333333\n",
      "Epoch 1501: Dev Accuracy: 0.5133333333333333\n",
      "Epoch 1511: Dev Accuracy: 0.5133333333333333\n",
      "Epoch 1521: Dev Accuracy: 0.5133333333333333\n",
      "Epoch 1531: Dev Accuracy: 0.5133333333333333\n",
      "Epoch 1541: Dev Accuracy: 0.5111111111111111\n",
      "Epoch 1551: Dev Accuracy: 0.5111111111111111\n",
      "Epoch 1561: Dev Accuracy: 0.5111111111111111\n",
      "Epoch 1571: Dev Accuracy: 0.5111111111111111\n",
      "Epoch 1581: Dev Accuracy: 0.5111111111111111\n",
      "Epoch 1591: Dev Accuracy: 0.5111111111111111\n",
      "Epoch 1601: Dev Accuracy: 0.5111111111111111\n",
      "Epoch 1611: Dev Accuracy: 0.5111111111111111\n",
      "Epoch 1621: Dev Accuracy: 0.5111111111111111\n",
      "Epoch 1631: Dev Accuracy: 0.5111111111111111\n",
      "Epoch 1641: Dev Accuracy: 0.5111111111111111\n",
      "Epoch 1651: Dev Accuracy: 0.5111111111111111\n",
      "Epoch 1661: Dev Accuracy: 0.5111111111111111\n",
      "Epoch 1671: Dev Accuracy: 0.5111111111111111\n",
      "Epoch 1681: Dev Accuracy: 0.5111111111111111\n",
      "Epoch 1691: Dev Accuracy: 0.5111111111111111\n",
      "Epoch 1701: Dev Accuracy: 0.5111111111111111\n",
      "Epoch 1711: Dev Accuracy: 0.5111111111111111\n",
      "Epoch 1721: Dev Accuracy: 0.5111111111111111\n",
      "Epoch 1731: Dev Accuracy: 0.5133333333333333\n",
      "Epoch 1741: Dev Accuracy: 0.5133333333333333\n",
      "Epoch 1751: Dev Accuracy: 0.5133333333333333\n",
      "Epoch 1761: Dev Accuracy: 0.5133333333333333\n",
      "Epoch 1771: Dev Accuracy: 0.5155555555555555\n",
      "Epoch 1781: Dev Accuracy: 0.5155555555555555\n",
      "Epoch 1791: Dev Accuracy: 0.5155555555555555\n",
      "Epoch 1801: Dev Accuracy: 0.5155555555555555\n",
      "Epoch 1811: Dev Accuracy: 0.5155555555555555\n",
      "Epoch 1821: Dev Accuracy: 0.5155555555555555\n",
      "Epoch 1831: Dev Accuracy: 0.5155555555555555\n",
      "Epoch 1841: Dev Accuracy: 0.5155555555555555\n",
      "Epoch 1851: Dev Accuracy: 0.5155555555555555\n",
      "Epoch 1861: Dev Accuracy: 0.5155555555555555\n",
      "Epoch 1871: Dev Accuracy: 0.5155555555555555\n"
     ]
    },
    {
     "name": "stdout",
     "output_type": "stream",
     "text": [
      "Epoch 1881: Dev Accuracy: 0.5155555555555555\n",
      "Epoch 1891: Dev Accuracy: 0.5133333333333333\n",
      "Epoch 1901: Dev Accuracy: 0.5133333333333333\n",
      "Epoch 1911: Dev Accuracy: 0.5133333333333333\n",
      "Epoch 1921: Dev Accuracy: 0.5133333333333333\n",
      "Epoch 1931: Dev Accuracy: 0.5155555555555555\n",
      "Epoch 1941: Dev Accuracy: 0.5155555555555555\n",
      "Epoch 1951: Dev Accuracy: 0.5155555555555555\n",
      "Epoch 1961: Dev Accuracy: 0.5155555555555555\n",
      "Epoch 1971: Dev Accuracy: 0.5155555555555555\n",
      "Epoch 1981: Dev Accuracy: 0.5155555555555555\n",
      "Epoch 1991: Dev Accuracy: 0.5155555555555555\n",
      "Epoch 2001: Dev Accuracy: 0.5155555555555555\n",
      "Epoch 2011: Dev Accuracy: 0.5133333333333333\n",
      "Epoch 2021: Dev Accuracy: 0.5133333333333333\n",
      "Epoch 2031: Dev Accuracy: 0.5133333333333333\n",
      "Epoch 2041: Dev Accuracy: 0.5133333333333333\n",
      "Epoch 2051: Dev Accuracy: 0.5133333333333333\n",
      "Epoch 2061: Dev Accuracy: 0.5111111111111111\n",
      "Epoch 2071: Dev Accuracy: 0.5133333333333333\n",
      "Epoch 2081: Dev Accuracy: 0.5133333333333333\n",
      "Epoch 2091: Dev Accuracy: 0.5111111111111111\n",
      "Epoch 2101: Dev Accuracy: 0.5111111111111111\n",
      "Epoch 2111: Dev Accuracy: 0.5133333333333333\n",
      "Epoch 2121: Dev Accuracy: 0.5133333333333333\n",
      "Epoch 2131: Dev Accuracy: 0.5133333333333333\n",
      "Epoch 2141: Dev Accuracy: 0.5133333333333333\n",
      "Epoch 2151: Dev Accuracy: 0.5111111111111111\n",
      "Epoch 2161: Dev Accuracy: 0.5111111111111111\n",
      "Epoch 2171: Dev Accuracy: 0.5111111111111111\n",
      "Epoch 2181: Dev Accuracy: 0.5111111111111111\n",
      "Epoch 2191: Dev Accuracy: 0.5111111111111111\n",
      "Epoch 2201: Dev Accuracy: 0.5111111111111111\n",
      "Epoch 2211: Dev Accuracy: 0.5133333333333333\n",
      "Epoch 2221: Dev Accuracy: 0.5133333333333333\n",
      "Epoch 2231: Dev Accuracy: 0.5133333333333333\n",
      "Epoch 2241: Dev Accuracy: 0.5133333333333333\n",
      "Epoch 2251: Dev Accuracy: 0.5133333333333333\n",
      "Epoch 2261: Dev Accuracy: 0.5133333333333333\n",
      "Epoch 2271: Dev Accuracy: 0.5133333333333333\n",
      "Epoch 2281: Dev Accuracy: 0.5133333333333333\n",
      "Epoch 2291: Dev Accuracy: 0.5133333333333333\n",
      "Epoch 2301: Dev Accuracy: 0.5133333333333333\n",
      "Epoch 2311: Dev Accuracy: 0.5155555555555555\n",
      "Epoch 2321: Dev Accuracy: 0.5133333333333333\n",
      "Epoch 2331: Dev Accuracy: 0.5133333333333333\n",
      "Epoch 2341: Dev Accuracy: 0.5133333333333333\n",
      "Epoch 2351: Dev Accuracy: 0.5133333333333333\n",
      "Epoch 2361: Dev Accuracy: 0.5133333333333333\n",
      "Epoch 2371: Dev Accuracy: 0.5133333333333333\n",
      "Epoch 2381: Dev Accuracy: 0.5133333333333333\n",
      "Epoch 2391: Dev Accuracy: 0.5111111111111111\n",
      "Epoch 2401: Dev Accuracy: 0.5111111111111111\n",
      "Epoch 2411: Dev Accuracy: 0.5111111111111111\n",
      "Epoch 2421: Dev Accuracy: 0.5111111111111111\n",
      "Epoch 2431: Dev Accuracy: 0.5111111111111111\n",
      "Epoch 2441: Dev Accuracy: 0.5111111111111111\n",
      "Epoch 2451: Dev Accuracy: 0.5088888888888888\n",
      "Epoch 2461: Dev Accuracy: 0.5088888888888888\n",
      "Epoch 2471: Dev Accuracy: 0.5088888888888888\n",
      "Epoch 2481: Dev Accuracy: 0.5088888888888888\n",
      "Epoch 2491: Dev Accuracy: 0.5088888888888888\n",
      "Epoch 2501: Dev Accuracy: 0.5088888888888888\n",
      "Epoch 2511: Dev Accuracy: 0.5088888888888888\n",
      "Epoch 2521: Dev Accuracy: 0.5088888888888888\n",
      "Epoch 2531: Dev Accuracy: 0.5088888888888888\n",
      "Epoch 2541: Dev Accuracy: 0.5088888888888888\n",
      "Epoch 2551: Dev Accuracy: 0.5088888888888888\n",
      "Epoch 2561: Dev Accuracy: 0.5088888888888888\n",
      "Epoch 2571: Dev Accuracy: 0.5088888888888888\n",
      "Epoch 2581: Dev Accuracy: 0.5088888888888888\n",
      "Epoch 2591: Dev Accuracy: 0.5088888888888888\n",
      "Epoch 2601: Dev Accuracy: 0.5088888888888888\n",
      "Epoch 2611: Dev Accuracy: 0.5088888888888888\n",
      "Epoch 2621: Dev Accuracy: 0.5088888888888888\n",
      "Epoch 2631: Dev Accuracy: 0.5088888888888888\n",
      "Epoch 2641: Dev Accuracy: 0.5088888888888888\n",
      "Epoch 2651: Dev Accuracy: 0.5088888888888888\n",
      "Epoch 2661: Dev Accuracy: 0.5088888888888888\n",
      "Epoch 2671: Dev Accuracy: 0.5088888888888888\n",
      "Epoch 2681: Dev Accuracy: 0.5088888888888888\n",
      "Epoch 2691: Dev Accuracy: 0.5088888888888888\n",
      "Epoch 2701: Dev Accuracy: 0.5088888888888888\n",
      "Epoch 2711: Dev Accuracy: 0.5088888888888888\n",
      "Epoch 2721: Dev Accuracy: 0.5088888888888888\n",
      "Epoch 2731: Dev Accuracy: 0.5088888888888888\n",
      "Epoch 2741: Dev Accuracy: 0.5088888888888888\n",
      "Epoch 2751: Dev Accuracy: 0.5088888888888888\n",
      "Epoch 2761: Dev Accuracy: 0.5088888888888888\n",
      "Epoch 2771: Dev Accuracy: 0.5088888888888888\n",
      "Epoch 2781: Dev Accuracy: 0.5088888888888888\n",
      "Epoch 2791: Dev Accuracy: 0.5088888888888888\n",
      "Epoch 2801: Dev Accuracy: 0.5088888888888888\n",
      "Epoch 2811: Dev Accuracy: 0.5088888888888888\n",
      "Epoch 2821: Dev Accuracy: 0.5088888888888888\n",
      "Epoch 2831: Dev Accuracy: 0.5088888888888888\n",
      "Epoch 2841: Dev Accuracy: 0.5111111111111111\n",
      "Epoch 2851: Dev Accuracy: 0.5111111111111111\n",
      "Epoch 2861: Dev Accuracy: 0.5111111111111111\n",
      "Epoch 2871: Dev Accuracy: 0.5111111111111111\n",
      "Epoch 2881: Dev Accuracy: 0.5111111111111111\n",
      "Epoch 2891: Dev Accuracy: 0.5088888888888888\n",
      "Epoch 2901: Dev Accuracy: 0.5088888888888888\n",
      "Epoch 2911: Dev Accuracy: 0.5088888888888888\n",
      "Epoch 2921: Dev Accuracy: 0.5111111111111111\n",
      "Epoch 2931: Dev Accuracy: 0.5111111111111111\n",
      "Epoch 2941: Dev Accuracy: 0.5111111111111111\n",
      "Epoch 2951: Dev Accuracy: 0.5111111111111111\n",
      "Epoch 2961: Dev Accuracy: 0.5111111111111111\n",
      "Epoch 2971: Dev Accuracy: 0.5111111111111111\n",
      "Epoch 2981: Dev Accuracy: 0.5111111111111111\n",
      "Epoch 2991: Dev Accuracy: 0.5111111111111111\n",
      "Epoch 3001: Dev Accuracy: 0.5111111111111111\n",
      "Epoch 3011: Dev Accuracy: 0.5111111111111111\n",
      "Epoch 3021: Dev Accuracy: 0.5111111111111111\n",
      "Epoch 3031: Dev Accuracy: 0.5111111111111111\n",
      "Epoch 3041: Dev Accuracy: 0.5111111111111111\n",
      "Epoch 3051: Dev Accuracy: 0.5111111111111111\n",
      "Epoch 3061: Dev Accuracy: 0.5111111111111111\n",
      "Epoch 3071: Dev Accuracy: 0.5111111111111111\n",
      "Epoch 3081: Dev Accuracy: 0.5111111111111111\n",
      "Epoch 3091: Dev Accuracy: 0.5111111111111111\n",
      "Epoch 3101: Dev Accuracy: 0.5111111111111111\n",
      "Epoch 3111: Dev Accuracy: 0.5111111111111111\n",
      "Epoch 3121: Dev Accuracy: 0.5111111111111111\n",
      "Epoch 3131: Dev Accuracy: 0.5111111111111111\n",
      "Epoch 3141: Dev Accuracy: 0.5111111111111111\n",
      "Epoch 3151: Dev Accuracy: 0.5111111111111111\n",
      "Epoch 3161: Dev Accuracy: 0.5133333333333333\n",
      "Epoch 3171: Dev Accuracy: 0.5111111111111111\n",
      "Epoch 3181: Dev Accuracy: 0.5111111111111111\n",
      "Epoch 3191: Dev Accuracy: 0.5111111111111111\n",
      "Epoch 3201: Dev Accuracy: 0.5111111111111111\n",
      "Epoch 3211: Dev Accuracy: 0.5111111111111111\n",
      "Epoch 3221: Dev Accuracy: 0.5111111111111111\n",
      "Epoch 3231: Dev Accuracy: 0.5111111111111111\n",
      "Epoch 3241: Dev Accuracy: 0.5111111111111111\n",
      "Epoch 3251: Dev Accuracy: 0.5111111111111111\n",
      "Epoch 3261: Dev Accuracy: 0.5111111111111111\n",
      "Epoch 3271: Dev Accuracy: 0.5111111111111111\n",
      "Epoch 3281: Dev Accuracy: 0.5111111111111111\n",
      "Epoch 3291: Dev Accuracy: 0.5111111111111111\n",
      "Epoch 3301: Dev Accuracy: 0.5111111111111111\n",
      "Epoch 3311: Dev Accuracy: 0.5111111111111111\n",
      "Epoch 3321: Dev Accuracy: 0.5111111111111111\n",
      "Epoch 3331: Dev Accuracy: 0.5111111111111111\n",
      "Epoch 3341: Dev Accuracy: 0.5111111111111111\n",
      "Epoch 3351: Dev Accuracy: 0.5111111111111111\n",
      "Epoch 3361: Dev Accuracy: 0.5111111111111111\n",
      "Epoch 3371: Dev Accuracy: 0.5111111111111111\n",
      "Epoch 3381: Dev Accuracy: 0.5111111111111111\n",
      "Epoch 3391: Dev Accuracy: 0.5133333333333333\n",
      "Epoch 3401: Dev Accuracy: 0.5133333333333333\n",
      "Epoch 3411: Dev Accuracy: 0.5133333333333333\n",
      "Epoch 3421: Dev Accuracy: 0.5133333333333333\n",
      "Epoch 3431: Dev Accuracy: 0.5133333333333333\n",
      "Epoch 3441: Dev Accuracy: 0.5133333333333333\n",
      "Epoch 3451: Dev Accuracy: 0.5133333333333333\n",
      "Epoch 3461: Dev Accuracy: 0.5133333333333333\n",
      "Epoch 3471: Dev Accuracy: 0.5133333333333333\n",
      "Epoch 3481: Dev Accuracy: 0.5133333333333333\n",
      "Epoch 3491: Dev Accuracy: 0.5133333333333333\n",
      "Epoch 3501: Dev Accuracy: 0.5133333333333333\n",
      "Epoch 3511: Dev Accuracy: 0.5133333333333333\n",
      "Epoch 3521: Dev Accuracy: 0.5133333333333333\n",
      "Epoch 3531: Dev Accuracy: 0.5133333333333333\n",
      "Epoch 3541: Dev Accuracy: 0.5133333333333333\n",
      "Epoch 3551: Dev Accuracy: 0.5133333333333333\n",
      "Epoch 3561: Dev Accuracy: 0.5133333333333333\n",
      "Epoch 3571: Dev Accuracy: 0.5133333333333333\n",
      "Epoch 3581: Dev Accuracy: 0.5133333333333333\n",
      "Epoch 3591: Dev Accuracy: 0.5133333333333333\n",
      "Epoch 3601: Dev Accuracy: 0.5133333333333333\n",
      "Epoch 3611: Dev Accuracy: 0.5133333333333333\n",
      "Epoch 3621: Dev Accuracy: 0.5133333333333333\n",
      "Epoch 3631: Dev Accuracy: 0.5133333333333333\n",
      "Epoch 3641: Dev Accuracy: 0.5133333333333333\n",
      "Epoch 3651: Dev Accuracy: 0.5111111111111111\n",
      "Epoch 3661: Dev Accuracy: 0.5111111111111111\n",
      "Epoch 3671: Dev Accuracy: 0.5111111111111111\n",
      "Epoch 3681: Dev Accuracy: 0.5111111111111111\n",
      "Epoch 3691: Dev Accuracy: 0.5133333333333333\n",
      "Epoch 3701: Dev Accuracy: 0.5133333333333333\n"
     ]
    },
    {
     "name": "stdout",
     "output_type": "stream",
     "text": [
      "Epoch 3711: Dev Accuracy: 0.5133333333333333\n",
      "Epoch 3721: Dev Accuracy: 0.5133333333333333\n",
      "Epoch 3731: Dev Accuracy: 0.5133333333333333\n",
      "Epoch 3741: Dev Accuracy: 0.5133333333333333\n",
      "Epoch 3751: Dev Accuracy: 0.5133333333333333\n",
      "Epoch 3761: Dev Accuracy: 0.5133333333333333\n",
      "Epoch 3771: Dev Accuracy: 0.5133333333333333\n",
      "Epoch 3781: Dev Accuracy: 0.5133333333333333\n",
      "Epoch 3791: Dev Accuracy: 0.5133333333333333\n",
      "Epoch 3801: Dev Accuracy: 0.5133333333333333\n",
      "Epoch 3811: Dev Accuracy: 0.5133333333333333\n",
      "Epoch 3821: Dev Accuracy: 0.5133333333333333\n",
      "Epoch 3831: Dev Accuracy: 0.5133333333333333\n",
      "Epoch 3841: Dev Accuracy: 0.5133333333333333\n",
      "Epoch 3851: Dev Accuracy: 0.5133333333333333\n",
      "Epoch 3861: Dev Accuracy: 0.5133333333333333\n",
      "Epoch 3871: Dev Accuracy: 0.5133333333333333\n",
      "Epoch 3881: Dev Accuracy: 0.5133333333333333\n",
      "Epoch 3891: Dev Accuracy: 0.5133333333333333\n",
      "Epoch 3901: Dev Accuracy: 0.5133333333333333\n",
      "Epoch 3911: Dev Accuracy: 0.5133333333333333\n",
      "Epoch 3921: Dev Accuracy: 0.5133333333333333\n",
      "Epoch 3931: Dev Accuracy: 0.5133333333333333\n",
      "Epoch 3941: Dev Accuracy: 0.5133333333333333\n",
      "Epoch 3951: Dev Accuracy: 0.5133333333333333\n",
      "Epoch 3961: Dev Accuracy: 0.5133333333333333\n",
      "Epoch 3971: Dev Accuracy: 0.5133333333333333\n",
      "Epoch 3981: Dev Accuracy: 0.5133333333333333\n",
      "Epoch 3991: Dev Accuracy: 0.5155555555555555\n",
      "Epoch 4001: Dev Accuracy: 0.5155555555555555\n",
      "Epoch 4011: Dev Accuracy: 0.5155555555555555\n",
      "Epoch 4021: Dev Accuracy: 0.5155555555555555\n",
      "Epoch 4031: Dev Accuracy: 0.5155555555555555\n",
      "Epoch 4041: Dev Accuracy: 0.5155555555555555\n",
      "Epoch 4051: Dev Accuracy: 0.5155555555555555\n",
      "Epoch 4061: Dev Accuracy: 0.5155555555555555\n",
      "Epoch 4071: Dev Accuracy: 0.5155555555555555\n",
      "Epoch 4081: Dev Accuracy: 0.5155555555555555\n",
      "Epoch 4091: Dev Accuracy: 0.5155555555555555\n",
      "Epoch 4101: Dev Accuracy: 0.5155555555555555\n",
      "Epoch 4111: Dev Accuracy: 0.5155555555555555\n",
      "Epoch 4121: Dev Accuracy: 0.5155555555555555\n",
      "Epoch 4131: Dev Accuracy: 0.5155555555555555\n",
      "Epoch 4141: Dev Accuracy: 0.5155555555555555\n",
      "Epoch 4151: Dev Accuracy: 0.5155555555555555\n",
      "Epoch 4161: Dev Accuracy: 0.5155555555555555\n",
      "Epoch 4171: Dev Accuracy: 0.5155555555555555\n",
      "Epoch 4181: Dev Accuracy: 0.5155555555555555\n",
      "Epoch 4191: Dev Accuracy: 0.5155555555555555\n",
      "Epoch 4201: Dev Accuracy: 0.5155555555555555\n",
      "Epoch 4211: Dev Accuracy: 0.5155555555555555\n",
      "Epoch 4221: Dev Accuracy: 0.5155555555555555\n",
      "Epoch 4231: Dev Accuracy: 0.5155555555555555\n",
      "Epoch 4241: Dev Accuracy: 0.5155555555555555\n",
      "Epoch 4251: Dev Accuracy: 0.5155555555555555\n",
      "Epoch 4261: Dev Accuracy: 0.5155555555555555\n",
      "Epoch 4271: Dev Accuracy: 0.5155555555555555\n",
      "Epoch 4281: Dev Accuracy: 0.5155555555555555\n",
      "Epoch 4291: Dev Accuracy: 0.5155555555555555\n",
      "Epoch 4301: Dev Accuracy: 0.5155555555555555\n",
      "Epoch 4311: Dev Accuracy: 0.5155555555555555\n",
      "Epoch 4321: Dev Accuracy: 0.5155555555555555\n",
      "Epoch 4331: Dev Accuracy: 0.5155555555555555\n",
      "Epoch 4341: Dev Accuracy: 0.5155555555555555\n",
      "Epoch 4351: Dev Accuracy: 0.5155555555555555\n",
      "Epoch 4361: Dev Accuracy: 0.5155555555555555\n",
      "Epoch 4371: Dev Accuracy: 0.5155555555555555\n",
      "Epoch 4381: Dev Accuracy: 0.5133333333333333\n",
      "Epoch 4391: Dev Accuracy: 0.5133333333333333\n",
      "Epoch 4401: Dev Accuracy: 0.5155555555555555\n",
      "Epoch 4411: Dev Accuracy: 0.5155555555555555\n",
      "Epoch 4421: Dev Accuracy: 0.5155555555555555\n",
      "Epoch 4431: Dev Accuracy: 0.5155555555555555\n",
      "Epoch 4441: Dev Accuracy: 0.5155555555555555\n",
      "Epoch 4451: Dev Accuracy: 0.5155555555555555\n",
      "Epoch 4461: Dev Accuracy: 0.5155555555555555\n",
      "Epoch 4471: Dev Accuracy: 0.5155555555555555\n",
      "Epoch 4481: Dev Accuracy: 0.5155555555555555\n",
      "Epoch 4491: Dev Accuracy: 0.5155555555555555\n",
      "Epoch 4501: Dev Accuracy: 0.5155555555555555\n",
      "Epoch 4511: Dev Accuracy: 0.5155555555555555\n",
      "Epoch 4521: Dev Accuracy: 0.5155555555555555\n",
      "Epoch 4531: Dev Accuracy: 0.5155555555555555\n",
      "Epoch 4541: Dev Accuracy: 0.5155555555555555\n",
      "Epoch 4551: Dev Accuracy: 0.5155555555555555\n",
      "Epoch 4561: Dev Accuracy: 0.5155555555555555\n",
      "Epoch 4571: Dev Accuracy: 0.5155555555555555\n",
      "Epoch 4581: Dev Accuracy: 0.5155555555555555\n",
      "Epoch 4591: Dev Accuracy: 0.5155555555555555\n",
      "Epoch 4601: Dev Accuracy: 0.5155555555555555\n",
      "Epoch 4611: Dev Accuracy: 0.5155555555555555\n",
      "Epoch 4621: Dev Accuracy: 0.5155555555555555\n",
      "Epoch 4631: Dev Accuracy: 0.5155555555555555\n",
      "Epoch 4641: Dev Accuracy: 0.5155555555555555\n",
      "Epoch 4651: Dev Accuracy: 0.5155555555555555\n",
      "Epoch 4661: Dev Accuracy: 0.52\n",
      "Epoch 4671: Dev Accuracy: 0.52\n",
      "Epoch 4681: Dev Accuracy: 0.52\n",
      "Epoch 4691: Dev Accuracy: 0.52\n",
      "Epoch 4701: Dev Accuracy: 0.52\n",
      "Epoch 4711: Dev Accuracy: 0.52\n",
      "Epoch 4721: Dev Accuracy: 0.52\n",
      "Epoch 4731: Dev Accuracy: 0.52\n",
      "Epoch 4741: Dev Accuracy: 0.5222222222222223\n",
      "Epoch 4751: Dev Accuracy: 0.5222222222222223\n",
      "Epoch 4761: Dev Accuracy: 0.5222222222222223\n",
      "Epoch 4771: Dev Accuracy: 0.5222222222222223\n",
      "Epoch 4781: Dev Accuracy: 0.5222222222222223\n",
      "Epoch 4791: Dev Accuracy: 0.5222222222222223\n",
      "Epoch 4801: Dev Accuracy: 0.5222222222222223\n",
      "Epoch 4811: Dev Accuracy: 0.5222222222222223\n",
      "Epoch 4821: Dev Accuracy: 0.5222222222222223\n",
      "Epoch 4831: Dev Accuracy: 0.5222222222222223\n",
      "Epoch 4841: Dev Accuracy: 0.5222222222222223\n",
      "Epoch 4851: Dev Accuracy: 0.5222222222222223\n",
      "Epoch 4861: Dev Accuracy: 0.5222222222222223\n",
      "Epoch 4871: Dev Accuracy: 0.5222222222222223\n",
      "Epoch 4881: Dev Accuracy: 0.5222222222222223\n",
      "Epoch 4891: Dev Accuracy: 0.5222222222222223\n",
      "Epoch 4901: Dev Accuracy: 0.5222222222222223\n",
      "Epoch 4911: Dev Accuracy: 0.5222222222222223\n",
      "Epoch 4921: Dev Accuracy: 0.5222222222222223\n",
      "Epoch 4931: Dev Accuracy: 0.5222222222222223\n",
      "Epoch 4941: Dev Accuracy: 0.5222222222222223\n",
      "Epoch 4951: Dev Accuracy: 0.5222222222222223\n",
      "Epoch 4961: Dev Accuracy: 0.5222222222222223\n",
      "Epoch 4971: Dev Accuracy: 0.5222222222222223\n",
      "Epoch 4981: Dev Accuracy: 0.5222222222222223\n",
      "Epoch 4991: Dev Accuracy: 0.5222222222222223\n"
     ]
    }
   ],
   "source": [
    "model_trained, losses, accuracies = logreg.train_model(loss,model,\n",
    "                                                       X_tr_var,\n",
    "                                                       Y_tr_var,\n",
    "                                                       X_dv_var=X_dv_var,\n",
    "                                                       Y_dv_var = Y_dv_var,\n",
    "                                                       num_its=5000,\n",
    "                                                       optim_args={'lr':0.005})"
   ]
  },
  {
   "cell_type": "code",
   "execution_count": 369,
   "metadata": {},
   "outputs": [
    {
     "data": {
      "image/png": "[encoded data removed]",
      "text/plain": [
       "<Figure size 864x144 with 2 Axes>"
      ]
     },
     "metadata": {
      "needs_background": "light"
     },
     "output_type": "display_data"
    }
   ],
   "source": [
    "logreg.plot_results(losses,accuracies)"
   ]
  },
  {
   "cell_type": "code",
   "execution_count": 370,
   "metadata": {},
   "outputs": [],
   "source": [
    "_, Y_hat_dv = model_trained.forward(X_dv_var).max(dim=1)\n",
    "np.save('logreg-es-dev.preds.npy', Y_hat_dv.data.numpy())"
   ]
  },
  {
   "cell_type": "code",
   "execution_count": 371,
   "metadata": {},
   "outputs": [
    {
     "name": "stdout",
     "output_type": "stream",
     "text": [
      "0.5222222222222223\n"
     ]
    }
   ],
   "source": [
    "acc = evaluation.acc(np.load('logreg-es-dev.preds.npy'),Y_dv_var.data.numpy())\n",
    "print(acc)"
   ]
  },
  {
   "cell_type": "code",
   "execution_count": 372,
   "metadata": {},
   "outputs": [],
   "source": [
    "_, Y_hat_te = model.forward(X_te_var).max(dim=1)\n",
    "np.save('logreg-es-test.preds.npy', Y_hat_te.data.numpy())"
   ]
  },
  {
   "cell_type": "markdown",
   "metadata": {},
   "source": [
    "**Test Results**"
   ]
  },
  {
   "cell_type": "code",
   "execution_count": 373,
   "metadata": {},
   "outputs": [
    {
     "name": "stdout",
     "output_type": "stream",
     "text": [
      ".\n",
      "----------------------------------------------------------------------\n",
      "Ran 1 test in 52.028s\n",
      "\n",
      "OK\n",
      ".\n",
      "----------------------------------------------------------------------\n",
      "Ran 1 test in 46.919s\n",
      "\n",
      "OK\n",
      ".\n",
      "----------------------------------------------------------------------\n",
      "Ran 1 test in 49.970s\n",
      "\n",
      "OK\n",
      ".\n",
      "----------------------------------------------------------------------\n",
      "Ran 1 test in 48.387s\n",
      "\n",
      "OK\n"
     ]
    }
   ],
   "source": [
    "! nosetests tests/test_pytorch.py:test_d5_1_numpy\n",
    "! nosetests tests/test_pytorch.py:test_d5_2_logreg\n",
    "! nosetests tests/test_pytorch.py:test_d5_3_log_softmax\n",
    "! nosetests tests/test_pytorch.py:test_d5_4_nll_loss"
   ]
  },
  {
   "cell_type": "markdown",
   "metadata": {},
   "source": [
    "# 5. Feature analysis\n",
    "\n",
    "Total: 10 points\n"
   ]
  },
  {
   "cell_type": "markdown",
   "metadata": {},
   "source": [
    "## 5.1 Top Features for Logistic Regression\n",
    "\n",
    "- **Deliverable 5.1**: Implement ```get_top_features_for_label_torch``` in ```features.py```. (10 points)\n",
    "- **Test**: `tests/test_features.py:test_d6_2_topfeat_torch`\n",
    "\n",
    "**Hint**: Extract linear layer weights from the PyTorch model."
   ]
  },
  {
   "cell_type": "code",
   "execution_count": 442,
   "metadata": {},
   "outputs": [],
   "source": [
    "from gtnlplib import features\n",
    "reload(features);"
   ]
  },
  {
   "cell_type": "markdown",
   "metadata": {},
   "source": [
    "Load a fixed model so we have reproducible results. Feel free to change it to your own model."
   ]
  },
  {
   "cell_type": "code",
   "execution_count": 443,
   "metadata": {},
   "outputs": [],
   "source": [
    "model_test = torch.load('tests/test_weights.torch')"
   ]
  },
  {
   "cell_type": "code",
   "execution_count": 444,
   "metadata": {},
   "outputs": [
    {
     "data": {
      "text/plain": [
       "['love', 'lovin', 'and', 'baby', 'on']"
      ]
     },
     "execution_count": 444,
     "metadata": {},
     "output_type": "execute_result"
    }
   ],
   "source": [
    "features.get_top_features_for_label_torch(model_test, vocab, label_set,'pre-1980',5)"
   ]
  },
  {
   "cell_type": "code",
   "execution_count": 445,
   "metadata": {},
   "outputs": [
    {
     "data": {
      "text/plain": [
       "['here', 'power', 'jam', 'saw', 'yeah', 'want', 'yall']"
      ]
     },
     "execution_count": 445,
     "metadata": {},
     "output_type": "execute_result"
    }
   ],
   "source": [
    "features.get_top_features_for_label_torch(model_test, vocab, label_set,'1990s',7)"
   ]
  },
  {
   "cell_type": "markdown",
   "metadata": {},
   "source": [
    "**Test Results**"
   ]
  },
  {
   "cell_type": "code",
   "execution_count": 447,
   "metadata": {},
   "outputs": [
    {
     "name": "stdout",
     "output_type": "stream",
     "text": [
      "/Users/yuchengjin/anaconda3/lib/python3.7/site-packages/torch/serialization.py:493: SourceChangeWarning: source code of class 'torch.nn.modules.container.Sequential' has changed. you can retrieve the original source code by accessing the object's source attribute or set `torch.nn.Module.dump_patches = True` and use the patch tool to revert the changes.\r\n",
      "  warnings.warn(msg, SourceChangeWarning)\r\n",
      "/Users/yuchengjin/anaconda3/lib/python3.7/site-packages/torch/serialization.py:493: SourceChangeWarning: source code of class 'torch.nn.modules.linear.Linear' has changed. you can retrieve the original source code by accessing the object's source attribute or set `torch.nn.Module.dump_patches = True` and use the patch tool to revert the changes.\r\n",
      "  warnings.warn(msg, SourceChangeWarning)\r\n",
      "/Users/yuchengjin/anaconda3/lib/python3.7/site-packages/torch/serialization.py:493: SourceChangeWarning: source code of class 'torch.nn.modules.activation.LogSoftmax' has changed. you can retrieve the original source code by accessing the object's source attribute or set `torch.nn.Module.dump_patches = True` and use the patch tool to revert the changes.\r\n",
      "  warnings.warn(msg, SourceChangeWarning)\r\n",
      ".\r\n",
      "----------------------------------------------------------------------\r\n",
      "Ran 1 test in 42.272s\r\n",
      "\r\n",
      "OK\r\n"
     ]
    }
   ],
   "source": [
    "! nosetests tests/test_features.py:test_d6_2_topfeat_torch"
   ]
  },
  {
   "cell_type": "markdown",
   "metadata": {},
   "source": [
    "# 6. Precision, Recall, and F1 (Bonus question)\n",
    "\n",
    "Besides accuracy, systems in natural language processing are evaluated using precision, recall, and F1. Such measures are essential when evaluating on an unbalanced dataset in terms of classes (labels). Write a function below that takes in a predicted labels 'Y_hat' and gold labels 'Y', and returns the precision, recall, and F1.\n",
    "\n",
    "Total: 20 points"
   ]
  },
  {
   "cell_type": "code",
   "execution_count": 517,
   "metadata": {},
   "outputs": [],
   "source": [
    "# This calculates the unweighted precision, recall, and f1 score.\n",
    "# The unweighted precision, recall, and f1 score are obtained by calculating the precision, recall, and \n",
    "# f1 score of each label respectively, and take the unweighted averages of them.\n",
    "def get_PRF(Y_hat, Y):\n",
    "    #your code goes here\n",
    "    Y_hat = np.array(Y_hat)\n",
    "    Y = np.array(Y)\n",
    "    labels = set(Y_hat) and set(Y)\n",
    "    total = len(Y)\n",
    "    support = {}\n",
    "    actual = {}\n",
    "    pred_right = {}\n",
    "    for label in labels:\n",
    "        support[label] = np.count_nonzero(Y_hat == label)\n",
    "        actual[label] = np.count_nonzero(Y == label)\n",
    "    for i in range(len(Y_hat)):\n",
    "        if Y_hat[i] == Y[i]:\n",
    "            if Y_hat[i] not in pred_right.keys():\n",
    "                pred_right[Y_hat[i]] = 1\n",
    "            else:\n",
    "                pred_right[Y_hat[i]] += 1\n",
    "    Precision = {}\n",
    "    Recall = {}\n",
    "    F1 = {}\n",
    "    for label in labels:\n",
    "        Precision[label] = pred_right[label]/support[label]\n",
    "        Recall[label] = pred_right[label]/actual[label]\n",
    "        F1[label] = 2 * Precision[label] * Recall[label] / (Precision[label] + Recall[label])\n",
    "    precision = sum(Precision.values())/len(labels)\n",
    "    recall = sum(Recall.values())/len(labels)\n",
    "    f1 = sum(F1.values())/len(labels)\n",
    "    return precision, recall, f1"
   ]
  },
  {
   "cell_type": "code",
   "execution_count": 518,
   "metadata": {},
   "outputs": [
    {
     "name": "stdout",
     "output_type": "stream",
     "text": [
      "(0.5012451765737741, 0.5042070698007792, 0.49997087710117516)\n"
     ]
    }
   ],
   "source": [
    "print(get_PRF(Y_hat_dv, Y_dv))"
   ]
  },
  {
   "cell_type": "markdown",
   "metadata": {},
   "source": [
    "**Test the results of my algorithm with the results of sklearn.metrics.precision_score, sklearn.metrics.recall_score, and sklearn.metrics.f1_score**"
   ]
  },
  {
   "cell_type": "code",
   "execution_count": 520,
   "metadata": {},
   "outputs": [
    {
     "name": "stdout",
     "output_type": "stream",
     "text": [
      "Precision: 0.5012451765737741\n",
      "Recall: 0.5042070698007792\n",
      "F1: 0.49997087710117516\n",
      "Test passed for unweighted precision, recall, and f1 score.\n"
     ]
    }
   ],
   "source": [
    "print(\"Precision:\",metrics.precision_score(Y_dv, Y_hat_dv, average = 'macro'))\n",
    "print(\"Recall:\",metrics.recall_score(Y_dv, Y_hat_dv, average = 'macro'))\n",
    "print(\"F1:\",metrics.f1_score(Y_dv, Y_hat_dv, average = 'macro'))\n",
    "if get_PRF(Y_hat_dv, Y_dv) == (metrics.precision_score(Y_dv, Y_hat_dv, average = 'macro'),\n",
    "                              metrics.recall_score(Y_dv, Y_hat_dv, average = 'macro'),\n",
    "                              metrics.f1_score(Y_dv, Y_hat_dv, average = 'macro')):\n",
    "    print(\"Test passed for unweighted precision, recall, and f1 score.\")"
   ]
  },
  {
   "cell_type": "code",
   "execution_count": 525,
   "metadata": {},
   "outputs": [],
   "source": [
    "# This calculates the weighted precision, recall, and f1 score.\n",
    "# The weighted precision, recall, and f1 score are obtained by calculating the precision, recall, and \n",
    "# f1 score of each label respectively, and take the weighted averages of them.\n",
    "def get_PRF_weighted(Y_hat, Y):\n",
    "    #your code goes here\n",
    "    Y_hat = np.array(Y_hat)\n",
    "    Y = np.array(Y)\n",
    "    labels = set(Y_hat) and set(Y)\n",
    "    total = len(Y)\n",
    "    support = {}\n",
    "    actual = {}\n",
    "    pred_right = {}\n",
    "    for label in labels:\n",
    "        support[label] = np.count_nonzero(Y_hat == label)\n",
    "        actual[label] = np.count_nonzero(Y == label)\n",
    "    for i in range(len(Y_hat)):\n",
    "        if Y_hat[i] == Y[i]:\n",
    "            if Y_hat[i] not in pred_right.keys():\n",
    "                pred_right[Y_hat[i]] = 1\n",
    "            else:\n",
    "                pred_right[Y_hat[i]] += 1\n",
    "    Precision = {}\n",
    "    Recall = {}\n",
    "    F1 = {}\n",
    "    for label in labels:\n",
    "        Precision[label] = pred_right[label]/support[label]\n",
    "        Recall[label] = pred_right[label]/actual[label]\n",
    "        F1[label] = 2 * Precision[label] * Recall[label] / (Precision[label] + Recall[label])\n",
    "    precision = 0\n",
    "    recall = 0\n",
    "    f1 = 0\n",
    "    for label in labels:\n",
    "        precision += Precision[label] * actual[label] / total\n",
    "        recall += Recall[label] * actual[label] / total\n",
    "        f1 += F1[label] * actual[label] / total\n",
    "    return precision, recall, f1"
   ]
  },
  {
   "cell_type": "code",
   "execution_count": 526,
   "metadata": {},
   "outputs": [
    {
     "name": "stdout",
     "output_type": "stream",
     "text": [
      "(0.5108404846525847, 0.5222222222222223, 0.5138266534538458)\n"
     ]
    }
   ],
   "source": [
    "print(get_PRF_weighted(Y_hat_dv, Y_dv))"
   ]
  },
  {
   "cell_type": "markdown",
   "metadata": {},
   "source": [
    "**Test the results of my algorithm with the results of sklearn.metrics.precision_score, sklearn.metrics.recall_score, and sklearn.metrics.f1_score**"
   ]
  },
  {
   "cell_type": "code",
   "execution_count": 530,
   "metadata": {},
   "outputs": [
    {
     "name": "stdout",
     "output_type": "stream",
     "text": [
      "Precision: 0.5108404846525847\n",
      "Recall: 0.5222222222222223\n",
      "F-1: 0.5138266534538458\n",
      "Test passed for weighted precision, recall, and f1 score.\n"
     ]
    }
   ],
   "source": [
    "from sklearn import metrics\n",
    "print(\"Precision:\",metrics.precision_score(Y_dv, Y_hat_dv, average = 'weighted'))\n",
    "print(\"Recall:\",metrics.recall_score(Y_dv, Y_hat_dv, average = 'weighted'))\n",
    "print(\"F-1:\", metrics.f1_score(Y_dv, Y_hat_dv, average = 'weighted'))\n",
    "if get_PRF_weighted(Y_hat_dv, Y_dv) == (metrics.precision_score(Y_dv, Y_hat_dv, average = 'weighted'),\n",
    "                              metrics.recall_score(Y_dv, Y_hat_dv, average = 'weighted'),\n",
    "                              metrics.f1_score(Y_dv, Y_hat_dv, average = 'weighted')):\n",
    "    print(\"Test passed for weighted precision, recall, and f1 score.\")"
   ]
  }
 ],
 "metadata": {
  "kernelspec": {
   "display_name": "Python 3",
   "language": "python",
   "name": "python3"
  },
  "language_info": {
   "codemirror_mode": {
    "name": "ipython",
    "version": 3
   },
   "file_extension": ".py",
   "mimetype": "text/x-python",
   "name": "python",
   "nbconvert_exporter": "python",
   "pygments_lexer": "ipython3",
   "version": "3.7.3"
  }
 },
 "nbformat": 4,
 "nbformat_minor": 2
}
